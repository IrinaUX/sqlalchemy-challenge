{
 "cells": [
  {
   "cell_type": "code",
   "execution_count": 1,
   "metadata": {},
   "outputs": [],
   "source": [
    "%matplotlib inline\n",
    "from matplotlib import style\n",
    "style.use('fivethirtyeight')\n",
    "import matplotlib.pyplot as plt\n",
    "import sqlalchemy\n",
    "from sqlalchemy.orm import Session\n",
    "from sqlalchemy import create_engine, func\n",
    "from sqlalchemy.ext.automap import automap_base"
   ]
  },
  {
   "cell_type": "code",
   "execution_count": 2,
   "metadata": {},
   "outputs": [],
   "source": [
    "import numpy as np\n",
    "import pandas as pd"
   ]
  },
  {
   "cell_type": "code",
   "execution_count": 3,
   "metadata": {},
   "outputs": [],
   "source": [
    "import datetime as dt"
   ]
  },
  {
   "cell_type": "code",
   "execution_count": 5,
   "metadata": {},
   "outputs": [],
   "source": [
    "database_path = \"Resources/hawaii.sqlite\"\n",
    "engine = sqlalchemy.create_engine(f\"sqlite:///{database_path}\")"
   ]
  },
  {
   "cell_type": "markdown",
   "metadata": {},
   "source": [
    "# Reflect Tables into SQLAlchemy ORM"
   ]
  },
  {
   "cell_type": "code",
   "execution_count": 6,
   "metadata": {},
   "outputs": [
    {
     "data": {
      "text/plain": [
       "['measurement', 'station']"
      ]
     },
     "execution_count": 6,
     "metadata": {},
     "output_type": "execute_result"
    }
   ],
   "source": [
    "# Python SQL toolkit and Object Relational Mapper\n",
    "Base = automap_base()\n",
    "Base.prepare(engine, reflect=True)\n",
    "\n",
    "# We can view all of the classes that automap found\n",
    "Base.classes.keys()"
   ]
  },
  {
   "cell_type": "code",
   "execution_count": 7,
   "metadata": {},
   "outputs": [],
   "source": [
    "# Map Measurement and Station tables\n",
    "Measurement = Base.classes.measurement\n",
    "Station = Base.classes.station"
   ]
  },
  {
   "cell_type": "code",
   "execution_count": 9,
   "metadata": {},
   "outputs": [],
   "source": [
    "# Create our session (link) from Python to the DB\n",
    "session = Session(engine)"
   ]
  },
  {
   "cell_type": "markdown",
   "metadata": {},
   "source": [
    "# Exploratory Climate Analysis"
   ]
  },
  {
   "cell_type": "code",
   "execution_count": 11,
   "metadata": {},
   "outputs": [
    {
     "data": {
      "text/plain": [
       "'2017-08-23'"
      ]
     },
     "execution_count": 11,
     "metadata": {},
     "output_type": "execute_result"
    }
   ],
   "source": [
    "# Save latest date into a variable and in string type\n",
    "latest_date = session.query(Measurement.date).order_by(Measurement.date.desc()).first()[0]\n",
    "latest_date"
   ]
  },
  {
   "cell_type": "code",
   "execution_count": 12,
   "metadata": {},
   "outputs": [
    {
     "data": {
      "text/plain": [
       "2017"
      ]
     },
     "execution_count": 12,
     "metadata": {},
     "output_type": "execute_result"
    }
   ],
   "source": [
    "# Find the latest year\n",
    "date_time_obj = dt.datetime.strptime(latest_date, '%Y-%m-%d') # %H:%M:%S.%f\n",
    "date_time_obj.year"
   ]
  },
  {
   "cell_type": "code",
   "execution_count": 13,
   "metadata": {},
   "outputs": [
    {
     "data": {
      "text/plain": [
       "2016"
      ]
     },
     "execution_count": 13,
     "metadata": {},
     "output_type": "execute_result"
    }
   ],
   "source": [
    "# Last year from latest date's year\n",
    "one_year_back = date_time_obj.year - 1\n",
    "one_year_back"
   ]
  },
  {
   "cell_type": "code",
   "execution_count": 14,
   "metadata": {},
   "outputs": [
    {
     "data": {
      "text/plain": [
       "datetime.date(2016, 8, 23)"
      ]
     },
     "execution_count": 14,
     "metadata": {},
     "output_type": "execute_result"
    }
   ],
   "source": [
    "# Reconstruct the date 12 months back from the latest available date\n",
    "latest_twelve_months_date = dt.date(one_year_back, date_time_obj.month, date_time_obj.day)\n",
    "latest_twelve_months_date"
   ]
  },
  {
   "cell_type": "code",
   "execution_count": 15,
   "metadata": {},
   "outputs": [],
   "source": [
    "# Check which columns does the Measurement table has\n",
    "# Try with inspect module\n",
    "from sqlalchemy import inspect"
   ]
  },
  {
   "cell_type": "code",
   "execution_count": 16,
   "metadata": {},
   "outputs": [
    {
     "data": {
      "text/plain": [
       "<Mapper at 0x7fdd64ea8cd0; measurement>"
      ]
     },
     "execution_count": 16,
     "metadata": {},
     "output_type": "execute_result"
    }
   ],
   "source": [
    "# Use inspect to create an object to check the columns' names\n",
    "inst = inspect(Measurement)\n",
    "inst"
   ]
  },
  {
   "cell_type": "code",
   "execution_count": 17,
   "metadata": {},
   "outputs": [
    {
     "data": {
      "text/plain": [
       "['id', 'station', 'date', 'prcp', 'tobs']"
      ]
     },
     "execution_count": 17,
     "metadata": {},
     "output_type": "execute_result"
    }
   ],
   "source": [
    "# Get columns' names from Measurement table using mapper method on inst object\n",
    "attr_names = [c_attr.key for c_attr in inst.mapper.column_attrs]\n",
    "attr_names"
   ]
  },
  {
   "cell_type": "code",
   "execution_count": 18,
   "metadata": {},
   "outputs": [],
   "source": [
    "# Try getting columns with reflect module\n",
    "Base = automap_base()\n",
    "Base.prepare(engine, reflect=True)\n",
    "Base.classes.keys()\n",
    "Meas = Base.classes.measurement\n",
    "Sta = Base.classes.station"
   ]
  },
  {
   "cell_type": "code",
   "execution_count": 19,
   "metadata": {},
   "outputs": [
    {
     "name": "stdout",
     "output_type": "stream",
     "text": [
      "(2365, 'USC00519397', '2016-08-24', 0.08, 79.0)\n",
      "(2366, 'USC00519397', '2016-08-25', 0.08, 80.0)\n",
      "(2367, 'USC00519397', '2016-08-26', 0.0, 79.0)\n",
      "(2368, 'USC00519397', '2016-08-27', 0.0, 77.0)\n",
      "(2369, 'USC00519397', '2016-08-28', 0.01, 78.0)\n"
     ]
    }
   ],
   "source": [
    "# Use the session to query Meas table and display the first 5 entries\n",
    "for row in session.query(Meas.id, Meas.station, Meas.date, Meas.prcp, Meas.tobs).\\\n",
    "    filter(Meas.date > latest_twelve_months_date).\\\n",
    "    filter(Meas.date <= latest_date).\\\n",
    "    limit(5).all():\n",
    "    print(row)"
   ]
  },
  {
   "cell_type": "code",
   "execution_count": 20,
   "metadata": {},
   "outputs": [
    {
     "name": "stdout",
     "output_type": "stream",
     "text": [
      "There are 2015 entries including precipitation 'None' values.\n"
     ]
    }
   ],
   "source": [
    "# Check count before and after filtering precipitation 'None'\n",
    "prcp_list = []\n",
    "date_list = []\n",
    "for row in session.query(Meas.date, Meas.prcp).\\\n",
    "    order_by(Meas.date.desc()).\\\n",
    "    filter(Meas.date <= latest_date).\\\n",
    "    filter(Meas.date > latest_twelve_months_date).\\\n",
    "    filter(Meas.prcp != 'None').\\\n",
    "    all():\n",
    "    prcp_list.append(row[1])\n",
    "    date_list.append(row[0])\n",
    "    #print(f\"Date: {row[0]}, precipitation {row[1]}\")\n",
    "len(prcp_list)\n",
    "print(f\"There are {len(prcp_list)} entries including precipitation 'None' values.\")    "
   ]
  },
  {
   "cell_type": "code",
   "execution_count": 23,
   "metadata": {},
   "outputs": [
    {
     "data": {
      "text/plain": [
       "DatetimeIndex(['2017-08-23', '2017-08-23', '2017-08-23', '2017-08-23',\n",
       "               '2017-08-22', '2017-08-22', '2017-08-22', '2017-08-21',\n",
       "               '2017-08-21', '2017-08-21',\n",
       "               ...\n",
       "               '2016-08-25', '2016-08-25', '2016-08-25', '2016-08-25',\n",
       "               '2016-08-24', '2016-08-24', '2016-08-24', '2016-08-24',\n",
       "               '2016-08-24', '2016-08-24'],\n",
       "              dtype='datetime64[ns]', length=2015, freq=None)"
      ]
     },
     "execution_count": 23,
     "metadata": {},
     "output_type": "execute_result"
    }
   ],
   "source": [
    "# Convert date list into datetime format for easier handling of plotting\n",
    "date_list_datetime = pd.to_datetime(date_list)\n",
    "date_list_datetime"
   ]
  },
  {
   "cell_type": "code",
   "execution_count": 24,
   "metadata": {},
   "outputs": [],
   "source": [
    "# Save precipitation and date into variables using list comprehension\n",
    "prcp = [row[1] for row in session.query(Meas.date, Meas.prcp).\\\n",
    "    order_by(Measurement.date.desc()).\\\n",
    "    filter(Meas.date <= latest_date).\\\n",
    "    filter(Meas.date > latest_twelve_months_date).\\\n",
    "    filter(Meas.prcp != 'None').\\\n",
    "    all()]\n",
    "date = [row[0] for row in session.query(Meas.date, Meas.prcp).\\\n",
    "    order_by(Measurement.date.desc()).\\\n",
    "    filter(Meas.date <= latest_date).\\\n",
    "    filter(Meas.date > latest_twelve_months_date).\\\n",
    "    filter(Meas.prcp != 'None').\\\n",
    "    all()]"
   ]
  },
  {
   "cell_type": "code",
   "execution_count": 26,
   "metadata": {},
   "outputs": [],
   "source": [
    "# # Create Precipitation dataframe to explore plotting options easier\n",
    "# prcp_df = pd.DataFrame({'Date': date, 'Precipitation': prcp})\n",
    "# prcp_df.head()"
   ]
  },
  {
   "cell_type": "code",
   "execution_count": 27,
   "metadata": {},
   "outputs": [
    {
     "data": {
      "text/html": [
       "<div>\n",
       "<style scoped>\n",
       "    .dataframe tbody tr th:only-of-type {\n",
       "        vertical-align: middle;\n",
       "    }\n",
       "\n",
       "    .dataframe tbody tr th {\n",
       "        vertical-align: top;\n",
       "    }\n",
       "\n",
       "    .dataframe thead th {\n",
       "        text-align: right;\n",
       "    }\n",
       "</style>\n",
       "<table border=\"1\" class=\"dataframe\">\n",
       "  <thead>\n",
       "    <tr style=\"text-align: right;\">\n",
       "      <th></th>\n",
       "      <th>Date</th>\n",
       "      <th>Precipitation</th>\n",
       "    </tr>\n",
       "  </thead>\n",
       "  <tbody>\n",
       "    <tr>\n",
       "      <th>0</th>\n",
       "      <td>2017-08-23</td>\n",
       "      <td>0.00</td>\n",
       "    </tr>\n",
       "    <tr>\n",
       "      <th>1</th>\n",
       "      <td>2017-08-23</td>\n",
       "      <td>0.00</td>\n",
       "    </tr>\n",
       "    <tr>\n",
       "      <th>2</th>\n",
       "      <td>2017-08-23</td>\n",
       "      <td>0.08</td>\n",
       "    </tr>\n",
       "    <tr>\n",
       "      <th>3</th>\n",
       "      <td>2017-08-23</td>\n",
       "      <td>0.45</td>\n",
       "    </tr>\n",
       "    <tr>\n",
       "      <th>4</th>\n",
       "      <td>2017-08-22</td>\n",
       "      <td>0.00</td>\n",
       "    </tr>\n",
       "  </tbody>\n",
       "</table>\n",
       "</div>"
      ],
      "text/plain": [
       "        Date  Precipitation\n",
       "0 2017-08-23           0.00\n",
       "1 2017-08-23           0.00\n",
       "2 2017-08-23           0.08\n",
       "3 2017-08-23           0.45\n",
       "4 2017-08-22           0.00"
      ]
     },
     "execution_count": 27,
     "metadata": {},
     "output_type": "execute_result"
    }
   ],
   "source": [
    "# Create Precipitation dataframe to explore plotting options easier\n",
    "prcp_df = pd.DataFrame({'Date': date_list_datetime, 'Precipitation': prcp_list})\n",
    "prcp_df.head()"
   ]
  },
  {
   "cell_type": "code",
   "execution_count": 28,
   "metadata": {},
   "outputs": [
    {
     "data": {
      "text/plain": [
       "pandas._libs.tslibs.timestamps.Timestamp"
      ]
     },
     "execution_count": 28,
     "metadata": {},
     "output_type": "execute_result"
    }
   ],
   "source": [
    "type(prcp_df['Date'][0]) # datetime type"
   ]
  },
  {
   "cell_type": "code",
   "execution_count": 29,
   "metadata": {},
   "outputs": [
    {
     "name": "stdout",
     "output_type": "stream",
     "text": [
      "There are 365 entries when group by date, as expected for the latest 12 months.\n"
     ]
    }
   ],
   "source": [
    "# Check if grouped by day give 1 year equivalent - 365\n",
    "grouped_prcp = [row[1] for row in session.query(Meas.date, Meas.prcp).group_by(Meas.date).\\\n",
    "    order_by(Measurement.date.desc()).\\\n",
    "    filter(Meas.date <= latest_date).\\\n",
    "    filter(Meas.date > latest_twelve_months_date).\\\n",
    "    filter(Meas.prcp != 'None').\\\n",
    "    all()]\n",
    "grouped_date = [row[0] for row in session.query(Meas.date, Meas.prcp).group_by(Meas.date).\\\n",
    "    order_by(Measurement.date.desc()).\\\n",
    "    filter(Meas.date <= latest_date).\\\n",
    "    filter(Meas.date > latest_twelve_months_date).\\\n",
    "    filter(Meas.prcp != 'None').\\\n",
    "    all()]\n",
    "print(f\"There are {len(grouped_date)} entries when group by date, as expected for the latest 12 months.\")"
   ]
  },
  {
   "cell_type": "code",
   "execution_count": 30,
   "metadata": {},
   "outputs": [
    {
     "data": {
      "text/plain": [
       "365"
      ]
     },
     "execution_count": 30,
     "metadata": {},
     "output_type": "execute_result"
    }
   ],
   "source": [
    "# Create dataframe from the grouped lists for comparison\n",
    "prcp_grouped_df = pd.DataFrame({'Date': grouped_date, 'Precipitation': grouped_prcp})\n",
    "len(prcp_grouped_df)"
   ]
  },
  {
   "cell_type": "code",
   "execution_count": 31,
   "metadata": {},
   "outputs": [
    {
     "name": "stdout",
     "output_type": "stream",
     "text": [
      "<class 'pandas.core.frame.DataFrame'>\n",
      "RangeIndex: 2015 entries, 0 to 2014\n",
      "Data columns (total 2 columns):\n",
      " #   Column         Non-Null Count  Dtype         \n",
      "---  ------         --------------  -----         \n",
      " 0   Date           2015 non-null   datetime64[ns]\n",
      " 1   Precipitation  2015 non-null   float64       \n",
      "dtypes: datetime64[ns](1), float64(1)\n",
      "memory usage: 31.6 KB\n"
     ]
    }
   ],
   "source": [
    "#  Check the dataframe columns and their data types\n",
    "prcp_df.info()"
   ]
  },
  {
   "cell_type": "code",
   "execution_count": 32,
   "metadata": {},
   "outputs": [],
   "source": [
    "# Use resample method on the Date column to sum grouped by date 'M' month\n",
    "prcp = prcp_df.set_index('Date').resample('M')[\"Precipitation\"].sum()"
   ]
  },
  {
   "cell_type": "code",
   "execution_count": 33,
   "metadata": {},
   "outputs": [
    {
     "data": {
      "text/plain": [
       "pandas.core.series.Series"
      ]
     },
     "execution_count": 33,
     "metadata": {},
     "output_type": "execute_result"
    }
   ],
   "source": [
    "# Create data frame from the pandas series above\n",
    "type(prcp)"
   ]
  },
  {
   "cell_type": "code",
   "execution_count": 34,
   "metadata": {},
   "outputs": [
    {
     "data": {
      "text/plain": [
       "Text(0, 0.5, 'Accumulated Precipitation')"
      ]
     },
     "execution_count": 34,
     "metadata": {},
     "output_type": "execute_result"
    },
    {
     "data": {
      "image/png": "[encoded data removed]",
      "text/plain": [
       "<Figure size 432x288 with 1 Axes>"
      ]
     },
     "metadata": {},
     "output_type": "display_data"
    }
   ],
   "source": [
    "prcp.plot(kind='bar')\n",
    "plt.title(\"Monthly Accumulated Precipitation for the latest 12 months\")\n",
    "plt.xlabel(\"Months\")\n",
    "plt.ylabel(\"Accumulated Precipitation\")"
   ]
  },
  {
   "cell_type": "code",
   "execution_count": 35,
   "metadata": {},
   "outputs": [
    {
     "data": {
      "text/html": [
       "<div>\n",
       "<style scoped>\n",
       "    .dataframe tbody tr th:only-of-type {\n",
       "        vertical-align: middle;\n",
       "    }\n",
       "\n",
       "    .dataframe tbody tr th {\n",
       "        vertical-align: top;\n",
       "    }\n",
       "\n",
       "    .dataframe thead th {\n",
       "        text-align: right;\n",
       "    }\n",
       "</style>\n",
       "<table border=\"1\" class=\"dataframe\">\n",
       "  <thead>\n",
       "    <tr style=\"text-align: right;\">\n",
       "      <th></th>\n",
       "      <th>Date</th>\n",
       "      <th>Precipitation</th>\n",
       "    </tr>\n",
       "  </thead>\n",
       "  <tbody>\n",
       "    <tr>\n",
       "      <th>0</th>\n",
       "      <td>2016-08-31</td>\n",
       "      <td>18.10</td>\n",
       "    </tr>\n",
       "    <tr>\n",
       "      <th>1</th>\n",
       "      <td>2016-09-30</td>\n",
       "      <td>49.40</td>\n",
       "    </tr>\n",
       "    <tr>\n",
       "      <th>2</th>\n",
       "      <td>2016-10-31</td>\n",
       "      <td>21.77</td>\n",
       "    </tr>\n",
       "    <tr>\n",
       "      <th>3</th>\n",
       "      <td>2016-11-30</td>\n",
       "      <td>20.56</td>\n",
       "    </tr>\n",
       "    <tr>\n",
       "      <th>4</th>\n",
       "      <td>2016-12-31</td>\n",
       "      <td>35.51</td>\n",
       "    </tr>\n",
       "  </tbody>\n",
       "</table>\n",
       "</div>"
      ],
      "text/plain": [
       "        Date  Precipitation\n",
       "0 2016-08-31          18.10\n",
       "1 2016-09-30          49.40\n",
       "2 2016-10-31          21.77\n",
       "3 2016-11-30          20.56\n",
       "4 2016-12-31          35.51"
      ]
     },
     "execution_count": 35,
     "metadata": {},
     "output_type": "execute_result"
    }
   ],
   "source": [
    "prcp_reset = prcp.reset_index()\n",
    "prcp_reset.head()"
   ]
  },
  {
   "cell_type": "code",
   "execution_count": 36,
   "metadata": {},
   "outputs": [
    {
     "data": {
      "text/plain": [
       "pandas.core.frame.DataFrame"
      ]
     },
     "execution_count": 36,
     "metadata": {},
     "output_type": "execute_result"
    }
   ],
   "source": [
    "type(prcp_reset)"
   ]
  },
  {
   "cell_type": "code",
   "execution_count": 37,
   "metadata": {},
   "outputs": [
    {
     "data": {
      "text/plain": [
       "(array([736208., 736269., 736330., 736389., 736450., 736511., 736573.]),\n",
       " <a list of 7 Text xticklabel objects>)"
      ]
     },
     "execution_count": 37,
     "metadata": {},
     "output_type": "execute_result"
    },
    {
     "data": {
      "image/png": "[encoded data removed]",
      "text/plain": [
       "<Figure size 432x288 with 1 Axes>"
      ]
     },
     "metadata": {},
     "output_type": "display_data"
    }
   ],
   "source": [
    "# Plot precipitation using plt.plot() method\n",
    "x_axis = prcp_reset['Date']\n",
    "y_axis = prcp_reset['Precipitation']\n",
    "plt.bar(x_axis, y_axis, color='salmon', width=15, align=\"center\")\n",
    "plt.title(\"Monthly precipitation in the latest 12 months\")\n",
    "plt.xlabel(\"Precipitation by month\")\n",
    "plt.ylabel(\"Precipitation\")\n",
    "plt.xticks(rotation='vertical')"
   ]
  },
  {
   "cell_type": "markdown",
   "metadata": {},
   "source": [
    "## Station Analysis"
   ]
  },
  {
   "cell_type": "markdown",
   "metadata": {},
   "source": [
    "### Total number of stations"
   ]
  },
  {
   "cell_type": "code",
   "execution_count": 38,
   "metadata": {},
   "outputs": [],
   "source": [
    "# Design a query to calculate the total number of stations.\n",
    "# Try getting columns with reflect module\n",
    "Base = automap_base()\n",
    "Base.prepare(engine, reflect=True)\n",
    "Base.classes.keys()\n",
    "Measurement = Base.classes.measurement\n",
    "Station = Base.classes.station"
   ]
  },
  {
   "cell_type": "code",
   "execution_count": 39,
   "metadata": {},
   "outputs": [
    {
     "data": {
      "text/plain": [
       "<Mapper at 0x7fdd65379d30; station>"
      ]
     },
     "execution_count": 39,
     "metadata": {},
     "output_type": "execute_result"
    }
   ],
   "source": [
    "# Use inspect to create an object to check the columns' names\n",
    "inst_sta = inspect(Station)\n",
    "inst_sta"
   ]
  },
  {
   "cell_type": "code",
   "execution_count": 41,
   "metadata": {},
   "outputs": [
    {
     "data": {
      "text/plain": [
       "['id', 'station', 'name', 'latitude', 'longitude', 'elevation']"
      ]
     },
     "execution_count": 41,
     "metadata": {},
     "output_type": "execute_result"
    }
   ],
   "source": [
    "# Get columns' names from Station table using mapper method on inst object\n",
    "attr_names = [c_attr.key for c_attr in inst_sta.mapper.column_attrs]\n",
    "attr_names"
   ]
  },
  {
   "cell_type": "code",
   "execution_count": 42,
   "metadata": {},
   "outputs": [
    {
     "data": {
      "text/plain": [
       "[(1, 'WAIKIKI 717.2, HI US', 21.2716, -157.8168, 3.0),\n",
       " (2, 'KANEOHE 838.1, HI US', 21.4234, -157.8015, 14.6),\n",
       " (3, 'KUALOA RANCH HEADQUARTERS 886.9, HI US', 21.5213, -157.8374, 7.0),\n",
       " (4, 'PEARL CITY, HI US', 21.3934, -157.9751, 11.9),\n",
       " (5, 'UPPER WAHIAWA 874.3, HI US', 21.4992, -158.0111, 306.6),\n",
       " (6, 'WAIMANALO EXPERIMENTAL FARM, HI US', 21.33556, -157.71139, 19.5),\n",
       " (7, 'WAIHEE 837.5, HI US', 21.45167, -157.84888999999998, 32.9),\n",
       " (8, 'HONOLULU OBSERVATORY 702.2, HI US', 21.3152, -157.9992, 0.9),\n",
       " (9, 'MANOA LYON ARBO 785.2, HI US', 21.3331, -157.8025, 152.4)]"
      ]
     },
     "execution_count": 42,
     "metadata": {},
     "output_type": "execute_result"
    }
   ],
   "source": [
    "# Query all station names\n",
    "session.query(Station.id, Station.name,  Station.latitude, Station.longitude, Station.elevation).all()"
   ]
  },
  {
   "cell_type": "code",
   "execution_count": 43,
   "metadata": {},
   "outputs": [
    {
     "name": "stdout",
     "output_type": "stream",
     "text": [
      "There are total of 9 stations in Station table.\n"
     ]
    }
   ],
   "source": [
    "# Query the stations and count the number\n",
    "station_count = session.query(Station.id).count()\n",
    "print(f\"There are total of {station_count} stations in Station table.\")"
   ]
  },
  {
   "cell_type": "markdown",
   "metadata": {},
   "source": [
    "### Highest altitude station"
   ]
  },
  {
   "cell_type": "code",
   "execution_count": 44,
   "metadata": {},
   "outputs": [],
   "source": [
    "# Design a query to find the most active stations\n",
    "  # a. List the stations and observation counts in descending order.\n",
    "  # b. Which station has the highest number of observations?\n",
    "  # Hint: You will need to use a function such as `func.min`, `func.max`, `func.avg`, and `func.count` in your queries."
   ]
  },
  {
   "cell_type": "code",
   "execution_count": 46,
   "metadata": {},
   "outputs": [
    {
     "data": {
      "text/plain": [
       "[(306.6, 'UPPER WAHIAWA 874.3, HI US'),\n",
       " (152.4, 'MANOA LYON ARBO 785.2, HI US'),\n",
       " (32.9, 'WAIHEE 837.5, HI US'),\n",
       " (19.5, 'WAIMANALO EXPERIMENTAL FARM, HI US'),\n",
       " (14.6, 'KANEOHE 838.1, HI US'),\n",
       " (11.9, 'PEARL CITY, HI US'),\n",
       " (7.0, 'KUALOA RANCH HEADQUARTERS 886.9, HI US'),\n",
       " (3.0, 'WAIKIKI 717.2, HI US'),\n",
       " (0.9, 'HONOLULU OBSERVATORY 702.2, HI US')]"
      ]
     },
     "execution_count": 46,
     "metadata": {},
     "output_type": "execute_result"
    }
   ],
   "source": [
    "# Design a query to find the highest altitude stations\n",
    "# a. List the stations and elevations in descending order.\n",
    "sta_elev_desc = session.query(Station.elevation, Station.name).\\\n",
    "    order_by(Station.elevation.desc()).all()\n",
    "sta_elev_desc"
   ]
  },
  {
   "cell_type": "code",
   "execution_count": 47,
   "metadata": {},
   "outputs": [
    {
     "name": "stdout",
     "output_type": "stream",
     "text": [
      "The UPPER WAHIAWA 874.3 station - Elev: 306.6.\n"
     ]
    }
   ],
   "source": [
    "#b. Which station has the highest elevation?\n",
    "sta_highest_elevation = session.query(Station.elevation, Station.name).\\\n",
    "    order_by(Station.elevation.desc()).first()\n",
    "print(f\"The {sta_highest_elevation[1].split(',')[0]} station - Elev: {sta_highest_elevation[0]}.\")"
   ]
  },
  {
   "cell_type": "code",
   "execution_count": 48,
   "metadata": {},
   "outputs": [],
   "source": [
    "#b. Write a function to identify which station has the highest elevation?\n",
    "def get_station_with_highest_elevation(table_name):\n",
    "    # Get the highest elevation value using func.max()\n",
    "    sta_highest_elevation = session.query(func.max(table_name.elevation)).first()\n",
    "    # Save the first index from the results into sta_highest_elevation variable\n",
    "    sta_highest_elevation = sta_highest_elevation[0]\n",
    "    # Query and save the name of the station with the highest elevation\n",
    "    sta_high_name = session.query(Station.name, Station.elevation).\\\n",
    "    filter(Station.elevation == sta_highest_elevation).first()\n",
    "    # Convert result to a string and get the name of the station\n",
    "    sta_high_name_str = str(sta_high_name[0])\n",
    "    sta_high_name_str = sta_high_name_str.split(',')[0]\n",
    "    # Return the two variables\n",
    "    return sta_highest_elevation, sta_high_name_str"
   ]
  },
  {
   "cell_type": "code",
   "execution_count": 49,
   "metadata": {},
   "outputs": [],
   "source": [
    "#b. Write a function to identify which station has the highest observation?\n",
    "def get_station_with_highest_observation(table_name):\n",
    "    # Get the highest observation value using func.max()\n",
    "    sta_highest_observation = session.query(func.max(table_name.tobs)).first()\n",
    "    # Save the first index from the results into sta_highest_observation variable\n",
    "    sta_highest_observation = sta_highest_observation[0]\n",
    "    # Query and save the name of the station with the highest observation\n",
    "    sta_high_tobs_name = session.query(table_name.station, table_name.tobs).\\\n",
    "    filter(table_name.tobs == sta_highest_observation).first()\n",
    "    # Convert result to a string and get the name of the station\n",
    "    sta_high_tobs_name_str = str(sta_high_tobs_name[0])\n",
    "    sta_high_tobs_name_str = sta_high_tobs_name_str.split(',')[0]\n",
    "    # Return the two variables\n",
    "    return sta_highest_observation, sta_high_tobs_name_str"
   ]
  },
  {
   "cell_type": "code",
   "execution_count": 50,
   "metadata": {},
   "outputs": [
    {
     "data": {
      "text/plain": [
       "(306.6, 'UPPER WAHIAWA 874.3')"
      ]
     },
     "execution_count": 50,
     "metadata": {},
     "output_type": "execute_result"
    }
   ],
   "source": [
    "# Call the function to get the highest elevation and the name of the station\n",
    "get_station_with_highest_elevation(Station)"
   ]
  },
  {
   "cell_type": "code",
   "execution_count": 51,
   "metadata": {},
   "outputs": [
    {
     "data": {
      "text/plain": [
       "(87.0, 'USC00519397')"
      ]
     },
     "execution_count": 51,
     "metadata": {},
     "output_type": "execute_result"
    }
   ],
   "source": [
    "# Call the function to get the highest elevation and the name of the station\n",
    "get_station_with_highest_observation(Measurement)"
   ]
  },
  {
   "cell_type": "markdown",
   "metadata": {},
   "source": [
    "### Last 12 months of temperature observation data (TOBS)"
   ]
  },
  {
   "cell_type": "code",
   "execution_count": 52,
   "metadata": {},
   "outputs": [
    {
     "data": {
      "text/plain": [
       "19550"
      ]
     },
     "execution_count": 52,
     "metadata": {},
     "output_type": "execute_result"
    }
   ],
   "source": [
    "# Design a query to retrieve the last 12 months of temperature observation data (TOBS)\n",
    "stations = session.query(Measurement.station, Measurement.tobs).all()\n",
    "len(stations)"
   ]
  },
  {
   "cell_type": "code",
   "execution_count": 53,
   "metadata": {},
   "outputs": [
    {
     "data": {
      "text/plain": [
       "[('2017-05-23', 'USC00519397', 87.0),\n",
       " ('2017-07-03', 'USC00517948', 87.0),\n",
       " ('2017-08-19', 'USC00519523', 85.0),\n",
       " ('2016-08-26', 'USC00519523', 84.0),\n",
       " ('2016-09-04', 'USC00519523', 84.0),\n",
       " ('2016-09-05', 'USC00519523', 84.0),\n",
       " ('2017-07-26', 'USC00519523', 84.0),\n",
       " ('2017-07-30', 'USC00519523', 84.0),\n",
       " ('2017-08-13', 'USC00519523', 84.0),\n",
       " ('2017-06-12', 'USC00519397', 83.0),\n",
       " ('2017-04-19', 'USC00514830', 83.0),\n",
       " ('2016-09-11', 'USC00519523', 83.0),\n",
       " ('2016-09-24', 'USC00519523', 83.0),\n",
       " ('2017-07-18', 'USC00519523', 83.0),\n",
       " ('2017-07-29', 'USC00519523', 83.0),\n",
       " ('2017-08-02', 'USC00519523', 83.0),\n",
       " ('2017-08-06', 'USC00519523', 83.0),\n",
       " ('2017-08-07', 'USC00519523', 83.0),\n",
       " ('2017-08-12', 'USC00519523', 83.0),\n",
       " ('2017-08-17', 'USC00519523', 83.0),\n",
       " ('2017-08-06', 'USC00519281', 83.0),\n",
       " ('2016-09-23', 'USC00519397', 82.0),\n",
       " ('2017-07-26', 'USC00519397', 82.0),\n",
       " ('2017-08-22', 'USC00519397', 82.0),\n",
       " ('2017-06-21', 'USC00513117', 82.0),\n",
       " ('2016-09-01', 'USC00514830', 82.0),\n",
       " ('2016-09-05', 'USC00514830', 82.0),\n",
       " ('2016-09-24', 'USC00514830', 82.0),\n",
       " ('2016-09-25', 'USC00514830', 82.0),\n",
       " ('2017-07-09', 'USC00514830', 82.0),\n",
       " ('2017-07-15', 'USC00514830', 82.0),\n",
       " ('2017-07-17', 'USC00514830', 82.0),\n",
       " ('2017-07-18', 'USC00514830', 82.0),\n",
       " ('2017-07-23', 'USC00514830', 82.0),\n",
       " ('2017-07-29', 'USC00514830', 82.0),\n",
       " ('2017-08-06', 'USC00514830', 82.0),\n",
       " ('2017-08-15', 'USC00514830', 82.0),\n",
       " ('2017-08-16', 'USC00514830', 82.0),\n",
       " ('2017-08-23', 'USC00514830', 82.0),\n",
       " ('2016-09-01', 'USC00517948', 82.0),\n",
       " ('2017-06-26', 'USC00517948', 82.0),\n",
       " ('2016-09-25', 'USC00519523', 82.0),\n",
       " ('2016-09-29', 'USC00519523', 82.0),\n",
       " ('2016-10-08', 'USC00519523', 82.0),\n",
       " ('2017-04-11', 'USC00519523', 82.0),\n",
       " ('2017-05-28', 'USC00519523', 82.0),\n",
       " ('2017-06-24', 'USC00519523', 82.0),\n",
       " ('2017-07-09', 'USC00519523', 82.0),\n",
       " ('2017-07-10', 'USC00519523', 82.0),\n",
       " ('2017-07-12', 'USC00519523', 82.0),\n",
       " ('2017-07-15', 'USC00519523', 82.0),\n",
       " ('2017-07-16', 'USC00519523', 82.0),\n",
       " ('2017-07-17', 'USC00519523', 82.0),\n",
       " ('2017-07-31', 'USC00519523', 82.0),\n",
       " ('2017-08-04', 'USC00519523', 82.0),\n",
       " ('2017-08-08', 'USC00519523', 82.0),\n",
       " ('2017-08-21', 'USC00519523', 82.0),\n",
       " ('2017-08-22', 'USC00519523', 82.0),\n",
       " ('2017-08-23', 'USC00519523', 82.0),\n",
       " ('2017-07-23', 'USC00519281', 82.0),\n",
       " ('2017-07-29', 'USC00519281', 82.0),\n",
       " ('2017-08-05', 'USC00519281', 82.0),\n",
       " ('2017-03-11', 'USC00516128', 82.0),\n",
       " ('2016-09-01', 'USC00519397', 81.0),\n",
       " ('2016-09-18', 'USC00519397', 81.0),\n",
       " ('2016-09-24', 'USC00519397', 81.0),\n",
       " ('2016-10-19', 'USC00519397', 81.0),\n",
       " ('2017-06-26', 'USC00519397', 81.0),\n",
       " ('2017-07-06', 'USC00519397', 81.0),\n",
       " ('2017-07-12', 'USC00519397', 81.0),\n",
       " ('2017-07-14', 'USC00519397', 81.0),\n",
       " ('2017-07-22', 'USC00519397', 81.0),\n",
       " ('2017-07-23', 'USC00519397', 81.0),\n",
       " ('2017-07-28', 'USC00519397', 81.0),\n",
       " ('2017-07-29', 'USC00519397', 81.0),\n",
       " ('2017-07-30', 'USC00519397', 81.0),\n",
       " ('2017-08-05', 'USC00519397', 81.0),\n",
       " ('2017-08-10', 'USC00519397', 81.0),\n",
       " ('2017-08-13', 'USC00519397', 81.0),\n",
       " ('2017-08-20', 'USC00519397', 81.0),\n",
       " ('2017-08-21', 'USC00519397', 81.0),\n",
       " ('2017-08-23', 'USC00519397', 81.0),\n",
       " ('2016-08-25', 'USC00514830', 81.0),\n",
       " ('2016-08-26', 'USC00514830', 81.0),\n",
       " ('2016-08-27', 'USC00514830', 81.0),\n",
       " ('2016-08-28', 'USC00514830', 81.0),\n",
       " ('2016-09-02', 'USC00514830', 81.0),\n",
       " ('2016-09-08', 'USC00514830', 81.0),\n",
       " ('2016-09-15', 'USC00514830', 81.0),\n",
       " ('2016-09-23', 'USC00514830', 81.0),\n",
       " ('2016-10-04', 'USC00514830', 81.0),\n",
       " ('2016-10-13', 'USC00514830', 81.0),\n",
       " ('2016-10-15', 'USC00514830', 81.0),\n",
       " ('2016-10-25', 'USC00514830', 81.0),\n",
       " ('2017-05-30', 'USC00514830', 81.0),\n",
       " ('2017-05-31', 'USC00514830', 81.0),\n",
       " ('2017-06-01', 'USC00514830', 81.0),\n",
       " ('2017-06-05', 'USC00514830', 81.0),\n",
       " ('2017-06-07', 'USC00514830', 81.0),\n",
       " ('2017-06-09', 'USC00514830', 81.0),\n",
       " ('2017-06-30', 'USC00514830', 81.0),\n",
       " ('2017-07-03', 'USC00514830', 81.0),\n",
       " ('2017-07-05', 'USC00514830', 81.0),\n",
       " ('2017-07-08', 'USC00514830', 81.0),\n",
       " ('2017-07-12', 'USC00514830', 81.0),\n",
       " ('2017-07-13', 'USC00514830', 81.0),\n",
       " ('2017-07-28', 'USC00514830', 81.0),\n",
       " ('2017-07-31', 'USC00514830', 81.0),\n",
       " ('2017-08-03', 'USC00514830', 81.0),\n",
       " ('2017-08-04', 'USC00514830', 81.0),\n",
       " ('2017-08-07', 'USC00514830', 81.0),\n",
       " ('2017-08-09', 'USC00514830', 81.0),\n",
       " ('2017-08-10', 'USC00514830', 81.0),\n",
       " ('2017-08-11', 'USC00514830', 81.0),\n",
       " ('2017-08-13', 'USC00514830', 81.0),\n",
       " ('2017-08-14', 'USC00514830', 81.0),\n",
       " ('2016-08-25', 'USC00517948', 81.0),\n",
       " ('2016-08-26', 'USC00517948', 81.0),\n",
       " ('2016-09-02', 'USC00517948', 81.0),\n",
       " ('2017-06-13', 'USC00517948', 81.0),\n",
       " ('2017-06-22', 'USC00517948', 81.0),\n",
       " ('2017-07-11', 'USC00517948', 81.0),\n",
       " ('2017-07-13', 'USC00517948', 81.0),\n",
       " ('2017-07-19', 'USC00517948', 81.0),\n",
       " ('2017-07-21', 'USC00517948', 81.0),\n",
       " ('2017-07-25', 'USC00517948', 81.0),\n",
       " ('2017-07-31', 'USC00517948', 81.0),\n",
       " ('2016-08-27', 'USC00519523', 81.0),\n",
       " ('2016-09-02', 'USC00519523', 81.0),\n",
       " ('2016-09-17', 'USC00519523', 81.0),\n",
       " ('2016-09-18', 'USC00519523', 81.0),\n",
       " ('2016-10-02', 'USC00519523', 81.0),\n",
       " ('2016-10-11', 'USC00519523', 81.0),\n",
       " ('2016-10-12', 'USC00519523', 81.0),\n",
       " ('2016-10-16', 'USC00519523', 81.0),\n",
       " ('2016-10-23', 'USC00519523', 81.0),\n",
       " ('2017-01-12', 'USC00519523', 81.0),\n",
       " ('2017-03-11', 'USC00519523', 81.0),\n",
       " ('2017-04-26', 'USC00519523', 81.0),\n",
       " ('2017-06-02', 'USC00519523', 81.0),\n",
       " ('2017-06-04', 'USC00519523', 81.0),\n",
       " ('2017-06-11', 'USC00519523', 81.0),\n",
       " ('2017-06-26', 'USC00519523', 81.0),\n",
       " ('2017-06-27', 'USC00519523', 81.0),\n",
       " ('2017-07-03', 'USC00519523', 81.0),\n",
       " ('2017-07-28', 'USC00519523', 81.0),\n",
       " ('2017-08-11', 'USC00519523', 81.0),\n",
       " ('2017-03-11', 'USC00519281', 81.0),\n",
       " ('2017-07-02', 'USC00519281', 81.0),\n",
       " ('2017-07-28', 'USC00519281', 81.0),\n",
       " ('2017-07-30', 'USC00519281', 81.0),\n",
       " ('2016-08-25', 'USC00519397', 80.0),\n",
       " ('2016-08-31', 'USC00519397', 80.0),\n",
       " ('2016-09-02', 'USC00519397', 80.0),\n",
       " ('2016-09-08', 'USC00519397', 80.0),\n",
       " ('2016-09-16', 'USC00519397', 80.0),\n",
       " ('2016-09-26', 'USC00519397', 80.0),\n",
       " ('2016-09-27', 'USC00519397', 80.0),\n",
       " ('2016-09-29', 'USC00519397', 80.0),\n",
       " ('2016-09-30', 'USC00519397', 80.0),\n",
       " ('2016-10-01', 'USC00519397', 80.0),\n",
       " ('2016-10-05', 'USC00519397', 80.0),\n",
       " ('2016-10-06', 'USC00519397', 80.0),\n",
       " ('2016-10-11', 'USC00519397', 80.0),\n",
       " ('2016-10-12', 'USC00519397', 80.0),\n",
       " ('2016-10-14', 'USC00519397', 80.0),\n",
       " ('2016-10-18', 'USC00519397', 80.0),\n",
       " ('2017-06-05', 'USC00519397', 80.0),\n",
       " ('2017-06-08', 'USC00519397', 80.0),\n",
       " ('2017-06-09', 'USC00519397', 80.0),\n",
       " ('2017-06-13', 'USC00519397', 80.0),\n",
       " ('2017-06-14', 'USC00519397', 80.0),\n",
       " ('2017-06-17', 'USC00519397', 80.0),\n",
       " ('2017-06-19', 'USC00519397', 80.0),\n",
       " ('2017-06-22', 'USC00519397', 80.0),\n",
       " ('2017-06-24', 'USC00519397', 80.0),\n",
       " ('2017-06-25', 'USC00519397', 80.0),\n",
       " ('2017-06-27', 'USC00519397', 80.0),\n",
       " ('2017-07-01', 'USC00519397', 80.0),\n",
       " ('2017-07-02', 'USC00519397', 80.0),\n",
       " ('2017-07-04', 'USC00519397', 80.0),\n",
       " ('2017-07-05', 'USC00519397', 80.0),\n",
       " ('2017-07-08', 'USC00519397', 80.0),\n",
       " ('2017-07-09', 'USC00519397', 80.0),\n",
       " ('2017-07-10', 'USC00519397', 80.0),\n",
       " ('2017-07-15', 'USC00519397', 80.0),\n",
       " ('2017-07-17', 'USC00519397', 80.0),\n",
       " ('2017-07-18', 'USC00519397', 80.0),\n",
       " ('2017-07-20', 'USC00519397', 80.0),\n",
       " ('2017-07-21', 'USC00519397', 80.0),\n",
       " ('2017-07-25', 'USC00519397', 80.0),\n",
       " ('2017-07-31', 'USC00519397', 80.0),\n",
       " ('2017-08-04', 'USC00519397', 80.0),\n",
       " ('2017-08-06', 'USC00519397', 80.0),\n",
       " ('2017-08-07', 'USC00519397', 80.0),\n",
       " ('2017-08-08', 'USC00519397', 80.0),\n",
       " ('2017-08-09', 'USC00519397', 80.0),\n",
       " ('2017-08-12', 'USC00519397', 80.0),\n",
       " ('2017-08-18', 'USC00519397', 80.0),\n",
       " ('2017-07-14', 'USC00513117', 80.0),\n",
       " ('2016-08-24', 'USC00514830', 80.0),\n",
       " ('2016-08-29', 'USC00514830', 80.0),\n",
       " ('2016-08-31', 'USC00514830', 80.0),\n",
       " ('2016-09-06', 'USC00514830', 80.0),\n",
       " ('2016-09-07', 'USC00514830', 80.0),\n",
       " ('2016-09-20', 'USC00514830', 80.0),\n",
       " ('2016-09-21', 'USC00514830', 80.0),\n",
       " ('2016-09-26', 'USC00514830', 80.0),\n",
       " ('2016-09-28', 'USC00514830', 80.0),\n",
       " ('2016-09-30', 'USC00514830', 80.0),\n",
       " ('2016-10-01', 'USC00514830', 80.0),\n",
       " ('2016-10-02', 'USC00514830', 80.0),\n",
       " ('2016-10-03', 'USC00514830', 80.0),\n",
       " ('2016-10-05', 'USC00514830', 80.0),\n",
       " ('2016-10-06', 'USC00514830', 80.0),\n",
       " ('2016-10-11', 'USC00514830', 80.0),\n",
       " ('2016-10-12', 'USC00514830', 80.0),\n",
       " ('2016-10-18', 'USC00514830', 80.0),\n",
       " ('2016-10-23', 'USC00514830', 80.0),\n",
       " ('2017-02-05', 'USC00514830', 80.0),\n",
       " ('2017-02-13', 'USC00514830', 80.0),\n",
       " ('2017-03-12', 'USC00514830', 80.0),\n",
       " ('2017-06-03', 'USC00514830', 80.0),\n",
       " ('2017-06-06', 'USC00514830', 80.0),\n",
       " ('2017-06-16', 'USC00514830', 80.0),\n",
       " ('2017-06-26', 'USC00514830', 80.0),\n",
       " ('2017-07-10', 'USC00514830', 80.0),\n",
       " ('2017-07-14', 'USC00514830', 80.0),\n",
       " ('2017-07-19', 'USC00514830', 80.0),\n",
       " ('2017-07-22', 'USC00514830', 80.0),\n",
       " ('2017-07-25', 'USC00514830', 80.0),\n",
       " ('2017-07-27', 'USC00514830', 80.0),\n",
       " ('2017-08-02', 'USC00514830', 80.0),\n",
       " ('2017-08-19', 'USC00514830', 80.0),\n",
       " ('2017-08-20', 'USC00514830', 80.0),\n",
       " ('2016-08-29', 'USC00517948', 80.0),\n",
       " ('2016-09-08', 'USC00517948', 80.0),\n",
       " ('2016-09-23', 'USC00517948', 80.0),\n",
       " ('2016-09-29', 'USC00517948', 80.0),\n",
       " ('2016-09-30', 'USC00517948', 80.0),\n",
       " ('2016-10-05', 'USC00517948', 80.0),\n",
       " ('2016-10-13', 'USC00517948', 80.0),\n",
       " ('2016-10-17', 'USC00517948', 80.0),\n",
       " ('2016-10-18', 'USC00517948', 80.0),\n",
       " ('2016-10-19', 'USC00517948', 80.0),\n",
       " ('2017-06-06', 'USC00517948', 80.0),\n",
       " ('2017-06-07', 'USC00517948', 80.0),\n",
       " ('2017-06-09', 'USC00517948', 80.0),\n",
       " ('2017-06-27', 'USC00517948', 80.0),\n",
       " ('2017-06-28', 'USC00517948', 80.0),\n",
       " ('2017-07-05', 'USC00517948', 80.0),\n",
       " ('2017-07-12', 'USC00517948', 80.0),\n",
       " ('2017-07-20', 'USC00517948', 80.0),\n",
       " ('2017-07-28', 'USC00517948', 80.0),\n",
       " ('2016-08-25', 'USC00519523', 80.0),\n",
       " ('2016-08-28', 'USC00519523', 80.0),\n",
       " ('2016-09-23', 'USC00519523', 80.0),\n",
       " ('2016-10-04', 'USC00519523', 80.0),\n",
       " ('2016-10-05', 'USC00519523', 80.0),\n",
       " ('2016-10-06', 'USC00519523', 80.0),\n",
       " ('2016-10-09', 'USC00519523', 80.0),\n",
       " ('2016-10-14', 'USC00519523', 80.0),\n",
       " ('2016-10-17', 'USC00519523', 80.0),\n",
       " ('2016-10-18', 'USC00519523', 80.0),\n",
       " ('2016-10-22', 'USC00519523', 80.0),\n",
       " ('2016-11-20', 'USC00519523', 80.0),\n",
       " ('2017-01-16', 'USC00519523', 80.0),\n",
       " ('2017-03-26', 'USC00519523', 80.0),\n",
       " ('2017-04-01', 'USC00519523', 80.0),\n",
       " ('2017-04-12', 'USC00519523', 80.0),\n",
       " ('2017-04-24', 'USC00519523', 80.0),\n",
       " ('2017-05-06', 'USC00519523', 80.0),\n",
       " ('2017-05-08', 'USC00519523', 80.0),\n",
       " ('2017-05-21', 'USC00519523', 80.0),\n",
       " ('2017-05-29', 'USC00519523', 80.0),\n",
       " ('2017-06-12', 'USC00519523', 80.0),\n",
       " ('2017-06-14', 'USC00519523', 80.0),\n",
       " ('2017-06-16', 'USC00519523', 80.0),\n",
       " ('2017-06-21', 'USC00519523', 80.0),\n",
       " ('2017-06-22', 'USC00519523', 80.0),\n",
       " ('2017-06-25', 'USC00519523', 80.0),\n",
       " ('2017-07-02', 'USC00519523', 80.0),\n",
       " ('2017-07-05', 'USC00519523', 80.0),\n",
       " ('2017-07-14', 'USC00519523', 80.0),\n",
       " ('2017-07-19', 'USC00519523', 80.0),\n",
       " ('2017-07-20', 'USC00519523', 80.0),\n",
       " ('2017-07-21', 'USC00519523', 80.0),\n",
       " ('2017-07-25', 'USC00519523', 80.0),\n",
       " ('2017-07-27', 'USC00519523', 80.0),\n",
       " ('2017-08-03', 'USC00519523', 80.0),\n",
       " ('2017-08-10', 'USC00519523', 80.0),\n",
       " ('2016-08-25', 'USC00519281', 80.0),\n",
       " ('2016-08-26', 'USC00519281', 80.0),\n",
       " ('2016-09-01', 'USC00519281', 80.0),\n",
       " ('2016-09-02', 'USC00519281', 80.0),\n",
       " ('2016-09-08', 'USC00519281', 80.0),\n",
       " ('2016-09-11', 'USC00519281', 80.0),\n",
       " ('2016-09-27', 'USC00519281', 80.0),\n",
       " ('2017-05-28', 'USC00519281', 80.0),\n",
       " ('2017-06-01', 'USC00519281', 80.0),\n",
       " ('2017-07-15', 'USC00519281', 80.0),\n",
       " ('2017-07-16', 'USC00519281', 80.0),\n",
       " ('2017-08-02', 'USC00516128', 80.0),\n",
       " ('2017-08-13', 'USC00516128', 80.0),\n",
       " ('2016-08-24', 'USC00519397', 79.0),\n",
       " ('2016-08-26', 'USC00519397', 79.0),\n",
       " ('2016-08-30', 'USC00519397', 79.0),\n",
       " ('2016-09-03', 'USC00519397', 79.0),\n",
       " ('2016-09-05', 'USC00519397', 79.0),\n",
       " ('2016-09-09', 'USC00519397', 79.0),\n",
       " ('2016-09-15', 'USC00519397', 79.0),\n",
       " ('2016-09-17', 'USC00519397', 79.0),\n",
       " ('2016-09-28', 'USC00519397', 79.0),\n",
       " ('2016-10-02', 'USC00519397', 79.0),\n",
       " ('2016-10-03', 'USC00519397', 79.0),\n",
       " ('2016-10-04', 'USC00519397', 79.0),\n",
       " ('2016-10-07', 'USC00519397', 79.0),\n",
       " ('2016-10-13', 'USC00519397', 79.0),\n",
       " ('2016-10-15', 'USC00519397', 79.0),\n",
       " ('2016-10-20', 'USC00519397', 79.0),\n",
       " ('2016-10-22', 'USC00519397', 79.0),\n",
       " ('2017-04-11', 'USC00519397', 79.0),\n",
       " ('2017-05-05', 'USC00519397', 79.0),\n",
       " ('2017-05-06', 'USC00519397', 79.0),\n",
       " ('2017-05-07', 'USC00519397', 79.0),\n",
       " ('2017-05-12', 'USC00519397', 79.0),\n",
       " ('2017-05-13', 'USC00519397', 79.0),\n",
       " ('2017-05-31', 'USC00519397', 79.0),\n",
       " ('2017-06-01', 'USC00519397', 79.0),\n",
       " ('2017-06-02', 'USC00519397', 79.0),\n",
       " ('2017-06-03', 'USC00519397', 79.0),\n",
       " ('2017-06-04', 'USC00519397', 79.0),\n",
       " ('2017-06-06', 'USC00519397', 79.0),\n",
       " ('2017-06-07', 'USC00519397', 79.0),\n",
       " ('2017-06-11', 'USC00519397', 79.0),\n",
       " ('2017-06-16', 'USC00519397', 79.0),\n",
       " ('2017-06-21', 'USC00519397', 79.0),\n",
       " ('2017-06-28', 'USC00519397', 79.0),\n",
       " ('2017-06-29', 'USC00519397', 79.0),\n",
       " ('2017-07-07', 'USC00519397', 79.0),\n",
       " ('2017-07-13', 'USC00519397', 79.0),\n",
       " ('2017-07-27', 'USC00519397', 79.0),\n",
       " ('2017-08-03', 'USC00519397', 79.0),\n",
       " ('2017-08-14', 'USC00519397', 79.0),\n",
       " ('2017-08-19', 'USC00519397', 79.0),\n",
       " ('2016-09-01', 'USC00513117', 79.0),\n",
       " ('2016-09-24', 'USC00513117', 79.0),\n",
       " ('2017-07-10', 'USC00513117', 79.0),\n",
       " ('2017-07-15', 'USC00513117', 79.0),\n",
       " ('2016-09-12', 'USC00514830', 79.0),\n",
       " ('2016-09-13', 'USC00514830', 79.0),\n",
       " ('2016-09-14', 'USC00514830', 79.0),\n",
       " ('2016-09-16', 'USC00514830', 79.0),\n",
       " ('2016-09-19', 'USC00514830', 79.0),\n",
       " ('2016-09-27', 'USC00514830', 79.0),\n",
       " ('2016-09-29', 'USC00514830', 79.0),\n",
       " ('2016-10-07', 'USC00514830', 79.0),\n",
       " ('2016-10-14', 'USC00514830', 79.0),\n",
       " ('2016-10-19', 'USC00514830', 79.0),\n",
       " ('2016-11-14', 'USC00514830', 79.0),\n",
       " ('2017-02-14', 'USC00514830', 79.0),\n",
       " ('2017-04-10', 'USC00514830', 79.0),\n",
       " ('2017-04-24', 'USC00514830', 79.0),\n",
       " ('2017-05-09', 'USC00514830', 79.0),\n",
       " ('2017-05-19', 'USC00514830', 79.0),\n",
       " ('2017-05-20', 'USC00514830', 79.0),\n",
       " ('2017-05-22', 'USC00514830', 79.0),\n",
       " ('2017-05-25', 'USC00514830', 79.0),\n",
       " ('2017-05-26', 'USC00514830', 79.0),\n",
       " ('2017-05-27', 'USC00514830', 79.0),\n",
       " ('2017-05-29', 'USC00514830', 79.0),\n",
       " ('2017-06-04', 'USC00514830', 79.0),\n",
       " ('2017-06-08', 'USC00514830', 79.0),\n",
       " ('2017-06-11', 'USC00514830', 79.0),\n",
       " ('2017-06-12', 'USC00514830', 79.0),\n",
       " ('2017-06-14', 'USC00514830', 79.0),\n",
       " ('2017-06-20', 'USC00514830', 79.0),\n",
       " ('2017-07-11', 'USC00514830', 79.0),\n",
       " ('2017-07-16', 'USC00514830', 79.0),\n",
       " ('2017-07-20', 'USC00514830', 79.0),\n",
       " ('2017-07-21', 'USC00514830', 79.0),\n",
       " ('2017-07-24', 'USC00514830', 79.0),\n",
       " ('2017-07-26', 'USC00514830', 79.0),\n",
       " ('2017-08-21', 'USC00514830', 79.0),\n",
       " ('2016-08-30', 'USC00517948', 79.0),\n",
       " ('2016-08-31', 'USC00517948', 79.0),\n",
       " ('2016-09-09', 'USC00517948', 79.0),\n",
       " ('2016-09-12', 'USC00517948', 79.0),\n",
       " ('2016-09-13', 'USC00517948', 79.0),\n",
       " ('2016-09-16', 'USC00517948', 79.0),\n",
       " ('2016-09-19', 'USC00517948', 79.0),\n",
       " ('2016-09-28', 'USC00517948', 79.0),\n",
       " ('2016-10-03', 'USC00517948', 79.0),\n",
       " ('2016-10-06', 'USC00517948', 79.0),\n",
       " ('2016-10-11', 'USC00517948', 79.0),\n",
       " ('2016-11-14', 'USC00517948', 79.0),\n",
       " ('2017-06-02', 'USC00517948', 79.0),\n",
       " ('2017-06-29', 'USC00517948', 79.0),\n",
       " ('2017-07-06', 'USC00517948', 79.0),\n",
       " ('2017-07-07', 'USC00517948', 79.0),\n",
       " ('2017-07-27', 'USC00517948', 79.0),\n",
       " ('2016-08-24', 'USC00519523', 79.0),\n",
       " ('2016-08-29', 'USC00519523', 79.0),\n",
       " ('2016-09-08', 'USC00519523', 79.0),\n",
       " ('2016-09-15', 'USC00519523', 79.0),\n",
       " ('2016-09-21', 'USC00519523', 79.0),\n",
       " ('2016-09-22', 'USC00519523', 79.0),\n",
       " ('2016-10-01', 'USC00519523', 79.0),\n",
       " ('2016-10-03', 'USC00519523', 79.0),\n",
       " ('2016-10-07', 'USC00519523', 79.0),\n",
       " ('2016-10-13', 'USC00519523', 79.0),\n",
       " ('2016-10-15', 'USC00519523', 79.0),\n",
       " ('2016-10-21', 'USC00519523', 79.0),\n",
       " ('2016-10-30', 'USC00519523', 79.0),\n",
       " ('2016-11-01', 'USC00519523', 79.0),\n",
       " ('2016-11-12', 'USC00519523', 79.0),\n",
       " ('2016-11-13', 'USC00519523', 79.0),\n",
       " ('2017-04-02', 'USC00519523', 79.0),\n",
       " ('2017-04-13', 'USC00519523', 79.0),\n",
       " ('2017-04-15', 'USC00519523', 79.0),\n",
       " ('2017-05-05', 'USC00519523', 79.0),\n",
       " ('2017-05-20', 'USC00519523', 79.0),\n",
       " ('2017-05-27', 'USC00519523', 79.0),\n",
       " ('2017-05-31', 'USC00519523', 79.0),\n",
       " ('2017-06-01', 'USC00519523', 79.0),\n",
       " ('2017-06-03', 'USC00519523', 79.0),\n",
       " ('2017-06-23', 'USC00519523', 79.0),\n",
       " ('2017-06-28', 'USC00519523', 79.0),\n",
       " ('2017-07-06', 'USC00519523', 79.0),\n",
       " ('2017-07-07', 'USC00519523', 79.0),\n",
       " ('2017-07-11', 'USC00519523', 79.0),\n",
       " ('2017-07-13', 'USC00519523', 79.0),\n",
       " ('2017-07-24', 'USC00519523', 79.0),\n",
       " ('2017-08-15', 'USC00519523', 79.0),\n",
       " ('2017-08-16', 'USC00519523', 79.0),\n",
       " ('2016-09-09', 'USC00519281', 79.0),\n",
       " ('2016-09-13', 'USC00519281', 79.0),\n",
       " ('2016-09-15', 'USC00519281', 79.0),\n",
       " ('2016-09-17', 'USC00519281', 79.0),\n",
       " ('2016-09-24', 'USC00519281', 79.0),\n",
       " ('2016-09-25', 'USC00519281', 79.0),\n",
       " ('2016-10-02', 'USC00519281', 79.0),\n",
       " ('2016-10-03', 'USC00519281', 79.0),\n",
       " ('2016-10-04', 'USC00519281', 79.0),\n",
       " ('2016-10-05', 'USC00519281', 79.0),\n",
       " ('2016-10-12', 'USC00519281', 79.0),\n",
       " ('2016-10-14', 'USC00519281', 79.0),\n",
       " ('2016-10-16', 'USC00519281', 79.0),\n",
       " ('2017-02-14', 'USC00519281', 79.0),\n",
       " ('2017-05-06', 'USC00519281', 79.0),\n",
       " ('2017-06-17', 'USC00519281', 79.0),\n",
       " ('2017-07-01', 'USC00519281', 79.0),\n",
       " ('2017-08-18', 'USC00519281', 79.0),\n",
       " ('2017-02-14', 'USC00516128', 79.0),\n",
       " ('2017-05-02', 'USC00516128', 79.0),\n",
       " ('2017-06-07', 'USC00516128', 79.0),\n",
       " ('2017-06-25', 'USC00516128', 79.0),\n",
       " ('2017-06-26', 'USC00516128', 79.0),\n",
       " ('2017-07-25', 'USC00516128', 79.0),\n",
       " ('2017-07-30', 'USC00516128', 79.0),\n",
       " ('2017-08-06', 'USC00516128', 79.0),\n",
       " ('2017-08-14', 'USC00516128', 79.0),\n",
       " ('2016-08-28', 'USC00519397', 78.0),\n",
       " ('2016-08-29', 'USC00519397', 78.0),\n",
       " ('2016-09-10', 'USC00519397', 78.0),\n",
       " ('2016-09-12', 'USC00519397', 78.0),\n",
       " ('2016-09-13', 'USC00519397', 78.0),\n",
       " ('2016-09-21', 'USC00519397', 78.0),\n",
       " ('2016-09-25', 'USC00519397', 78.0),\n",
       " ('2016-10-08', 'USC00519397', 78.0),\n",
       " ('2016-10-16', 'USC00519397', 78.0),\n",
       " ('2016-10-17', 'USC00519397', 78.0),\n",
       " ('2016-10-23', 'USC00519397', 78.0),\n",
       " ('2016-10-26', 'USC00519397', 78.0),\n",
       " ('2016-10-28', 'USC00519397', 78.0),\n",
       " ('2017-01-11', 'USC00519397', 78.0),\n",
       " ('2017-04-05', 'USC00519397', 78.0),\n",
       " ('2017-04-12', 'USC00519397', 78.0),\n",
       " ('2017-04-20', 'USC00519397', 78.0),\n",
       " ('2017-04-27', 'USC00519397', 78.0),\n",
       " ('2017-05-02', 'USC00519397', 78.0),\n",
       " ('2017-05-03', 'USC00519397', 78.0),\n",
       " ('2017-05-04', 'USC00519397', 78.0),\n",
       " ('2017-05-10', 'USC00519397', 78.0),\n",
       " ('2017-05-11', 'USC00519397', 78.0),\n",
       " ('2017-05-15', 'USC00519397', 78.0),\n",
       " ('2017-05-16', 'USC00519397', 78.0),\n",
       " ('2017-05-17', 'USC00519397', 78.0),\n",
       " ('2017-05-20', 'USC00519397', 78.0),\n",
       " ('2017-06-15', 'USC00519397', 78.0),\n",
       " ('2017-06-20', 'USC00519397', 78.0),\n",
       " ('2017-06-23', 'USC00519397', 78.0),\n",
       " ('2017-07-03', 'USC00519397', 78.0),\n",
       " ('2017-07-11', 'USC00519397', 78.0),\n",
       " ('2017-07-16', 'USC00519397', 78.0),\n",
       " ('2017-07-24', 'USC00519397', 78.0),\n",
       " ('2017-08-11', 'USC00519397', 78.0),\n",
       " ('2017-08-15', 'USC00519397', 78.0),\n",
       " ('2016-08-26', 'USC00513117', 78.0),\n",
       " ('2016-08-29', 'USC00513117', 78.0),\n",
       " ('2016-09-02', 'USC00513117', 78.0),\n",
       " ('2016-09-05', 'USC00513117', 78.0),\n",
       " ('2016-09-15', 'USC00513117', 78.0),\n",
       " ('2016-09-16', 'USC00513117', 78.0),\n",
       " ('2016-09-17', 'USC00513117', 78.0),\n",
       " ('2016-09-18', 'USC00513117', 78.0),\n",
       " ('2016-09-20', 'USC00513117', 78.0),\n",
       " ('2016-10-03', 'USC00513117', 78.0),\n",
       " ('2016-10-04', 'USC00513117', 78.0),\n",
       " ('2016-10-07', 'USC00513117', 78.0),\n",
       " ('2016-10-13', 'USC00513117', 78.0),\n",
       " ('2016-10-30', 'USC00513117', 78.0),\n",
       " ('2016-11-15', 'USC00513117', 78.0),\n",
       " ('2016-11-18', 'USC00513117', 78.0),\n",
       " ('2017-04-26', 'USC00513117', 78.0),\n",
       " ('2017-05-05', 'USC00513117', 78.0),\n",
       " ('2017-06-04', 'USC00513117', 78.0),\n",
       " ('2017-06-09', 'USC00513117', 78.0),\n",
       " ('2017-07-12', 'USC00513117', 78.0),\n",
       " ('2017-07-18', 'USC00513117', 78.0),\n",
       " ('2017-07-19', 'USC00513117', 78.0),\n",
       " ('2017-07-20', 'USC00513117', 78.0),\n",
       " ('2017-07-21', 'USC00513117', 78.0),\n",
       " ('2017-07-22', 'USC00513117', 78.0),\n",
       " ('2017-07-24', 'USC00513117', 78.0),\n",
       " ('2017-07-25', 'USC00513117', 78.0),\n",
       " ('2017-07-26', 'USC00513117', 78.0),\n",
       " ('2017-07-29', 'USC00513117', 78.0),\n",
       " ('2017-07-30', 'USC00513117', 78.0),\n",
       " ('2016-09-22', 'USC00514830', 78.0),\n",
       " ('2016-10-17', 'USC00514830', 78.0),\n",
       " ('2016-10-21', 'USC00514830', 78.0),\n",
       " ('2016-10-27', 'USC00514830', 78.0),\n",
       " ('2016-10-28', 'USC00514830', 78.0),\n",
       " ('2016-10-30', 'USC00514830', 78.0),\n",
       " ('2016-11-02', 'USC00514830', 78.0),\n",
       " ('2016-11-06', 'USC00514830', 78.0),\n",
       " ('2016-11-12', 'USC00514830', 78.0),\n",
       " ('2016-11-13', 'USC00514830', 78.0),\n",
       " ('2016-11-16', 'USC00514830', 78.0),\n",
       " ('2016-11-26', 'USC00514830', 78.0),\n",
       " ('2016-12-19', 'USC00514830', 78.0),\n",
       " ('2017-03-23', 'USC00514830', 78.0),\n",
       " ('2017-03-27', 'USC00514830', 78.0),\n",
       " ('2017-03-28', 'USC00514830', 78.0),\n",
       " ('2017-03-30', 'USC00514830', 78.0),\n",
       " ('2017-04-01', 'USC00514830', 78.0),\n",
       " ('2017-04-26', 'USC00514830', 78.0),\n",
       " ('2017-04-27', 'USC00514830', 78.0),\n",
       " ('2017-05-01', 'USC00514830', 78.0),\n",
       " ('2017-05-03', 'USC00514830', 78.0),\n",
       " ('2017-05-05', 'USC00514830', 78.0),\n",
       " ('2017-05-06', 'USC00514830', 78.0),\n",
       " ('2017-05-12', 'USC00514830', 78.0),\n",
       " ('2017-05-17', 'USC00514830', 78.0),\n",
       " ('2017-05-18', 'USC00514830', 78.0),\n",
       " ('2017-05-23', 'USC00514830', 78.0),\n",
       " ('2017-06-02', 'USC00514830', 78.0),\n",
       " ('2017-06-10', 'USC00514830', 78.0),\n",
       " ('2017-06-15', 'USC00514830', 78.0),\n",
       " ('2017-06-17', 'USC00514830', 78.0),\n",
       " ('2017-06-19', 'USC00514830', 78.0),\n",
       " ('2017-08-08', 'USC00514830', 78.0),\n",
       " ('2017-08-17', 'USC00514830', 78.0),\n",
       " ('2016-08-24', 'USC00517948', 78.0),\n",
       " ('2016-09-26', 'USC00517948', 78.0),\n",
       " ('2016-10-07', 'USC00517948', 78.0),\n",
       " ('2016-10-20', 'USC00517948', 78.0),\n",
       " ('2017-03-31', 'USC00517948', 78.0),\n",
       " ('2017-04-24', 'USC00517948', 78.0),\n",
       " ('2017-04-25', 'USC00517948', 78.0),\n",
       " ('2017-04-27', 'USC00517948', 78.0),\n",
       " ('2017-06-05', 'USC00517948', 78.0),\n",
       " ('2017-06-08', 'USC00517948', 78.0),\n",
       " ('2017-06-14', 'USC00517948', 78.0),\n",
       " ('2017-06-16', 'USC00517948', 78.0),\n",
       " ('2017-06-19', 'USC00517948', 78.0),\n",
       " ('2017-07-10', 'USC00517948', 78.0),\n",
       " ('2017-07-18', 'USC00517948', 78.0),\n",
       " ('2017-07-26', 'USC00517948', 78.0),\n",
       " ('2016-08-30', 'USC00519523', 78.0),\n",
       " ('2016-08-31', 'USC00519523', 78.0),\n",
       " ('2016-09-03', 'USC00519523', 78.0),\n",
       " ('2016-09-06', 'USC00519523', 78.0),\n",
       " ('2016-09-10', 'USC00519523', 78.0),\n",
       " ('2016-09-12', 'USC00519523', 78.0),\n",
       " ('2016-09-16', 'USC00519523', 78.0),\n",
       " ('2016-09-19', 'USC00519523', 78.0),\n",
       " ('2016-09-26', 'USC00519523', 78.0),\n",
       " ('2016-09-27', 'USC00519523', 78.0),\n",
       " ('2016-09-28', 'USC00519523', 78.0),\n",
       " ('2016-09-30', 'USC00519523', 78.0),\n",
       " ('2016-10-10', 'USC00519523', 78.0),\n",
       " ('2016-10-19', 'USC00519523', 78.0),\n",
       " ('2016-10-26', 'USC00519523', 78.0),\n",
       " ('2016-10-27', 'USC00519523', 78.0),\n",
       " ('2016-10-28', 'USC00519523', 78.0),\n",
       " ('2016-10-29', 'USC00519523', 78.0),\n",
       " ('2016-10-31', 'USC00519523', 78.0),\n",
       " ('2016-11-05', 'USC00519523', 78.0),\n",
       " ('2016-11-06', 'USC00519523', 78.0),\n",
       " ('2016-11-14', 'USC00519523', 78.0),\n",
       " ('2016-11-26', 'USC00519523', 78.0),\n",
       " ('2016-11-27', 'USC00519523', 78.0),\n",
       " ('2016-12-11', 'USC00519523', 78.0),\n",
       " ('2016-12-24', 'USC00519523', 78.0),\n",
       " ('2016-12-25', 'USC00519523', 78.0),\n",
       " ('2017-01-15', 'USC00519523', 78.0),\n",
       " ('2017-01-19', 'USC00519523', 78.0),\n",
       " ('2017-02-13', 'USC00519523', 78.0),\n",
       " ('2017-03-30', 'USC00519523', 78.0),\n",
       " ('2017-04-04', 'USC00519523', 78.0),\n",
       " ('2017-04-07', 'USC00519523', 78.0),\n",
       " ('2017-05-02', 'USC00519523', 78.0),\n",
       " ('2017-05-03', 'USC00519523', 78.0),\n",
       " ('2017-05-07', 'USC00519523', 78.0),\n",
       " ('2017-05-11', 'USC00519523', 78.0),\n",
       " ('2017-05-14', 'USC00519523', 78.0),\n",
       " ('2017-05-30', 'USC00519523', 78.0),\n",
       " ('2017-06-05', 'USC00519523', 78.0),\n",
       " ('2017-06-06', 'USC00519523', 78.0),\n",
       " ('2017-06-07', 'USC00519523', 78.0),\n",
       " ('2017-06-09', 'USC00519523', 78.0),\n",
       " ('2017-06-15', 'USC00519523', 78.0),\n",
       " ('2017-06-18', 'USC00519523', 78.0),\n",
       " ('2017-06-19', 'USC00519523', 78.0),\n",
       " ('2017-06-29', 'USC00519523', 78.0),\n",
       " ('2017-07-22', 'USC00519523', 78.0),\n",
       " ('2016-08-29', 'USC00519281', 78.0),\n",
       " ('2016-08-31', 'USC00519281', 78.0),\n",
       " ('2016-09-03', 'USC00519281', 78.0),\n",
       " ('2016-09-04', 'USC00519281', 78.0),\n",
       " ('2016-09-05', 'USC00519281', 78.0),\n",
       " ('2016-09-16', 'USC00519281', 78.0),\n",
       " ('2016-09-18', 'USC00519281', 78.0),\n",
       " ('2016-09-19', 'USC00519281', 78.0),\n",
       " ('2016-09-23', 'USC00519281', 78.0),\n",
       " ('2016-09-28', 'USC00519281', 78.0),\n",
       " ('2016-09-29', 'USC00519281', 78.0),\n",
       " ('2016-09-30', 'USC00519281', 78.0),\n",
       " ('2016-10-13', 'USC00519281', 78.0),\n",
       " ('2016-10-18', 'USC00519281', 78.0),\n",
       " ('2016-10-19', 'USC00519281', 78.0),\n",
       " ('2016-10-20', 'USC00519281', 78.0),\n",
       " ('2016-10-21', 'USC00519281', 78.0),\n",
       " ('2017-04-09', 'USC00519281', 78.0),\n",
       " ('2017-04-15', 'USC00519281', 78.0),\n",
       " ('2017-07-04', 'USC00519281', 78.0),\n",
       " ('2017-07-08', 'USC00519281', 78.0),\n",
       " ('2017-07-09', 'USC00519281', 78.0),\n",
       " ('2016-08-29', 'USC00516128', 78.0),\n",
       " ('2016-10-12', 'USC00516128', 78.0),\n",
       " ('2017-03-03', 'USC00516128', 78.0),\n",
       " ('2017-05-11', 'USC00516128', 78.0),\n",
       " ('2017-07-02', 'USC00516128', 78.0),\n",
       " ('2017-07-09', 'USC00516128', 78.0),\n",
       " ('2017-07-15', 'USC00516128', 78.0),\n",
       " ('2017-07-23', 'USC00516128', 78.0),\n",
       " ('2017-08-07', 'USC00516128', 78.0),\n",
       " ('2017-08-20', 'USC00516128', 78.0),\n",
       " ('2016-08-27', 'USC00519397', 77.0),\n",
       " ('2016-09-19', 'USC00519397', 77.0),\n",
       " ('2016-09-20', 'USC00519397', 77.0),\n",
       " ('2016-10-21', 'USC00519397', 77.0),\n",
       " ('2016-10-24', 'USC00519397', 77.0),\n",
       " ('2016-10-25', 'USC00519397', 77.0),\n",
       " ('2016-10-27', 'USC00519397', 77.0),\n",
       " ('2016-10-29', 'USC00519397', 77.0),\n",
       " ('2016-10-31', 'USC00519397', 77.0),\n",
       " ('2016-11-01', 'USC00519397', 77.0),\n",
       " ('2016-11-02', 'USC00519397', 77.0),\n",
       " ('2016-11-03', 'USC00519397', 77.0),\n",
       " ('2016-11-04', 'USC00519397', 77.0),\n",
       " ('2016-11-14', 'USC00519397', 77.0),\n",
       " ('2016-11-15', 'USC00519397', 77.0),\n",
       " ('2016-11-16', 'USC00519397', 77.0),\n",
       " ('2016-11-17', 'USC00519397', 77.0),\n",
       " ('2016-11-18', 'USC00519397', 77.0),\n",
       " ('2016-12-20', 'USC00519397', 77.0),\n",
       " ('2017-03-28', 'USC00519397', 77.0),\n",
       " ('2017-03-30', 'USC00519397', 77.0),\n",
       " ('2017-04-03', 'USC00519397', 77.0),\n",
       " ('2017-04-06', 'USC00519397', 77.0),\n",
       " ('2017-04-07', 'USC00519397', 77.0),\n",
       " ('2017-04-08', 'USC00519397', 77.0),\n",
       " ('2017-04-13', 'USC00519397', 77.0),\n",
       " ('2017-04-23', 'USC00519397', 77.0),\n",
       " ('2017-04-24', 'USC00519397', 77.0),\n",
       " ('2017-04-25', 'USC00519397', 77.0),\n",
       " ('2017-04-26', 'USC00519397', 77.0),\n",
       " ('2017-05-08', 'USC00519397', 77.0),\n",
       " ('2017-05-14', 'USC00519397', 77.0),\n",
       " ('2017-05-22', 'USC00519397', 77.0),\n",
       " ('2017-05-24', 'USC00519397', 77.0),\n",
       " ('2017-05-25', 'USC00519397', 77.0),\n",
       " ('2017-06-10', 'USC00519397', 77.0),\n",
       " ('2017-06-18', 'USC00519397', 77.0),\n",
       " ('2017-08-01', 'USC00519397', 77.0),\n",
       " ('2016-08-25', 'USC00513117', 77.0),\n",
       " ('2016-08-31', 'USC00513117', 77.0),\n",
       " ('2016-09-03', 'USC00513117', 77.0),\n",
       " ('2016-09-08', 'USC00513117', 77.0),\n",
       " ('2016-09-22', 'USC00513117', 77.0),\n",
       " ('2016-09-25', 'USC00513117', 77.0),\n",
       " ('2016-09-26', 'USC00513117', 77.0),\n",
       " ('2016-09-27', 'USC00513117', 77.0),\n",
       " ('2016-09-28', 'USC00513117', 77.0),\n",
       " ('2016-09-30', 'USC00513117', 77.0),\n",
       " ('2016-10-02', 'USC00513117', 77.0),\n",
       " ('2016-10-05', 'USC00513117', 77.0),\n",
       " ('2016-10-09', 'USC00513117', 77.0),\n",
       " ('2016-10-11', 'USC00513117', 77.0),\n",
       " ('2016-10-14', 'USC00513117', 77.0),\n",
       " ('2016-10-17', 'USC00513117', 77.0),\n",
       " ('2016-10-18', 'USC00513117', 77.0),\n",
       " ('2016-10-19', 'USC00513117', 77.0),\n",
       " ('2016-10-22', 'USC00513117', 77.0),\n",
       " ('2016-10-25', 'USC00513117', 77.0),\n",
       " ('2016-10-28', 'USC00513117', 77.0),\n",
       " ('2016-10-29', 'USC00513117', 77.0),\n",
       " ('2016-11-01', 'USC00513117', 77.0),\n",
       " ('2017-05-04', 'USC00513117', 77.0),\n",
       " ('2017-06-15', 'USC00513117', 77.0),\n",
       " ('2017-06-17', 'USC00513117', 77.0),\n",
       " ('2017-06-19', 'USC00513117', 77.0),\n",
       " ('2017-06-22', 'USC00513117', 77.0),\n",
       " ('2017-06-26', 'USC00513117', 77.0),\n",
       " ('2017-06-27', 'USC00513117', 77.0),\n",
       " ('2017-06-28', 'USC00513117', 77.0),\n",
       " ('2017-07-02', 'USC00513117', 77.0),\n",
       " ('2017-07-03', 'USC00513117', 77.0),\n",
       " ('2017-07-04', 'USC00513117', 77.0),\n",
       " ('2017-07-05', 'USC00513117', 77.0),\n",
       " ('2017-07-07', 'USC00513117', 77.0),\n",
       " ('2017-07-27', 'USC00513117', 77.0),\n",
       " ('2017-07-28', 'USC00513117', 77.0),\n",
       " ('2017-07-31', 'USC00513117', 77.0),\n",
       " ('2016-09-09', 'USC00514830', 77.0),\n",
       " ('2016-10-10', 'USC00514830', 77.0),\n",
       " ('2016-10-20', 'USC00514830', 77.0),\n",
       " ('2016-10-24', 'USC00514830', 77.0),\n",
       " ('2016-10-31', 'USC00514830', 77.0),\n",
       " ('2016-11-01', 'USC00514830', 77.0),\n",
       " ('2016-11-03', 'USC00514830', 77.0),\n",
       " ('2016-11-04', 'USC00514830', 77.0),\n",
       " ('2016-11-05', 'USC00514830', 77.0),\n",
       " ('2016-11-11', 'USC00514830', 77.0),\n",
       " ('2016-11-15', 'USC00514830', 77.0),\n",
       " ('2016-11-17', 'USC00514830', 77.0),\n",
       " ('2016-12-02', 'USC00514830', 77.0),\n",
       " ('2016-12-04', 'USC00514830', 77.0),\n",
       " ('2016-12-20', 'USC00514830', 77.0),\n",
       " ('2017-01-14', 'USC00514830', 77.0),\n",
       " ('2017-01-19', 'USC00514830', 77.0),\n",
       " ('2017-02-06', 'USC00514830', 77.0),\n",
       " ('2017-02-17', 'USC00514830', 77.0),\n",
       " ('2017-03-13', 'USC00514830', 77.0),\n",
       " ('2017-03-14', 'USC00514830', 77.0),\n",
       " ('2017-03-16', 'USC00514830', 77.0),\n",
       " ('2017-03-20', 'USC00514830', 77.0),\n",
       " ('2017-03-29', 'USC00514830', 77.0),\n",
       " ('2017-03-31', 'USC00514830', 77.0),\n",
       " ('2017-04-02', 'USC00514830', 77.0),\n",
       " ('2017-04-03', 'USC00514830', 77.0),\n",
       " ('2017-04-05', 'USC00514830', 77.0),\n",
       " ('2017-04-09', 'USC00514830', 77.0),\n",
       " ('2017-04-11', 'USC00514830', 77.0),\n",
       " ('2017-04-12', 'USC00514830', 77.0),\n",
       " ('2017-04-13', 'USC00514830', 77.0),\n",
       " ('2017-04-14', 'USC00514830', 77.0),\n",
       " ('2017-04-25', 'USC00514830', 77.0),\n",
       " ('2017-04-28', 'USC00514830', 77.0),\n",
       " ('2017-05-04', 'USC00514830', 77.0),\n",
       " ('2017-05-15', 'USC00514830', 77.0),\n",
       " ('2017-05-16', 'USC00514830', 77.0),\n",
       " ('2017-05-28', 'USC00514830', 77.0),\n",
       " ('2017-06-18', 'USC00514830', 77.0),\n",
       " ('2017-07-07', 'USC00514830', 77.0),\n",
       " ('2017-08-18', 'USC00514830', 77.0),\n",
       " ('2016-10-04', 'USC00517948', 77.0),\n",
       " ('2016-10-25', 'USC00517948', 77.0),\n",
       " ('2016-10-27', 'USC00517948', 77.0),\n",
       " ('2016-11-04', 'USC00517948', 77.0),\n",
       " ('2016-11-15', 'USC00517948', 77.0),\n",
       " ('2016-11-16', 'USC00517948', 77.0),\n",
       " ('2016-11-17', 'USC00517948', 77.0),\n",
       " ('2016-11-23', 'USC00517948', 77.0),\n",
       " ('2017-01-23', 'USC00517948', 77.0),\n",
       " ('2017-02-13', 'USC00517948', 77.0),\n",
       " ('2017-03-30', 'USC00517948', 77.0),\n",
       " ('2017-06-15', 'USC00517948', 77.0),\n",
       " ('2017-06-20', 'USC00517948', 77.0),\n",
       " ('2016-09-09', 'USC00519523', 77.0),\n",
       " ('2016-09-13', 'USC00519523', 77.0),\n",
       " ('2016-09-14', 'USC00519523', 77.0),\n",
       " ('2016-09-20', 'USC00519523', 77.0),\n",
       " ('2016-10-25', 'USC00519523', 77.0),\n",
       " ('2016-11-03', 'USC00519523', 77.0),\n",
       " ('2016-11-08', 'USC00519523', 77.0),\n",
       " ('2016-11-15', 'USC00519523', 77.0),\n",
       " ('2016-11-16', 'USC00519523', 77.0),\n",
       " ('2016-11-17', 'USC00519523', 77.0),\n",
       " ('2016-11-18', 'USC00519523', 77.0),\n",
       " ('2016-11-28', 'USC00519523', 77.0),\n",
       " ('2016-12-21', 'USC00519523', 77.0),\n",
       " ('2016-12-29', 'USC00519523', 77.0),\n",
       " ('2017-01-09', 'USC00519523', 77.0),\n",
       " ('2017-02-05', 'USC00519523', 77.0),\n",
       " ('2017-02-27', 'USC00519523', 77.0),\n",
       " ('2017-03-04', 'USC00519523', 77.0),\n",
       " ('2017-04-05', 'USC00519523', 77.0),\n",
       " ('2017-05-04', 'USC00519523', 77.0),\n",
       " ('2017-05-12', 'USC00519523', 77.0),\n",
       " ('2017-05-15', 'USC00519523', 77.0),\n",
       " ('2017-05-17', 'USC00519523', 77.0),\n",
       " ('2017-05-26', 'USC00519523', 77.0),\n",
       " ('2017-06-08', 'USC00519523', 77.0),\n",
       " ('2017-06-13', 'USC00519523', 77.0),\n",
       " ('2017-06-17', 'USC00519523', 77.0),\n",
       " ('2017-07-08', 'USC00519523', 77.0),\n",
       " ('2016-08-24', 'USC00519281', 77.0),\n",
       " ('2016-08-30', 'USC00519281', 77.0),\n",
       " ('2016-09-10', 'USC00519281', 77.0),\n",
       " ('2016-09-22', 'USC00519281', 77.0),\n",
       " ('2016-09-26', 'USC00519281', 77.0),\n",
       " ('2016-10-01', 'USC00519281', 77.0),\n",
       " ('2016-10-11', 'USC00519281', 77.0),\n",
       " ('2016-10-15', 'USC00519281', 77.0),\n",
       " ('2016-10-17', 'USC00519281', 77.0),\n",
       " ('2016-10-22', 'USC00519281', 77.0),\n",
       " ('2016-10-29', 'USC00519281', 77.0),\n",
       " ('2016-11-11', 'USC00519281', 77.0),\n",
       " ('2016-11-13', 'USC00519281', 77.0),\n",
       " ('2017-01-14', 'USC00519281', 77.0),\n",
       " ('2017-03-04', 'USC00519281', 77.0),\n",
       " ('2017-03-26', 'USC00519281', 77.0),\n",
       " ('2017-04-08', 'USC00519281', 77.0),\n",
       " ('2017-05-14', 'USC00519281', 77.0),\n",
       " ('2017-06-04', 'USC00519281', 77.0),\n",
       " ('2017-06-24', 'USC00519281', 77.0),\n",
       " ('2017-06-28', 'USC00519281', 77.0),\n",
       " ('2017-07-05', 'USC00519281', 77.0),\n",
       " ('2017-07-20', 'USC00519281', 77.0),\n",
       " ('2017-07-21', 'USC00519281', 77.0),\n",
       " ('2017-07-22', 'USC00519281', 77.0),\n",
       " ('2017-07-25', 'USC00519281', 77.0),\n",
       " ('2017-08-04', 'USC00519281', 77.0),\n",
       " ('2017-08-13', 'USC00519281', 77.0),\n",
       " ('2017-08-14', 'USC00519281', 77.0),\n",
       " ('2017-08-15', 'USC00519281', 77.0),\n",
       " ('2016-08-25', 'USC00516128', 77.0),\n",
       " ('2016-09-01', 'USC00516128', 77.0),\n",
       " ('2016-09-24', 'USC00516128', 77.0),\n",
       " ('2016-09-28', 'USC00516128', 77.0),\n",
       " ('2016-09-29', 'USC00516128', 77.0),\n",
       " ('2016-10-09', 'USC00516128', 77.0),\n",
       " ('2016-10-16', 'USC00516128', 77.0),\n",
       " ('2016-11-06', 'USC00516128', 77.0),\n",
       " ('2017-03-16', 'USC00516128', 77.0),\n",
       " ('2017-04-26', 'USC00516128', 77.0),\n",
       " ('2017-06-04', 'USC00516128', 77.0),\n",
       " ('2017-06-15', 'USC00516128', 77.0),\n",
       " ('2017-06-18', 'USC00516128', 77.0),\n",
       " ('2017-07-03', 'USC00516128', 77.0),\n",
       " ('2017-07-04', 'USC00516128', 77.0),\n",
       " ('2017-07-10', 'USC00516128', 77.0),\n",
       " ('2017-07-13', 'USC00516128', 77.0),\n",
       " ('2017-07-18', 'USC00516128', 77.0),\n",
       " ('2017-07-24', 'USC00516128', 77.0),\n",
       " ('2017-07-29', 'USC00516128', 77.0),\n",
       " ('2017-08-05', 'USC00516128', 77.0),\n",
       " ('2016-09-06', 'USC00519397', 76.0),\n",
       " ('2016-09-07', 'USC00519397', 76.0),\n",
       " ('2016-09-11', 'USC00519397', 76.0),\n",
       " ('2016-09-22', 'USC00519397', 76.0),\n",
       " ('2016-10-09', 'USC00519397', 76.0),\n",
       " ('2016-10-30', 'USC00519397', 76.0),\n",
       " ('2016-11-05', 'USC00519397', 76.0),\n",
       " ('2016-11-20', 'USC00519397', 76.0),\n",
       " ('2016-11-21', 'USC00519397', 76.0),\n",
       " ('2016-11-27', 'USC00519397', 76.0),\n",
       " ('2017-02-06', 'USC00519397', 76.0),\n",
       " ('2017-03-25', 'USC00519397', 76.0),\n",
       " ('2017-03-26', 'USC00519397', 76.0),\n",
       " ('2017-03-29', 'USC00519397', 76.0),\n",
       " ('2017-03-31', 'USC00519397', 76.0),\n",
       " ('2017-04-01', 'USC00519397', 76.0),\n",
       " ('2017-04-02', 'USC00519397', 76.0),\n",
       " ('2017-04-04', 'USC00519397', 76.0),\n",
       " ('2017-04-22', 'USC00519397', 76.0),\n",
       " ('2017-04-28', 'USC00519397', 76.0),\n",
       " ('2017-05-19', 'USC00519397', 76.0),\n",
       " ('2017-05-21', 'USC00519397', 76.0),\n",
       " ('2017-05-28', 'USC00519397', 76.0),\n",
       " ('2017-05-30', 'USC00519397', 76.0),\n",
       " ('2016-08-24', 'USC00513117', 76.0),\n",
       " ('2016-08-30', 'USC00513117', 76.0),\n",
       " ('2016-09-09', 'USC00513117', 76.0),\n",
       " ('2016-09-10', 'USC00513117', 76.0),\n",
       " ('2016-09-11', 'USC00513117', 76.0),\n",
       " ('2016-09-12', 'USC00513117', 76.0),\n",
       " ('2016-09-13', 'USC00513117', 76.0),\n",
       " ('2016-09-14', 'USC00513117', 76.0),\n",
       " ('2016-09-21', 'USC00513117', 76.0),\n",
       " ('2016-09-23', 'USC00513117', 76.0),\n",
       " ('2016-09-29', 'USC00513117', 76.0),\n",
       " ('2016-10-06', 'USC00513117', 76.0),\n",
       " ('2016-10-08', 'USC00513117', 76.0),\n",
       " ('2016-10-15', 'USC00513117', 76.0),\n",
       " ('2016-10-20', 'USC00513117', 76.0),\n",
       " ('2016-10-21', 'USC00513117', 76.0),\n",
       " ('2016-10-23', 'USC00513117', 76.0),\n",
       " ('2016-10-24', 'USC00513117', 76.0),\n",
       " ('2016-10-31', 'USC00513117', 76.0),\n",
       " ('2016-11-02', 'USC00513117', 76.0),\n",
       " ('2016-11-04', 'USC00513117', 76.0),\n",
       " ('2016-11-06', 'USC00513117', 76.0),\n",
       " ('2016-11-14', 'USC00513117', 76.0),\n",
       " ('2016-11-16', 'USC00513117', 76.0),\n",
       " ('2016-11-22', 'USC00513117', 76.0),\n",
       " ('2016-11-25', 'USC00513117', 76.0),\n",
       " ('2016-11-26', 'USC00513117', 76.0),\n",
       " ('2017-02-15', 'USC00513117', 76.0),\n",
       " ('2017-03-04', 'USC00513117', 76.0),\n",
       " ('2017-04-01', 'USC00513117', 76.0),\n",
       " ('2017-04-24', 'USC00513117', 76.0),\n",
       " ('2017-05-22', 'USC00513117', 76.0),\n",
       " ('2017-05-31', 'USC00513117', 76.0),\n",
       " ('2017-06-01', 'USC00513117', 76.0),\n",
       " ('2017-06-02', 'USC00513117', 76.0),\n",
       " ('2017-06-03', 'USC00513117', 76.0),\n",
       " ('2017-06-05', 'USC00513117', 76.0),\n",
       " ('2017-06-08', 'USC00513117', 76.0),\n",
       " ('2017-06-12', 'USC00513117', 76.0),\n",
       " ('2017-06-13', 'USC00513117', 76.0),\n",
       " ('2017-06-14', 'USC00513117', 76.0),\n",
       " ('2017-06-16', 'USC00513117', 76.0),\n",
       " ('2017-06-23', 'USC00513117', 76.0),\n",
       " ('2017-06-29', 'USC00513117', 76.0),\n",
       " ('2017-07-01', 'USC00513117', 76.0),\n",
       " ('2017-07-06', 'USC00513117', 76.0),\n",
       " ('2017-07-08', 'USC00513117', 76.0),\n",
       " ('2017-07-09', 'USC00513117', 76.0),\n",
       " ('2017-07-11', 'USC00513117', 76.0),\n",
       " ('2017-07-13', 'USC00513117', 76.0),\n",
       " ('2017-07-16', 'USC00513117', 76.0),\n",
       " ('2016-10-29', 'USC00514830', 76.0),\n",
       " ('2016-11-22', 'USC00514830', 76.0),\n",
       " ('2016-11-27', 'USC00514830', 76.0),\n",
       " ('2016-11-28', 'USC00514830', 76.0),\n",
       " ('2016-11-30', 'USC00514830', 76.0),\n",
       " ('2016-12-05', 'USC00514830', 76.0),\n",
       " ('2016-12-07', 'USC00514830', 76.0),\n",
       " ('2016-12-10', 'USC00514830', 76.0),\n",
       " ('2016-12-21', 'USC00514830', 76.0),\n",
       " ('2017-01-11', 'USC00514830', 76.0),\n",
       " ('2017-01-16', 'USC00514830', 76.0),\n",
       " ('2017-01-28', 'USC00514830', 76.0),\n",
       " ('2017-02-07', 'USC00514830', 76.0),\n",
       " ('2017-02-12', 'USC00514830', 76.0),\n",
       " ('2017-02-15', 'USC00514830', 76.0),\n",
       " ('2017-03-18', 'USC00514830', 76.0),\n",
       " ('2017-03-21', 'USC00514830', 76.0),\n",
       " ('2017-03-22', 'USC00514830', 76.0),\n",
       " ('2017-04-04', 'USC00514830', 76.0),\n",
       " ('2017-04-06', 'USC00514830', 76.0),\n",
       " ('2017-04-07', 'USC00514830', 76.0),\n",
       " ('2017-04-18', 'USC00514830', 76.0),\n",
       " ('2017-05-02', 'USC00514830', 76.0),\n",
       " ('2017-05-10', 'USC00514830', 76.0),\n",
       " ('2017-05-24', 'USC00514830', 76.0),\n",
       " ('2017-06-23', 'USC00514830', 76.0),\n",
       " ('2017-06-29', 'USC00514830', 76.0),\n",
       " ('2016-09-14', 'USC00517948', 76.0),\n",
       " ('2016-09-15', 'USC00517948', 76.0),\n",
       " ('2016-09-22', 'USC00517948', 76.0),\n",
       " ('2016-10-21', 'USC00517948', 76.0),\n",
       " ('2016-10-24', 'USC00517948', 76.0),\n",
       " ('2016-10-28', 'USC00517948', 76.0),\n",
       " ('2016-11-09', 'USC00517948', 76.0),\n",
       " ('2016-11-22', 'USC00517948', 76.0),\n",
       " ('2016-11-28', 'USC00517948', 76.0),\n",
       " ('2016-12-20', 'USC00517948', 76.0),\n",
       " ('2017-02-06', 'USC00517948', 76.0),\n",
       " ('2017-02-14', 'USC00517948', 76.0),\n",
       " ('2017-04-07', 'USC00517948', 76.0),\n",
       " ('2017-04-11', 'USC00517948', 76.0),\n",
       " ('2017-04-13', 'USC00517948', 76.0),\n",
       " ('2017-04-19', 'USC00517948', 76.0),\n",
       " ('2017-04-28', 'USC00517948', 76.0),\n",
       " ('2017-06-21', 'USC00517948', 76.0),\n",
       " ('2017-06-23', 'USC00517948', 76.0),\n",
       " ('2016-09-07', 'USC00519523', 76.0),\n",
       " ('2016-11-02', 'USC00519523', 76.0),\n",
       " ('2016-11-04', 'USC00519523', 76.0),\n",
       " ('2016-11-07', 'USC00519523', 76.0),\n",
       " ('2016-11-19', 'USC00519523', 76.0),\n",
       " ('2016-11-22', 'USC00519523', 76.0),\n",
       " ('2016-11-25', 'USC00519523', 76.0),\n",
       " ('2016-11-29', 'USC00519523', 76.0),\n",
       " ...]"
      ]
     },
     "execution_count": 53,
     "metadata": {},
     "output_type": "execute_result"
    }
   ],
   "source": [
    "# Create and run a query for the latest 12 months, sorted by 'tobs' in descending order\n",
    "session.query(Measurement.date, Measurement.station, Measurement.tobs).\\\n",
    "    order_by(Measurement.tobs.desc()).\\\n",
    "    filter(Measurement.date <= latest_date).\\\n",
    "    filter(Measurement.date > latest_twelve_months_date).\\\n",
    "    filter(Measurement.tobs != 'None').\\\n",
    "    all()"
   ]
  },
  {
   "cell_type": "code",
   "execution_count": 54,
   "metadata": {},
   "outputs": [
    {
     "name": "stdout",
     "output_type": "stream",
     "text": [
      "Date: 2017-04-30; Station: USC00516128; Observations: 58.0.\n"
     ]
    }
   ],
   "source": [
    "# Create a list with observations in descending order\n",
    "tobs_date_list = []\n",
    "tobs_sta_list  = []\n",
    "tobs_list      = []\n",
    "for row in session.query(Measurement.date, Measurement.station, Measurement.tobs).\\\n",
    "    order_by(Measurement.tobs.desc()).\\\n",
    "    filter(Measurement.date <= latest_date).\\\n",
    "    filter(Measurement.date > latest_twelve_months_date).\\\n",
    "    filter(Measurement.tobs != 'None').\\\n",
    "    all():\n",
    "    tobs_date_list.append(row[0])\n",
    "    tobs_sta_list.append(row[1])\n",
    "    tobs_list.append(row[2])\n",
    "print(f\"Date: {row[0]}; Station: {row[1]}; Observations: {row[2]}.\")"
   ]
  },
  {
   "cell_type": "code",
   "execution_count": 55,
   "metadata": {},
   "outputs": [
    {
     "name": "stdout",
     "output_type": "stream",
     "text": [
      "There are 2223 entries.\n"
     ]
    }
   ],
   "source": [
    "print(f\"There are {len(tobs_list)} entries.\")    "
   ]
  },
  {
   "cell_type": "code",
   "execution_count": 56,
   "metadata": {},
   "outputs": [],
   "source": [
    "# a. Filter by the station with the highest number of observations.\n",
    "def get_station_with_highest_observation(table_name):\n",
    "    # Get the highest observation value using func.max()\n",
    "    sta_highest_observation = session.query(func.max(table_name.tobs)).first()\n",
    "    # Save the first index from the results into sta_highest_observation variable\n",
    "    sta_highest_observation = sta_highest_observation[0]\n",
    "    # Query and save the name of the station with the highest observation\n",
    "    sta_high_tobs_name = session.query(Measurement.station, Measurement.tobs).\\\n",
    "    filter(Measurement.tobs == sta_highest_observation).first()\n",
    "    # Convert result to a string and get the name of the station\n",
    "    sta_high_tobs_name_str = str(sta_high_tobs_name[0])\n",
    "    sta_high_tobs_name_str = sta_high_tobs_name_str.split(',')[0]\n",
    "    # Return the two variables\n",
    "    return sta_highest_observation, sta_high_tobs_name_str"
   ]
  },
  {
   "cell_type": "code",
   "execution_count": 57,
   "metadata": {},
   "outputs": [
    {
     "data": {
      "text/plain": [
       "(87.0, 'USC00519397')"
      ]
     },
     "execution_count": 57,
     "metadata": {},
     "output_type": "execute_result"
    }
   ],
   "source": [
    "get_station_with_highest_observation(Measurement)"
   ]
  },
  {
   "cell_type": "markdown",
   "metadata": {},
   "source": [
    "### b. Plot the results as a histogram with `bins=12`\n"
   ]
  },
  {
   "cell_type": "code",
   "execution_count": 59,
   "metadata": {},
   "outputs": [],
   "source": [
    "# Convert date list into datetime format \n",
    "tobs_date_list_datetime = pd.to_datetime(tobs_date_list)"
   ]
  },
  {
   "cell_type": "code",
   "execution_count": 60,
   "metadata": {},
   "outputs": [
    {
     "name": "stdout",
     "output_type": "stream",
     "text": [
      "Date: 2223, Stations: 2223, Observations: 2223.\n"
     ]
    }
   ],
   "source": [
    "# Check the lengths of the lists\n",
    "print(f\"Date: {len(tobs_date_list_datetime)}, Stations: {len(tobs_sta_list)}, Observations: {len(tobs_list)}.\")"
   ]
  },
  {
   "cell_type": "code",
   "execution_count": 61,
   "metadata": {},
   "outputs": [
    {
     "data": {
      "text/html": [
       "<div>\n",
       "<style scoped>\n",
       "    .dataframe tbody tr th:only-of-type {\n",
       "        vertical-align: middle;\n",
       "    }\n",
       "\n",
       "    .dataframe tbody tr th {\n",
       "        vertical-align: top;\n",
       "    }\n",
       "\n",
       "    .dataframe thead th {\n",
       "        text-align: right;\n",
       "    }\n",
       "</style>\n",
       "<table border=\"1\" class=\"dataframe\">\n",
       "  <thead>\n",
       "    <tr style=\"text-align: right;\">\n",
       "      <th></th>\n",
       "      <th>Temp. Observed (DegF)</th>\n",
       "      <th>Date</th>\n",
       "      <th>Station</th>\n",
       "    </tr>\n",
       "  </thead>\n",
       "  <tbody>\n",
       "    <tr>\n",
       "      <th>0</th>\n",
       "      <td>87.0</td>\n",
       "      <td>2017-05-23</td>\n",
       "      <td>USC00519397</td>\n",
       "    </tr>\n",
       "    <tr>\n",
       "      <th>1</th>\n",
       "      <td>87.0</td>\n",
       "      <td>2017-07-03</td>\n",
       "      <td>USC00517948</td>\n",
       "    </tr>\n",
       "    <tr>\n",
       "      <th>2</th>\n",
       "      <td>85.0</td>\n",
       "      <td>2017-08-19</td>\n",
       "      <td>USC00519523</td>\n",
       "    </tr>\n",
       "    <tr>\n",
       "      <th>3</th>\n",
       "      <td>84.0</td>\n",
       "      <td>2016-08-26</td>\n",
       "      <td>USC00519523</td>\n",
       "    </tr>\n",
       "    <tr>\n",
       "      <th>4</th>\n",
       "      <td>84.0</td>\n",
       "      <td>2016-09-04</td>\n",
       "      <td>USC00519523</td>\n",
       "    </tr>\n",
       "    <tr>\n",
       "      <th>...</th>\n",
       "      <td>...</td>\n",
       "      <td>...</td>\n",
       "      <td>...</td>\n",
       "    </tr>\n",
       "    <tr>\n",
       "      <th>2218</th>\n",
       "      <td>60.0</td>\n",
       "      <td>2017-02-02</td>\n",
       "      <td>USC00516128</td>\n",
       "    </tr>\n",
       "    <tr>\n",
       "      <th>2219</th>\n",
       "      <td>59.0</td>\n",
       "      <td>2017-02-02</td>\n",
       "      <td>USC00519281</td>\n",
       "    </tr>\n",
       "    <tr>\n",
       "      <th>2220</th>\n",
       "      <td>59.0</td>\n",
       "      <td>2017-02-08</td>\n",
       "      <td>USC00519281</td>\n",
       "    </tr>\n",
       "    <tr>\n",
       "      <th>2221</th>\n",
       "      <td>59.0</td>\n",
       "      <td>2017-02-09</td>\n",
       "      <td>USC00519281</td>\n",
       "    </tr>\n",
       "    <tr>\n",
       "      <th>2222</th>\n",
       "      <td>58.0</td>\n",
       "      <td>2017-04-30</td>\n",
       "      <td>USC00516128</td>\n",
       "    </tr>\n",
       "  </tbody>\n",
       "</table>\n",
       "<p>2223 rows × 3 columns</p>\n",
       "</div>"
      ],
      "text/plain": [
       "      Temp. Observed (DegF)       Date      Station\n",
       "0                      87.0 2017-05-23  USC00519397\n",
       "1                      87.0 2017-07-03  USC00517948\n",
       "2                      85.0 2017-08-19  USC00519523\n",
       "3                      84.0 2016-08-26  USC00519523\n",
       "4                      84.0 2016-09-04  USC00519523\n",
       "...                     ...        ...          ...\n",
       "2218                   60.0 2017-02-02  USC00516128\n",
       "2219                   59.0 2017-02-02  USC00519281\n",
       "2220                   59.0 2017-02-08  USC00519281\n",
       "2221                   59.0 2017-02-09  USC00519281\n",
       "2222                   58.0 2017-04-30  USC00516128\n",
       "\n",
       "[2223 rows x 3 columns]"
      ]
     },
     "execution_count": 61,
     "metadata": {},
     "output_type": "execute_result"
    }
   ],
   "source": [
    "# Create dataframe with tobs_sta_list, tobs_list and tobs_date_list data\n",
    "df = pd.DataFrame({'Temp. Observed (DegF)': tobs_list, 'Date': tobs_date_list_datetime, \n",
    "                        'Station': tobs_sta_list})\n",
    "df"
   ]
  },
  {
   "cell_type": "code",
   "execution_count": 62,
   "metadata": {},
   "outputs": [
    {
     "data": {
      "text/plain": [
       "87.0"
      ]
     },
     "execution_count": 62,
     "metadata": {},
     "output_type": "execute_result"
    }
   ],
   "source": [
    "# Check maximum observed temperature, extract the list, then extract first index in the list\n",
    "tobs_max_latest_12_months = session.query(func.max(Measurement.tobs)).all()[0][0]\n",
    "tobs_max_latest_12_months"
   ]
  },
  {
   "cell_type": "code",
   "execution_count": 63,
   "metadata": {},
   "outputs": [
    {
     "data": {
      "text/plain": [
       "53.0"
      ]
     },
     "execution_count": 63,
     "metadata": {},
     "output_type": "execute_result"
    }
   ],
   "source": [
    "# Check minimum observed temperature, extract the list, then extract first index in the list\n",
    "tobs_min_latest_12_months = session.query(func.min(Measurement.tobs)).all()[0][0]\n",
    "tobs_min_latest_12_months"
   ]
  },
  {
   "cell_type": "code",
   "execution_count": 64,
   "metadata": {},
   "outputs": [
    {
     "data": {
      "text/plain": [
       "'2017-08-23'"
      ]
     },
     "execution_count": 64,
     "metadata": {},
     "output_type": "execute_result"
    }
   ],
   "source": [
    "# Create bins for months in the past 12 months\n",
    "latest_date"
   ]
  },
  {
   "cell_type": "code",
   "execution_count": 65,
   "metadata": {},
   "outputs": [
    {
     "data": {
      "text/plain": [
       "datetime.date(2016, 8, 23)"
      ]
     },
     "execution_count": 65,
     "metadata": {},
     "output_type": "execute_result"
    }
   ],
   "source": [
    "# Check the latest_twelve_months_date value and time\n",
    "latest_twelve_months_date"
   ]
  },
  {
   "cell_type": "code",
   "execution_count": 66,
   "metadata": {},
   "outputs": [],
   "source": [
    "# # Create bins based on min and max dates\n",
    "# tobs_df = pd.DataFrame(pd.date_range(latest_twelve_months_date, freq='1M', periods=12), columns=['Date'])\n",
    "# tobs_df"
   ]
  },
  {
   "cell_type": "code",
   "execution_count": 67,
   "metadata": {},
   "outputs": [
    {
     "data": {
      "text/plain": [
       "array(['2016-08-31', '2016-09-30', '2016-10-31', '2016-11-30',\n",
       "       '2016-12-31', '2017-01-31', '2017-02-28', '2017-03-31',\n",
       "       '2017-04-30', '2017-05-31', '2017-06-30', '2017-07-31'],\n",
       "      dtype=object)"
      ]
     },
     "execution_count": 67,
     "metadata": {},
     "output_type": "execute_result"
    }
   ],
   "source": [
    "# Cut pd series into bins by months\n",
    "bins_dt = pd.date_range(latest_twelve_months_date, freq='1M', periods=12)\n",
    "bins_str = bins_dt.astype(str).values\n",
    "bins_str"
   ]
  },
  {
   "cell_type": "code",
   "execution_count": 68,
   "metadata": {},
   "outputs": [
    {
     "data": {
      "text/html": [
       "<div>\n",
       "<style scoped>\n",
       "    .dataframe tbody tr th:only-of-type {\n",
       "        vertical-align: middle;\n",
       "    }\n",
       "\n",
       "    .dataframe tbody tr th {\n",
       "        vertical-align: top;\n",
       "    }\n",
       "\n",
       "    .dataframe thead th {\n",
       "        text-align: right;\n",
       "    }\n",
       "</style>\n",
       "<table border=\"1\" class=\"dataframe\">\n",
       "  <thead>\n",
       "    <tr style=\"text-align: right;\">\n",
       "      <th></th>\n",
       "      <th>Temp. Observed (DegF)</th>\n",
       "      <th>Date</th>\n",
       "      <th>Station</th>\n",
       "      <th>cut</th>\n",
       "    </tr>\n",
       "  </thead>\n",
       "  <tbody>\n",
       "    <tr>\n",
       "      <th>0</th>\n",
       "      <td>87.0</td>\n",
       "      <td>2017-05-23</td>\n",
       "      <td>USC00519397</td>\n",
       "      <td>(2017-04-30, 2017-05-31]</td>\n",
       "    </tr>\n",
       "    <tr>\n",
       "      <th>1</th>\n",
       "      <td>87.0</td>\n",
       "      <td>2017-07-03</td>\n",
       "      <td>USC00517948</td>\n",
       "      <td>(2017-06-30, 2017-07-31]</td>\n",
       "    </tr>\n",
       "    <tr>\n",
       "      <th>2</th>\n",
       "      <td>85.0</td>\n",
       "      <td>2017-08-19</td>\n",
       "      <td>USC00519523</td>\n",
       "      <td>NaN</td>\n",
       "    </tr>\n",
       "    <tr>\n",
       "      <th>3</th>\n",
       "      <td>84.0</td>\n",
       "      <td>2016-08-26</td>\n",
       "      <td>USC00519523</td>\n",
       "      <td>NaN</td>\n",
       "    </tr>\n",
       "    <tr>\n",
       "      <th>4</th>\n",
       "      <td>84.0</td>\n",
       "      <td>2016-09-04</td>\n",
       "      <td>USC00519523</td>\n",
       "      <td>(2016-08-31, 2016-09-30]</td>\n",
       "    </tr>\n",
       "    <tr>\n",
       "      <th>...</th>\n",
       "      <td>...</td>\n",
       "      <td>...</td>\n",
       "      <td>...</td>\n",
       "      <td>...</td>\n",
       "    </tr>\n",
       "    <tr>\n",
       "      <th>95</th>\n",
       "      <td>81.0</td>\n",
       "      <td>2017-05-31</td>\n",
       "      <td>USC00514830</td>\n",
       "      <td>(2017-04-30, 2017-05-31]</td>\n",
       "    </tr>\n",
       "    <tr>\n",
       "      <th>96</th>\n",
       "      <td>81.0</td>\n",
       "      <td>2017-06-01</td>\n",
       "      <td>USC00514830</td>\n",
       "      <td>(2017-05-31, 2017-06-30]</td>\n",
       "    </tr>\n",
       "    <tr>\n",
       "      <th>97</th>\n",
       "      <td>81.0</td>\n",
       "      <td>2017-06-05</td>\n",
       "      <td>USC00514830</td>\n",
       "      <td>(2017-05-31, 2017-06-30]</td>\n",
       "    </tr>\n",
       "    <tr>\n",
       "      <th>98</th>\n",
       "      <td>81.0</td>\n",
       "      <td>2017-06-07</td>\n",
       "      <td>USC00514830</td>\n",
       "      <td>(2017-05-31, 2017-06-30]</td>\n",
       "    </tr>\n",
       "    <tr>\n",
       "      <th>99</th>\n",
       "      <td>81.0</td>\n",
       "      <td>2017-06-09</td>\n",
       "      <td>USC00514830</td>\n",
       "      <td>(2017-05-31, 2017-06-30]</td>\n",
       "    </tr>\n",
       "  </tbody>\n",
       "</table>\n",
       "<p>100 rows × 4 columns</p>\n",
       "</div>"
      ],
      "text/plain": [
       "    Temp. Observed (DegF)       Date      Station                       cut\n",
       "0                    87.0 2017-05-23  USC00519397  (2017-04-30, 2017-05-31]\n",
       "1                    87.0 2017-07-03  USC00517948  (2017-06-30, 2017-07-31]\n",
       "2                    85.0 2017-08-19  USC00519523                       NaN\n",
       "3                    84.0 2016-08-26  USC00519523                       NaN\n",
       "4                    84.0 2016-09-04  USC00519523  (2016-08-31, 2016-09-30]\n",
       "..                    ...        ...          ...                       ...\n",
       "95                   81.0 2017-05-31  USC00514830  (2017-04-30, 2017-05-31]\n",
       "96                   81.0 2017-06-01  USC00514830  (2017-05-31, 2017-06-30]\n",
       "97                   81.0 2017-06-05  USC00514830  (2017-05-31, 2017-06-30]\n",
       "98                   81.0 2017-06-07  USC00514830  (2017-05-31, 2017-06-30]\n",
       "99                   81.0 2017-06-09  USC00514830  (2017-05-31, 2017-06-30]\n",
       "\n",
       "[100 rows x 4 columns]"
      ]
     },
     "execution_count": 68,
     "metadata": {},
     "output_type": "execute_result"
    }
   ],
   "source": [
    "# Create lables \n",
    "labels = ['({}, {}]'.format(bins_str[i-1], bins_str[i]) for i in range(1, len(bins_str))]\n",
    "\n",
    "df['cut'] = pd.cut(df.Date.astype(np.int64)//10**9,\n",
    "                   bins=bins_dt.astype(np.int64)//10**9,\n",
    "                   labels=labels)\n",
    "df.head(100)"
   ]
  },
  {
   "cell_type": "code",
   "execution_count": 69,
   "metadata": {},
   "outputs": [
    {
     "data": {
      "text/html": [
       "<div>\n",
       "<style scoped>\n",
       "    .dataframe tbody tr th:only-of-type {\n",
       "        vertical-align: middle;\n",
       "    }\n",
       "\n",
       "    .dataframe tbody tr th {\n",
       "        vertical-align: top;\n",
       "    }\n",
       "\n",
       "    .dataframe thead th {\n",
       "        text-align: right;\n",
       "    }\n",
       "</style>\n",
       "<table border=\"1\" class=\"dataframe\">\n",
       "  <thead>\n",
       "    <tr style=\"text-align: right;\">\n",
       "      <th></th>\n",
       "      <th>Temp. Observed (DegF)</th>\n",
       "      <th>Date</th>\n",
       "      <th>Station</th>\n",
       "      <th>cut</th>\n",
       "    </tr>\n",
       "  </thead>\n",
       "  <tbody>\n",
       "    <tr>\n",
       "      <th>58</th>\n",
       "      <td>82.0</td>\n",
       "      <td>2017-08-23</td>\n",
       "      <td>USC00519523</td>\n",
       "      <td>NaN</td>\n",
       "    </tr>\n",
       "    <tr>\n",
       "      <th>81</th>\n",
       "      <td>81.0</td>\n",
       "      <td>2017-08-23</td>\n",
       "      <td>USC00519397</td>\n",
       "      <td>NaN</td>\n",
       "    </tr>\n",
       "    <tr>\n",
       "      <th>38</th>\n",
       "      <td>82.0</td>\n",
       "      <td>2017-08-23</td>\n",
       "      <td>USC00514830</td>\n",
       "      <td>NaN</td>\n",
       "    </tr>\n",
       "    <tr>\n",
       "      <th>1079</th>\n",
       "      <td>76.0</td>\n",
       "      <td>2017-08-23</td>\n",
       "      <td>USC00516128</td>\n",
       "      <td>NaN</td>\n",
       "    </tr>\n",
       "    <tr>\n",
       "      <th>57</th>\n",
       "      <td>82.0</td>\n",
       "      <td>2017-08-22</td>\n",
       "      <td>USC00519523</td>\n",
       "      <td>NaN</td>\n",
       "    </tr>\n",
       "  </tbody>\n",
       "</table>\n",
       "</div>"
      ],
      "text/plain": [
       "      Temp. Observed (DegF)       Date      Station  cut\n",
       "58                     82.0 2017-08-23  USC00519523  NaN\n",
       "81                     81.0 2017-08-23  USC00519397  NaN\n",
       "38                     82.0 2017-08-23  USC00514830  NaN\n",
       "1079                   76.0 2017-08-23  USC00516128  NaN\n",
       "57                     82.0 2017-08-22  USC00519523  NaN"
      ]
     },
     "execution_count": 69,
     "metadata": {},
     "output_type": "execute_result"
    }
   ],
   "source": [
    "# Sort dataframe by date column in descending order\n",
    "sorted_df = df.sort_values(by='Date', ascending=False)\n",
    "sorted_df.head()"
   ]
  },
  {
   "cell_type": "markdown",
   "metadata": {},
   "source": [
    "### Create data frame sorted by Date in descending order"
   ]
  },
  {
   "cell_type": "code",
   "execution_count": 70,
   "metadata": {},
   "outputs": [
    {
     "name": "stdout",
     "output_type": "stream",
     "text": [
      "Date: 2016-08-24; Station: USC00516128; Observations: 74.0.\n"
     ]
    }
   ],
   "source": [
    "# Create df from query by Date in descending order\n",
    "tobs_date_desc_list = []\n",
    "tobs_sta_desc_list  = []\n",
    "tobs_desc_list      = []\n",
    "for row in session.query(Measurement.date, Measurement.station, Measurement.tobs).\\\n",
    "    order_by(Measurement.date.desc()).\\\n",
    "    filter(Measurement.date <= latest_date).\\\n",
    "    filter(Measurement.date > latest_twelve_months_date).\\\n",
    "    filter(Measurement.tobs != 'None').\\\n",
    "    all():\n",
    "    tobs_date_desc_list.append(row[0])\n",
    "    tobs_sta_desc_list.append(row[1])\n",
    "    tobs_desc_list.append(row[2])\n",
    "print(f\"Date: {row[0]}; Station: {row[1]}; Observations: {row[2]}.\")"
   ]
  },
  {
   "cell_type": "code",
   "execution_count": 71,
   "metadata": {},
   "outputs": [],
   "source": [
    "# Convert date list into datetime format \n",
    "tobs_date_list_desc_datetime = pd.to_datetime(tobs_date_desc_list)"
   ]
  },
  {
   "cell_type": "code",
   "execution_count": 72,
   "metadata": {},
   "outputs": [
    {
     "data": {
      "text/html": [
       "<div>\n",
       "<style scoped>\n",
       "    .dataframe tbody tr th:only-of-type {\n",
       "        vertical-align: middle;\n",
       "    }\n",
       "\n",
       "    .dataframe tbody tr th {\n",
       "        vertical-align: top;\n",
       "    }\n",
       "\n",
       "    .dataframe thead th {\n",
       "        text-align: right;\n",
       "    }\n",
       "</style>\n",
       "<table border=\"1\" class=\"dataframe\">\n",
       "  <thead>\n",
       "    <tr style=\"text-align: right;\">\n",
       "      <th></th>\n",
       "      <th>Date</th>\n",
       "      <th>Temp. Observed (DegF)</th>\n",
       "      <th>Station</th>\n",
       "    </tr>\n",
       "  </thead>\n",
       "  <tbody>\n",
       "    <tr>\n",
       "      <th>0</th>\n",
       "      <td>2017-08-23</td>\n",
       "      <td>81.0</td>\n",
       "      <td>USC00519397</td>\n",
       "    </tr>\n",
       "    <tr>\n",
       "      <th>1</th>\n",
       "      <td>2017-08-23</td>\n",
       "      <td>82.0</td>\n",
       "      <td>USC00514830</td>\n",
       "    </tr>\n",
       "    <tr>\n",
       "      <th>2</th>\n",
       "      <td>2017-08-23</td>\n",
       "      <td>82.0</td>\n",
       "      <td>USC00519523</td>\n",
       "    </tr>\n",
       "    <tr>\n",
       "      <th>3</th>\n",
       "      <td>2017-08-23</td>\n",
       "      <td>76.0</td>\n",
       "      <td>USC00516128</td>\n",
       "    </tr>\n",
       "    <tr>\n",
       "      <th>4</th>\n",
       "      <td>2017-08-22</td>\n",
       "      <td>82.0</td>\n",
       "      <td>USC00519397</td>\n",
       "    </tr>\n",
       "    <tr>\n",
       "      <th>5</th>\n",
       "      <td>2017-08-22</td>\n",
       "      <td>82.0</td>\n",
       "      <td>USC00519523</td>\n",
       "    </tr>\n",
       "    <tr>\n",
       "      <th>6</th>\n",
       "      <td>2017-08-22</td>\n",
       "      <td>76.0</td>\n",
       "      <td>USC00516128</td>\n",
       "    </tr>\n",
       "    <tr>\n",
       "      <th>7</th>\n",
       "      <td>2017-08-21</td>\n",
       "      <td>81.0</td>\n",
       "      <td>USC00519397</td>\n",
       "    </tr>\n",
       "    <tr>\n",
       "      <th>8</th>\n",
       "      <td>2017-08-21</td>\n",
       "      <td>79.0</td>\n",
       "      <td>USC00514830</td>\n",
       "    </tr>\n",
       "    <tr>\n",
       "      <th>9</th>\n",
       "      <td>2017-08-21</td>\n",
       "      <td>82.0</td>\n",
       "      <td>USC00519523</td>\n",
       "    </tr>\n",
       "    <tr>\n",
       "      <th>10</th>\n",
       "      <td>2017-08-21</td>\n",
       "      <td>76.0</td>\n",
       "      <td>USC00516128</td>\n",
       "    </tr>\n",
       "    <tr>\n",
       "      <th>11</th>\n",
       "      <td>2017-08-20</td>\n",
       "      <td>81.0</td>\n",
       "      <td>USC00519397</td>\n",
       "    </tr>\n",
       "    <tr>\n",
       "      <th>12</th>\n",
       "      <td>2017-08-20</td>\n",
       "      <td>80.0</td>\n",
       "      <td>USC00514830</td>\n",
       "    </tr>\n",
       "    <tr>\n",
       "      <th>13</th>\n",
       "      <td>2017-08-20</td>\n",
       "      <td>78.0</td>\n",
       "      <td>USC00516128</td>\n",
       "    </tr>\n",
       "    <tr>\n",
       "      <th>14</th>\n",
       "      <td>2017-08-19</td>\n",
       "      <td>79.0</td>\n",
       "      <td>USC00519397</td>\n",
       "    </tr>\n",
       "    <tr>\n",
       "      <th>15</th>\n",
       "      <td>2017-08-19</td>\n",
       "      <td>80.0</td>\n",
       "      <td>USC00514830</td>\n",
       "    </tr>\n",
       "    <tr>\n",
       "      <th>16</th>\n",
       "      <td>2017-08-19</td>\n",
       "      <td>85.0</td>\n",
       "      <td>USC00519523</td>\n",
       "    </tr>\n",
       "    <tr>\n",
       "      <th>17</th>\n",
       "      <td>2017-08-19</td>\n",
       "      <td>71.0</td>\n",
       "      <td>USC00516128</td>\n",
       "    </tr>\n",
       "    <tr>\n",
       "      <th>18</th>\n",
       "      <td>2017-08-18</td>\n",
       "      <td>80.0</td>\n",
       "      <td>USC00519397</td>\n",
       "    </tr>\n",
       "    <tr>\n",
       "      <th>19</th>\n",
       "      <td>2017-08-18</td>\n",
       "      <td>77.0</td>\n",
       "      <td>USC00514830</td>\n",
       "    </tr>\n",
       "    <tr>\n",
       "      <th>20</th>\n",
       "      <td>2017-08-18</td>\n",
       "      <td>79.0</td>\n",
       "      <td>USC00519281</td>\n",
       "    </tr>\n",
       "    <tr>\n",
       "      <th>21</th>\n",
       "      <td>2017-08-18</td>\n",
       "      <td>76.0</td>\n",
       "      <td>USC00516128</td>\n",
       "    </tr>\n",
       "    <tr>\n",
       "      <th>22</th>\n",
       "      <td>2017-08-17</td>\n",
       "      <td>78.0</td>\n",
       "      <td>USC00514830</td>\n",
       "    </tr>\n",
       "    <tr>\n",
       "      <th>23</th>\n",
       "      <td>2017-08-17</td>\n",
       "      <td>83.0</td>\n",
       "      <td>USC00519523</td>\n",
       "    </tr>\n",
       "    <tr>\n",
       "      <th>24</th>\n",
       "      <td>2017-08-17</td>\n",
       "      <td>76.0</td>\n",
       "      <td>USC00519281</td>\n",
       "    </tr>\n",
       "    <tr>\n",
       "      <th>25</th>\n",
       "      <td>2017-08-17</td>\n",
       "      <td>72.0</td>\n",
       "      <td>USC00516128</td>\n",
       "    </tr>\n",
       "    <tr>\n",
       "      <th>26</th>\n",
       "      <td>2017-08-16</td>\n",
       "      <td>82.0</td>\n",
       "      <td>USC00514830</td>\n",
       "    </tr>\n",
       "    <tr>\n",
       "      <th>27</th>\n",
       "      <td>2017-08-16</td>\n",
       "      <td>79.0</td>\n",
       "      <td>USC00519523</td>\n",
       "    </tr>\n",
       "    <tr>\n",
       "      <th>28</th>\n",
       "      <td>2017-08-16</td>\n",
       "      <td>76.0</td>\n",
       "      <td>USC00519281</td>\n",
       "    </tr>\n",
       "    <tr>\n",
       "      <th>29</th>\n",
       "      <td>2017-08-16</td>\n",
       "      <td>71.0</td>\n",
       "      <td>USC00516128</td>\n",
       "    </tr>\n",
       "  </tbody>\n",
       "</table>\n",
       "</div>"
      ],
      "text/plain": [
       "         Date  Temp. Observed (DegF)      Station\n",
       "0  2017-08-23                   81.0  USC00519397\n",
       "1  2017-08-23                   82.0  USC00514830\n",
       "2  2017-08-23                   82.0  USC00519523\n",
       "3  2017-08-23                   76.0  USC00516128\n",
       "4  2017-08-22                   82.0  USC00519397\n",
       "5  2017-08-22                   82.0  USC00519523\n",
       "6  2017-08-22                   76.0  USC00516128\n",
       "7  2017-08-21                   81.0  USC00519397\n",
       "8  2017-08-21                   79.0  USC00514830\n",
       "9  2017-08-21                   82.0  USC00519523\n",
       "10 2017-08-21                   76.0  USC00516128\n",
       "11 2017-08-20                   81.0  USC00519397\n",
       "12 2017-08-20                   80.0  USC00514830\n",
       "13 2017-08-20                   78.0  USC00516128\n",
       "14 2017-08-19                   79.0  USC00519397\n",
       "15 2017-08-19                   80.0  USC00514830\n",
       "16 2017-08-19                   85.0  USC00519523\n",
       "17 2017-08-19                   71.0  USC00516128\n",
       "18 2017-08-18                   80.0  USC00519397\n",
       "19 2017-08-18                   77.0  USC00514830\n",
       "20 2017-08-18                   79.0  USC00519281\n",
       "21 2017-08-18                   76.0  USC00516128\n",
       "22 2017-08-17                   78.0  USC00514830\n",
       "23 2017-08-17                   83.0  USC00519523\n",
       "24 2017-08-17                   76.0  USC00519281\n",
       "25 2017-08-17                   72.0  USC00516128\n",
       "26 2017-08-16                   82.0  USC00514830\n",
       "27 2017-08-16                   79.0  USC00519523\n",
       "28 2017-08-16                   76.0  USC00519281\n",
       "29 2017-08-16                   71.0  USC00516128"
      ]
     },
     "execution_count": 72,
     "metadata": {},
     "output_type": "execute_result"
    }
   ],
   "source": [
    "# Create dataframe sorted by date in descending order\n",
    "desc_df = pd.DataFrame({'Date': tobs_date_list_desc_datetime, \n",
    "                   'Temp. Observed (DegF)': tobs_desc_list, 'Station': tobs_sta_desc_list})\n",
    "desc_df.head(30)"
   ]
  },
  {
   "cell_type": "code",
   "execution_count": 75,
   "metadata": {},
   "outputs": [
    {
     "data": {
      "text/plain": [
       "Text(0, 0.5, 'Temp. Observed - Frequency')"
      ]
     },
     "execution_count": 75,
     "metadata": {},
     "output_type": "execute_result"
    },
    {
     "data": {
      "image/png": "[encoded data removed]",
      "text/plain": [
       "<Figure size 720x360 with 1 Axes>"
      ]
     },
     "metadata": {},
     "output_type": "display_data"
    }
   ],
   "source": [
    "desc_df['Temp. Observed (DegF)'].hist(bins=12, xrot=45, figsize=(10,5), ec=\"k\")\n",
    "# [x.title.set_size(12) for x in fig.ravel()]\n",
    "plt.title(\"Histogram of Observed Temperatures\")\n",
    "plt.xlabel(\"Temperature bins (DegF)\")\n",
    "plt.ylabel(\"Temp. Observed - Frequency\")\n",
    "plt.legend(\"Frequency observed\")"
   ]
  },
  {
   "cell_type": "markdown",
   "metadata": {},
   "source": [
    "## Bonus Challenge Assignment"
   ]
  },
  {
   "cell_type": "code",
   "execution_count": 83,
   "metadata": {},
   "outputs": [],
   "source": [
    "# This function called `calc_temps` will accept start date and end date in the format '%Y-%m-%d' \n",
    "# and return the minimum, average, and maximum temperatures for that range of dates\n",
    "def calc_temps(start_date, end_date):\n",
    "    \"\"\"TMIN, TAVG, and TMAX for a list of dates.\n",
    "    1. Assume the input is correctly formatted to %Y-%m-%d\n",
    "    \n",
    "    Args:\n",
    "        start_date (string): A date string in the format %Y-%m-%d\n",
    "        end_date (string): A date string in the format %Y-%m-%d\n",
    "        \n",
    "    Returns:\n",
    "        TMIN, TAVE, and TMAX\n",
    "    \"\"\"\n",
    "    \n",
    "    return session.query(func.min(Measurement.tobs), func.avg(Measurement.tobs), func.max(Measurement.tobs)).\\\n",
    "        filter(Measurement.date >= start_date).filter(Measurement.date <= end_date).all()\n",
    "\n",
    "# function usage example\n",
    "# print(calc_temps('2012-02-28', '2012-03-05'))"
   ]
  },
  {
   "cell_type": "code",
   "execution_count": 84,
   "metadata": {},
   "outputs": [
    {
     "data": {
      "text/plain": [
       "[(58.0, 74.59058295964125, 87.0)]"
      ]
     },
     "execution_count": 84,
     "metadata": {},
     "output_type": "execute_result"
    }
   ],
   "source": [
    "# Use your previous function `calc_temps` to calculate the tmin, tavg, and tmax \n",
    "# for your trip using the previous year's data for those same dates.\n",
    "calc_temps(latest_twelve_months_date, latest_date)"
   ]
  },
  {
   "cell_type": "code",
   "execution_count": null,
   "metadata": {},
   "outputs": [],
   "source": [
    "# Plot the results from your previous query as a bar chart. \n",
    "# Use \"Trip Avg Temp\" as your Title\n",
    "plt.title(\"Trip Avg Temp\")"
   ]
  },
  {
   "cell_type": "code",
   "execution_count": 111,
   "metadata": {},
   "outputs": [
    {
     "name": "stdout",
     "output_type": "stream",
     "text": [
      "Min temp: 58.0, temp_avg: 74.59058295964125, temp_max: 87.0.\n"
     ]
    }
   ],
   "source": [
    "# y_axis = calc_temps\n",
    "# type(calc_temps(latest_twelve_months_date, latest_date))\n",
    "results = calc_temps(latest_twelve_months_date, latest_date)\n",
    "# print(results[0])\n",
    "#type(results[0])\n",
    "list_result = list(results[0])\n",
    "type(list_result)\n",
    "temp_min = list_result[0]\n",
    "temp_avg = list_result[1]\n",
    "temp_max = list_result[2]\n",
    "print(f\"Min temp: {temp_min}, temp_avg: {temp_avg}, temp_max: {temp_max}.\")\n",
    "# temp_df = pd.DataFrame({'Temp. Min': temp_min, 'Temp. Average': temp_avg, 'Temp. Max:' temp_max})\n",
    "# temp_df\n",
    "# split_result_string = results[0].split(',')\n",
    "# split_str = (calc_temps(latest_twelve_months_date, latest_date))[0].split(', ')\n",
    "# Use the average temperature for the y value\n",
    "# Use the peak-to-peak (tmax-tmin) value as the y error bar (yerr)"
   ]
  },
  {
   "cell_type": "code",
   "execution_count": 36,
   "metadata": {},
   "outputs": [],
   "source": [
    "# Calculate the total amount of rainfall per weather station for your trip dates using the previous year's matching dates.\n",
    "# Sort this in descending order by precipitation amount and list the station, name, latitude, longitude, and elevation\n",
    "\n"
   ]
  },
  {
   "cell_type": "code",
   "execution_count": 37,
   "metadata": {},
   "outputs": [
    {
     "data": {
      "text/plain": [
       "[(62.0, 69.15384615384616, 77.0)]"
      ]
     },
     "execution_count": 37,
     "metadata": {},
     "output_type": "execute_result"
    }
   ],
   "source": [
    "# Create a query that will calculate the daily normals \n",
    "# (i.e. the averages for tmin, tmax, and tavg for all historic data matching a specific month and day)\n",
    "\n",
    "def daily_normals(date):\n",
    "    \"\"\"Daily Normals.\n",
    "    \n",
    "    Args:\n",
    "        date (str): A date string in the format '%m-%d'\n",
    "        \n",
    "    Returns:\n",
    "        A list of tuples containing the daily normals, tmin, tavg, and tmax\n",
    "    \n",
    "    \"\"\"\n",
    "    \n",
    "    sel = [func.min(Measurement.tobs), func.avg(Measurement.tobs), func.max(Measurement.tobs)]\n",
    "    return session.query(*sel).filter(func.strftime(\"%m-%d\", Measurement.date) == date).all()\n",
    "    \n",
    "daily_normals(\"01-01\")"
   ]
  },
  {
   "cell_type": "code",
   "execution_count": 38,
   "metadata": {},
   "outputs": [],
   "source": [
    "# calculate the daily normals for your trip\n",
    "# push each tuple of calculations into a list called `normals`\n",
    "\n",
    "# Set the start and end date of the trip\n",
    "\n",
    "# Use the start and end date to create a range of dates\n",
    "\n",
    "# Stip off the year and save a list of %m-%d strings\n",
    "\n",
    "# Loop through the list of %m-%d strings and calculate the normals for each date\n"
   ]
  },
  {
   "cell_type": "code",
   "execution_count": 39,
   "metadata": {},
   "outputs": [],
   "source": [
    "# Load the previous query results into a Pandas DataFrame and add the `trip_dates` range as the `date` index\n"
   ]
  },
  {
   "cell_type": "code",
   "execution_count": 40,
   "metadata": {},
   "outputs": [],
   "source": [
    "# Plot the daily normals as an area plot with `stacked=False`\n"
   ]
  }
 ],
 "metadata": {
  "kernel_info": {
   "name": "python3"
  },
  "kernelspec": {
   "display_name": "Python [conda env:PythonData] *",
   "language": "python",
   "name": "conda-env-PythonData-py"
  },
  "language_info": {
   "codemirror_mode": {
    "name": "ipython",
    "version": 3
   },
   "file_extension": ".py",
   "mimetype": "text/x-python",
   "name": "python",
   "nbconvert_exporter": "python",
   "pygments_lexer": "ipython3",
   "version": "3.8.2"
  },
  "nteract": {
   "version": "0.12.3"
  },
  "varInspector": {
   "cols": {
    "lenName": 16,
    "lenType": 16,
    "lenVar": 40
   },
   "kernels_config": {
    "python": {
     "delete_cmd_postfix": "",
     "delete_cmd_prefix": "del ",
     "library": "var_list.py",
     "varRefreshCmd": "print(var_dic_list())"
    },
    "r": {
     "delete_cmd_postfix": ") ",
     "delete_cmd_prefix": "rm(",
     "library": "var_list.r",
     "varRefreshCmd": "cat(var_dic_list()) "
    }
   },
   "types_to_exclude": [
    "module",
    "function",
    "builtin_function_or_method",
    "instance",
    "_Feature"
   ],
   "window_display": false
  }
 },
 "nbformat": 4,
 "nbformat_minor": 2
}
