{
 "cells": [
  {
   "cell_type": "code",
   "execution_count": 1,
   "metadata": {},
   "outputs": [],
   "source": [
    "%matplotlib inline \n",
    "# Import necessary modules\n",
    "from matplotlib import style\n",
    "style.use('fivethirtyeight')\n",
    "import matplotlib.pyplot as plt\n",
    "import sqlalchemy\n",
    "from sqlalchemy.orm import Session\n",
    "from sqlalchemy import create_engine, func\n",
    "from sqlalchemy.ext.automap import automap_base\n",
    "import numpy as np\n",
    "import pandas as pd\n",
    "import datetime as dt"
   ]
  },
  {
   "cell_type": "code",
   "execution_count": 2,
   "metadata": {},
   "outputs": [],
   "source": [
    "database_path = \"Resources/hawaii.sqlite\"\n",
    "engine = sqlalchemy.create_engine(f\"sqlite:///{database_path}\")"
   ]
  },
  {
   "cell_type": "markdown",
   "metadata": {},
   "source": [
    "# Reflect Tables into SQLAlchemy ORM"
   ]
  },
  {
   "cell_type": "code",
   "execution_count": 3,
   "metadata": {},
   "outputs": [
    {
     "data": {
      "text/plain": [
       "['measurement', 'station']"
      ]
     },
     "execution_count": 3,
     "metadata": {},
     "output_type": "execute_result"
    }
   ],
   "source": [
    "# Python SQL toolkit and Object Relational Mapper\n",
    "Base = automap_base()\n",
    "Base.prepare(engine, reflect=True)\n",
    "\n",
    "# We can view all of the classes that automap found\n",
    "Base.classes.keys()"
   ]
  },
  {
   "cell_type": "code",
   "execution_count": 4,
   "metadata": {},
   "outputs": [],
   "source": [
    "# Map Measurement and Station tables\n",
    "Measurement = Base.classes.measurement\n",
    "Station = Base.classes.station"
   ]
  },
  {
   "cell_type": "code",
   "execution_count": 5,
   "metadata": {},
   "outputs": [],
   "source": [
    "# Create our session (link) from Python to the DB\n",
    "session = Session(engine)"
   ]
  },
  {
   "cell_type": "markdown",
   "metadata": {},
   "source": [
    "# Exploratory Station Analysis"
   ]
  },
  {
   "cell_type": "code",
   "execution_count": 6,
   "metadata": {},
   "outputs": [
    {
     "data": {
      "text/plain": [
       "'2017-08-23'"
      ]
     },
     "execution_count": 6,
     "metadata": {},
     "output_type": "execute_result"
    }
   ],
   "source": [
    "# Save latest date into a variable. Note: string\n",
    "latest_date = session.query(Measurement.date).order_by(Measurement.date.desc()).first()[0]\n",
    "latest_date"
   ]
  },
  {
   "cell_type": "code",
   "execution_count": 7,
   "metadata": {},
   "outputs": [
    {
     "data": {
      "text/plain": [
       "2017"
      ]
     },
     "execution_count": 7,
     "metadata": {},
     "output_type": "execute_result"
    }
   ],
   "source": [
    "# Find the latest year\n",
    "date_time_obj = dt.datetime.strptime(latest_date, '%Y-%m-%d') # %H:%M:%S.%f\n",
    "date_time_obj.year"
   ]
  },
  {
   "cell_type": "code",
   "execution_count": 8,
   "metadata": {},
   "outputs": [
    {
     "data": {
      "text/plain": [
       "2016"
      ]
     },
     "execution_count": 8,
     "metadata": {},
     "output_type": "execute_result"
    }
   ],
   "source": [
    "# Last year from latest date's year\n",
    "one_year_back = date_time_obj.year - 1\n",
    "one_year_back"
   ]
  },
  {
   "cell_type": "code",
   "execution_count": 9,
   "metadata": {},
   "outputs": [
    {
     "data": {
      "text/plain": [
       "datetime.date(2016, 8, 23)"
      ]
     },
     "execution_count": 9,
     "metadata": {},
     "output_type": "execute_result"
    }
   ],
   "source": [
    "# Reconstruct the date 12 months back from the latest available date\n",
    "latest_twelve_months_date = dt.date(one_year_back, date_time_obj.month, date_time_obj.day)\n",
    "latest_twelve_months_date"
   ]
  },
  {
   "cell_type": "code",
   "execution_count": 10,
   "metadata": {},
   "outputs": [],
   "source": [
    "# Check which columns does the Measurement table has\n",
    "# Try with inspect module\n",
    "from sqlalchemy import inspect"
   ]
  },
  {
   "cell_type": "code",
   "execution_count": 11,
   "metadata": {},
   "outputs": [
    {
     "data": {
      "text/plain": [
       "<Mapper at 0x7fc0b2e43af0; measurement>"
      ]
     },
     "execution_count": 11,
     "metadata": {},
     "output_type": "execute_result"
    }
   ],
   "source": [
    "# Use inspect to create an object to check the columns' names\n",
    "inst = inspect(Measurement)\n",
    "inst"
   ]
  },
  {
   "cell_type": "code",
   "execution_count": 12,
   "metadata": {},
   "outputs": [
    {
     "data": {
      "text/plain": [
       "['id', 'station', 'date', 'prcp', 'tobs']"
      ]
     },
     "execution_count": 12,
     "metadata": {},
     "output_type": "execute_result"
    }
   ],
   "source": [
    "# Get columns' names from Measurement table using mapper method on inst object\n",
    "attr_names = [c_attr.key for c_attr in inst.mapper.column_attrs]\n",
    "attr_names"
   ]
  },
  {
   "cell_type": "code",
   "execution_count": 13,
   "metadata": {},
   "outputs": [],
   "source": [
    "# Try getting columns with reflect module\n",
    "Base = automap_base()\n",
    "Base.prepare(engine, reflect=True)\n",
    "Base.classes.keys()\n",
    "Meas = Base.classes.measurement\n",
    "Sta = Base.classes.station"
   ]
  },
  {
   "cell_type": "code",
   "execution_count": 14,
   "metadata": {},
   "outputs": [
    {
     "name": "stdout",
     "output_type": "stream",
     "text": [
      "There are 2223 entries including precipitation 'None' values.\n"
     ]
    }
   ],
   "source": [
    "# Check count before filtering precipitation 'None'. Create the Precipitation and Date lists\n",
    "prcp_list = []\n",
    "date_list = []\n",
    "for row in session.query(Meas.date, Meas.prcp).\\\n",
    "    order_by(Measurement.date.desc()).\\\n",
    "    filter(Meas.date <= latest_date).\\\n",
    "    filter(Meas.date > latest_twelve_months_date).\\\n",
    "    all():\n",
    "    prcp_list.append(row[1])\n",
    "    date_list.append(row[0])\n",
    "    #print(f\"Date: {row[0]}, precipitation {row[1]}\")\n",
    "len(prcp_list)\n",
    "print(f\"There are {len(prcp_list)} entries including precipitation 'None' values.\")    "
   ]
  },
  {
   "cell_type": "code",
   "execution_count": 15,
   "metadata": {},
   "outputs": [
    {
     "name": "stdout",
     "output_type": "stream",
     "text": [
      "There are 2015 entries including precipitation 'None' values.\n"
     ]
    }
   ],
   "source": [
    "# Check count after filtering precipitation 'None'. Create the Precipitation and Date lists\n",
    "prcp_list = []\n",
    "date_list = []\n",
    "for row in session.query(Meas.date, Meas.prcp).\\\n",
    "    order_by(Measurement.date.desc()).\\\n",
    "    filter(Meas.date <= latest_date).\\\n",
    "    filter(Meas.date > latest_twelve_months_date).\\\n",
    "    filter(Meas.prcp != 'None').\\\n",
    "    all():\n",
    "    prcp_list.append(row[1])\n",
    "    date_list.append(row[0])\n",
    "    #print(f\"Date: {row[0]}, precipitation {row[1]}\")\n",
    "len(prcp_list)\n",
    "print(f\"There are {len(prcp_list)} entries including precipitation 'None' values.\")    "
   ]
  },
  {
   "cell_type": "markdown",
   "metadata": {},
   "source": [
    "## Station Analysis"
   ]
  },
  {
   "cell_type": "markdown",
   "metadata": {},
   "source": [
    "### Total number of stations"
   ]
  },
  {
   "cell_type": "code",
   "execution_count": 16,
   "metadata": {},
   "outputs": [],
   "source": [
    "# Design a query to calculate the total number of stations.\n",
    "# Try getting columns with reflect module\n",
    "Base = automap_base()\n",
    "Base.prepare(engine, reflect=True)\n",
    "Base.classes.keys()\n",
    "Measurement = Base.classes.measurement\n",
    "Station = Base.classes.station"
   ]
  },
  {
   "cell_type": "code",
   "execution_count": 17,
   "metadata": {},
   "outputs": [
    {
     "data": {
      "text/plain": [
       "<Mapper at 0x7fc0b3049190; station>"
      ]
     },
     "execution_count": 17,
     "metadata": {},
     "output_type": "execute_result"
    }
   ],
   "source": [
    "# Use inspect to create an object to check the columns' names\n",
    "inst_sta = inspect(Station)\n",
    "inst_sta"
   ]
  },
  {
   "cell_type": "code",
   "execution_count": 18,
   "metadata": {},
   "outputs": [
    {
     "data": {
      "text/plain": [
       "['id', 'station', 'name', 'latitude', 'longitude', 'elevation']"
      ]
     },
     "execution_count": 18,
     "metadata": {},
     "output_type": "execute_result"
    }
   ],
   "source": [
    "# Get columns' names from Station table using mapper method on inst object\n",
    "attr_names = [c_attr.key for c_attr in inst_sta.mapper.column_attrs]\n",
    "attr_names"
   ]
  },
  {
   "cell_type": "code",
   "execution_count": 19,
   "metadata": {},
   "outputs": [
    {
     "data": {
      "text/plain": [
       "[(1, 'WAIKIKI 717.2, HI US', 21.2716, -157.8168, 3.0),\n",
       " (2, 'KANEOHE 838.1, HI US', 21.4234, -157.8015, 14.6),\n",
       " (3, 'KUALOA RANCH HEADQUARTERS 886.9, HI US', 21.5213, -157.8374, 7.0),\n",
       " (4, 'PEARL CITY, HI US', 21.3934, -157.9751, 11.9),\n",
       " (5, 'UPPER WAHIAWA 874.3, HI US', 21.4992, -158.0111, 306.6),\n",
       " (6, 'WAIMANALO EXPERIMENTAL FARM, HI US', 21.33556, -157.71139, 19.5),\n",
       " (7, 'WAIHEE 837.5, HI US', 21.45167, -157.84888999999998, 32.9),\n",
       " (8, 'HONOLULU OBSERVATORY 702.2, HI US', 21.3152, -157.9992, 0.9),\n",
       " (9, 'MANOA LYON ARBO 785.2, HI US', 21.3331, -157.8025, 152.4)]"
      ]
     },
     "execution_count": 19,
     "metadata": {},
     "output_type": "execute_result"
    }
   ],
   "source": [
    "# Query all station names\n",
    "session.query(Station.id, Station.name,  Station.latitude, Station.longitude, Station.elevation).all()"
   ]
  },
  {
   "cell_type": "code",
   "execution_count": 20,
   "metadata": {},
   "outputs": [
    {
     "data": {
      "text/plain": [
       "[('USC00519397'),\n",
       " ('USC00519397'),\n",
       " ('USC00519397'),\n",
       " ('USC00519397'),\n",
       " ('USC00519397')]"
      ]
     },
     "execution_count": 20,
     "metadata": {},
     "output_type": "execute_result"
    }
   ],
   "source": [
    "# query all stations in Measurement table\n",
    "all_stations = session.query(Measurement.station).all()\n",
    "all_stations[:5] # limit view to 5 first values"
   ]
  },
  {
   "cell_type": "code",
   "execution_count": 21,
   "metadata": {},
   "outputs": [
    {
     "name": "stdout",
     "output_type": "stream",
     "text": [
      "There are total of 9 stations.\n"
     ]
    }
   ],
   "source": [
    "# Loop over the list of stations and make a unique list\n",
    "unique_stations = []\n",
    "for station in all_stations:\n",
    "    if station not in unique_stations:\n",
    "        unique_stations.append(station)\n",
    "unique_stations\n",
    "print(f\"There are total of {len(unique_stations)} stations.\")"
   ]
  },
  {
   "cell_type": "markdown",
   "metadata": {},
   "source": [
    "### Highest altitude station"
   ]
  },
  {
   "cell_type": "code",
   "execution_count": 22,
   "metadata": {},
   "outputs": [],
   "source": [
    "# Design a query to find the most active stations\n",
    "  # a. List the stations and observation counts in descending order.\n",
    "  # b. Which station has the highest number of observations?\n",
    "  # Hint: You will need to use a function such as `func.min`, `func.max`, `func.avg`, and `func.count` in your queries."
   ]
  },
  {
   "cell_type": "code",
   "execution_count": 23,
   "metadata": {},
   "outputs": [
    {
     "data": {
      "text/plain": [
       "[(306.6, 'UPPER WAHIAWA 874.3, HI US'),\n",
       " (152.4, 'MANOA LYON ARBO 785.2, HI US'),\n",
       " (32.9, 'WAIHEE 837.5, HI US'),\n",
       " (19.5, 'WAIMANALO EXPERIMENTAL FARM, HI US'),\n",
       " (14.6, 'KANEOHE 838.1, HI US'),\n",
       " (11.9, 'PEARL CITY, HI US'),\n",
       " (7.0, 'KUALOA RANCH HEADQUARTERS 886.9, HI US'),\n",
       " (3.0, 'WAIKIKI 717.2, HI US'),\n",
       " (0.9, 'HONOLULU OBSERVATORY 702.2, HI US')]"
      ]
     },
     "execution_count": 23,
     "metadata": {},
     "output_type": "execute_result"
    }
   ],
   "source": [
    "# Design a query to find the highest altitude stations\n",
    "# a. List the stations and elevations in descending order.\n",
    "sta_elev_desc = session.query(Station.elevation, Station.name).\\\n",
    "    order_by(Station.elevation.desc()).all()\n",
    "sta_elev_desc"
   ]
  },
  {
   "cell_type": "code",
   "execution_count": 24,
   "metadata": {},
   "outputs": [
    {
     "name": "stdout",
     "output_type": "stream",
     "text": [
      "The UPPER WAHIAWA 874.3 station - Elev: 306.6.\n"
     ]
    }
   ],
   "source": [
    "#b. Which station has the highest elevation?\n",
    "sta_highest_elevation = session.query(Station.elevation, Station.name).\\\n",
    "    order_by(Station.elevation.desc()).first()\n",
    "print(f\"The {sta_highest_elevation[1].split(',')[0]} station - Elev: {sta_highest_elevation[0]}.\")"
   ]
  },
  {
   "cell_type": "code",
   "execution_count": 25,
   "metadata": {},
   "outputs": [],
   "source": [
    "#b. Write a function to identify which station has the highest elevation?\n",
    "def get_station_with_highest_elevation(table_name):\n",
    "    # Get the highest elevation value using func.max()\n",
    "    sta_highest_elevation = session.query(func.max(table_name.elevation)).first()\n",
    "    # Save the first index from the results into sta_highest_elevation variable\n",
    "    sta_highest_elevation = sta_highest_elevation[0]\n",
    "    # Query and save the name of the station with the highest elevation\n",
    "    sta_high_name = session.query(Station.name, Station.elevation).\\\n",
    "    filter(Station.elevation == sta_highest_elevation).first()\n",
    "    # Convert result to a string and get the name of the station\n",
    "    sta_high_name_str = str(sta_high_name[0])\n",
    "    sta_high_name_str = sta_high_name_str.split(',')[0]\n",
    "    # Return the two variables\n",
    "    return sta_highest_elevation, sta_high_name_str"
   ]
  },
  {
   "cell_type": "code",
   "execution_count": 26,
   "metadata": {},
   "outputs": [],
   "source": [
    "#b. Write a function to identify which station has the highest observation?\n",
    "def get_station_with_highest_observation(table_name):\n",
    "    # Get the highest observation value using func.max()\n",
    "    sta_highest_observation = session.query(func.max(table_name.tobs)).first()\n",
    "    # Save the first index from the results into sta_highest_observation variable\n",
    "    sta_highest_observation = sta_highest_observation[0]\n",
    "    # Query and save the name of the station with the highest observation\n",
    "    sta_high_tobs_name = session.query(Measurement.station, Measurement.tobs).\\\n",
    "    filter(Measurement.tobs == sta_highest_observation).first()\n",
    "    # Convert result to a string and get the name of the station\n",
    "    sta_high_tobs_name_str = str(sta_high_tobs_name[0])\n",
    "    sta_high_tobs_name_str = sta_high_tobs_name_str.split(',')[0]\n",
    "    # Return the two variables\n",
    "    print(f\"Station {sta_high_tobs_name_str} has the highest number of Observations - {sta_highest_observation}.\")\n",
    "    return sta_highest_observation, sta_high_tobs_name_str"
   ]
  },
  {
   "cell_type": "code",
   "execution_count": 27,
   "metadata": {},
   "outputs": [
    {
     "data": {
      "text/plain": [
       "(306.6, 'UPPER WAHIAWA 874.3')"
      ]
     },
     "execution_count": 27,
     "metadata": {},
     "output_type": "execute_result"
    }
   ],
   "source": [
    "# Call the function to get the highest elevation and the name of the station\n",
    "get_station_with_highest_elevation(Station)"
   ]
  },
  {
   "cell_type": "code",
   "execution_count": 28,
   "metadata": {},
   "outputs": [
    {
     "name": "stdout",
     "output_type": "stream",
     "text": [
      "Station USC00519397 has the highest number of Observations - 87.0.\n"
     ]
    },
    {
     "data": {
      "text/plain": [
       "(87.0, 'USC00519397')"
      ]
     },
     "execution_count": 28,
     "metadata": {},
     "output_type": "execute_result"
    }
   ],
   "source": [
    "# Call the function to get the highest elevation and the name of the station\n",
    "get_station_with_highest_observation(Measurement)"
   ]
  },
  {
   "cell_type": "markdown",
   "metadata": {},
   "source": [
    "### Last 12 months of temperature observation data (TOBS)"
   ]
  },
  {
   "cell_type": "code",
   "execution_count": 29,
   "metadata": {},
   "outputs": [
    {
     "data": {
      "text/plain": [
       "19550"
      ]
     },
     "execution_count": 29,
     "metadata": {},
     "output_type": "execute_result"
    }
   ],
   "source": [
    "# Design a query to retrieve the last 12 months of temperature observation data (TOBS)\n",
    "stations = session.query(Measurement.date, Measurement.station, Measurement.tobs).all()\n",
    "len(stations)"
   ]
  },
  {
   "cell_type": "code",
   "execution_count": 30,
   "metadata": {},
   "outputs": [
    {
     "data": {
      "text/plain": [
       "[('2017-05-23', 'USC00519397', 87.0),\n",
       " ('2017-07-03', 'USC00517948', 87.0),\n",
       " ('2017-08-19', 'USC00519523', 85.0),\n",
       " ('2016-08-26', 'USC00519523', 84.0),\n",
       " ('2016-09-04', 'USC00519523', 84.0)]"
      ]
     },
     "execution_count": 30,
     "metadata": {},
     "output_type": "execute_result"
    }
   ],
   "source": [
    "# Create and run a query for the latest 12 months, sorted by 'tobs' in descending order\n",
    "    # (limit view to 5 entries)\n",
    "session.query(Measurement.date, Measurement.station, Measurement.tobs).\\\n",
    "    order_by(Measurement.tobs.desc()).\\\n",
    "    filter(Measurement.date <= latest_date).\\\n",
    "    filter(Measurement.date > latest_twelve_months_date).\\\n",
    "    filter(Measurement.tobs != 'None').limit(5).\\\n",
    "    all()"
   ]
  },
  {
   "cell_type": "code",
   "execution_count": 31,
   "metadata": {},
   "outputs": [
    {
     "name": "stdout",
     "output_type": "stream",
     "text": [
      "Date: 2017-04-30; Station: USC00516128; Observations: 58.0.\n"
     ]
    }
   ],
   "source": [
    "# Create a list with observations in descending order for the latest 12 months\n",
    "    # and extract lists of date, stations and observed temperatures \n",
    "tobs_date_list = []\n",
    "tobs_sta_list  = []\n",
    "tobs_list      = []\n",
    "for row in session.query(Measurement.date, Measurement.station, Measurement.tobs).\\\n",
    "    order_by(Measurement.tobs.desc()).\\\n",
    "    filter(Measurement.date <= latest_date).\\\n",
    "    filter(Measurement.date > latest_twelve_months_date).\\\n",
    "    filter(Measurement.tobs != 'None').\\\n",
    "    all():\n",
    "    tobs_date_list.append(row[0])\n",
    "    tobs_sta_list.append(row[1])\n",
    "    tobs_list.append(row[2])\n",
    "# Print the last values to check the content of the indices added to the associated lists:\n",
    "print(f\"Date: {row[0]}; Station: {row[1]}; Observations: {row[2]}.\")"
   ]
  },
  {
   "cell_type": "code",
   "execution_count": 32,
   "metadata": {},
   "outputs": [
    {
     "name": "stdout",
     "output_type": "stream",
     "text": [
      "There are 2223 entries.\n"
     ]
    }
   ],
   "source": [
    "print(f\"There are {len(tobs_list)} entries.\")    "
   ]
  },
  {
   "cell_type": "markdown",
   "metadata": {},
   "source": [
    "### b. Plot the results as a histogram with `bins=12`\n"
   ]
  },
  {
   "cell_type": "code",
   "execution_count": 33,
   "metadata": {},
   "outputs": [],
   "source": [
    "# Convert date list into datetime format \n",
    "tobs_date_list_datetime = pd.to_datetime(tobs_date_list)"
   ]
  },
  {
   "cell_type": "code",
   "execution_count": 34,
   "metadata": {},
   "outputs": [
    {
     "name": "stdout",
     "output_type": "stream",
     "text": [
      "Date: 2223, Stations: 2223, Observations: 2223.\n"
     ]
    }
   ],
   "source": [
    "# Check the lengths of the lists\n",
    "print(f\"Date: {len(tobs_date_list_datetime)}, Stations: {len(tobs_sta_list)}, Observations: {len(tobs_list)}.\")"
   ]
  },
  {
   "cell_type": "code",
   "execution_count": 35,
   "metadata": {},
   "outputs": [
    {
     "data": {
      "text/html": [
       "<div>\n",
       "<style scoped>\n",
       "    .dataframe tbody tr th:only-of-type {\n",
       "        vertical-align: middle;\n",
       "    }\n",
       "\n",
       "    .dataframe tbody tr th {\n",
       "        vertical-align: top;\n",
       "    }\n",
       "\n",
       "    .dataframe thead th {\n",
       "        text-align: right;\n",
       "    }\n",
       "</style>\n",
       "<table border=\"1\" class=\"dataframe\">\n",
       "  <thead>\n",
       "    <tr style=\"text-align: right;\">\n",
       "      <th></th>\n",
       "      <th>Temp. Observed (DegF)</th>\n",
       "      <th>Date</th>\n",
       "      <th>Station</th>\n",
       "    </tr>\n",
       "  </thead>\n",
       "  <tbody>\n",
       "    <tr>\n",
       "      <th>0</th>\n",
       "      <td>87.0</td>\n",
       "      <td>2017-05-23</td>\n",
       "      <td>USC00519397</td>\n",
       "    </tr>\n",
       "    <tr>\n",
       "      <th>1</th>\n",
       "      <td>87.0</td>\n",
       "      <td>2017-07-03</td>\n",
       "      <td>USC00517948</td>\n",
       "    </tr>\n",
       "    <tr>\n",
       "      <th>2</th>\n",
       "      <td>85.0</td>\n",
       "      <td>2017-08-19</td>\n",
       "      <td>USC00519523</td>\n",
       "    </tr>\n",
       "    <tr>\n",
       "      <th>3</th>\n",
       "      <td>84.0</td>\n",
       "      <td>2016-08-26</td>\n",
       "      <td>USC00519523</td>\n",
       "    </tr>\n",
       "    <tr>\n",
       "      <th>4</th>\n",
       "      <td>84.0</td>\n",
       "      <td>2016-09-04</td>\n",
       "      <td>USC00519523</td>\n",
       "    </tr>\n",
       "    <tr>\n",
       "      <th>...</th>\n",
       "      <td>...</td>\n",
       "      <td>...</td>\n",
       "      <td>...</td>\n",
       "    </tr>\n",
       "    <tr>\n",
       "      <th>2218</th>\n",
       "      <td>60.0</td>\n",
       "      <td>2017-02-02</td>\n",
       "      <td>USC00516128</td>\n",
       "    </tr>\n",
       "    <tr>\n",
       "      <th>2219</th>\n",
       "      <td>59.0</td>\n",
       "      <td>2017-02-02</td>\n",
       "      <td>USC00519281</td>\n",
       "    </tr>\n",
       "    <tr>\n",
       "      <th>2220</th>\n",
       "      <td>59.0</td>\n",
       "      <td>2017-02-08</td>\n",
       "      <td>USC00519281</td>\n",
       "    </tr>\n",
       "    <tr>\n",
       "      <th>2221</th>\n",
       "      <td>59.0</td>\n",
       "      <td>2017-02-09</td>\n",
       "      <td>USC00519281</td>\n",
       "    </tr>\n",
       "    <tr>\n",
       "      <th>2222</th>\n",
       "      <td>58.0</td>\n",
       "      <td>2017-04-30</td>\n",
       "      <td>USC00516128</td>\n",
       "    </tr>\n",
       "  </tbody>\n",
       "</table>\n",
       "<p>2223 rows × 3 columns</p>\n",
       "</div>"
      ],
      "text/plain": [
       "      Temp. Observed (DegF)       Date      Station\n",
       "0                      87.0 2017-05-23  USC00519397\n",
       "1                      87.0 2017-07-03  USC00517948\n",
       "2                      85.0 2017-08-19  USC00519523\n",
       "3                      84.0 2016-08-26  USC00519523\n",
       "4                      84.0 2016-09-04  USC00519523\n",
       "...                     ...        ...          ...\n",
       "2218                   60.0 2017-02-02  USC00516128\n",
       "2219                   59.0 2017-02-02  USC00519281\n",
       "2220                   59.0 2017-02-08  USC00519281\n",
       "2221                   59.0 2017-02-09  USC00519281\n",
       "2222                   58.0 2017-04-30  USC00516128\n",
       "\n",
       "[2223 rows x 3 columns]"
      ]
     },
     "execution_count": 35,
     "metadata": {},
     "output_type": "execute_result"
    }
   ],
   "source": [
    "# Create dataframe with tobs_sta_list, tobs_list and tobs_date_list data\n",
    "df = pd.DataFrame({'Temp. Observed (DegF)': tobs_list, 'Date': tobs_date_list_datetime, \n",
    "                        'Station': tobs_sta_list})\n",
    "df"
   ]
  },
  {
   "cell_type": "code",
   "execution_count": 36,
   "metadata": {},
   "outputs": [
    {
     "name": "stdout",
     "output_type": "stream",
     "text": [
      "Max. tobs 87.0; Min. tobs 53.0.\n"
     ]
    }
   ],
   "source": [
    "# Check maximum observed temperature, extract the list, then extract first index in the list\n",
    "tobs_max_latest_12_months = session.query(func.max(Measurement.tobs)).all()[0][0]\n",
    "# Check minimum observed temperature, extract the list, then extract first index in the list\n",
    "tobs_min_latest_12_months = session.query(func.min(Measurement.tobs)).all()[0][0]\n",
    "print(f\"Max. tobs {tobs_max_latest_12_months}; Min. tobs {tobs_min_latest_12_months}.\")"
   ]
  },
  {
   "cell_type": "code",
   "execution_count": 37,
   "metadata": {},
   "outputs": [
    {
     "data": {
      "text/plain": [
       "array(['2016-08-31', '2016-09-30', '2016-10-31', '2016-11-30',\n",
       "       '2016-12-31', '2017-01-31', '2017-02-28', '2017-03-31',\n",
       "       '2017-04-30', '2017-05-31', '2017-06-30', '2017-07-31'],\n",
       "      dtype=object)"
      ]
     },
     "execution_count": 37,
     "metadata": {},
     "output_type": "execute_result"
    }
   ],
   "source": [
    "# Method 1 - Cut pd series into bins by months (not needed)\n",
    "bins_dt = pd.date_range(latest_twelve_months_date, freq='1M', periods=12)\n",
    "bins_str = bins_dt.astype(str).values\n",
    "bins_str"
   ]
  },
  {
   "cell_type": "code",
   "execution_count": 38,
   "metadata": {},
   "outputs": [
    {
     "data": {
      "text/html": [
       "<div>\n",
       "<style scoped>\n",
       "    .dataframe tbody tr th:only-of-type {\n",
       "        vertical-align: middle;\n",
       "    }\n",
       "\n",
       "    .dataframe tbody tr th {\n",
       "        vertical-align: top;\n",
       "    }\n",
       "\n",
       "    .dataframe thead th {\n",
       "        text-align: right;\n",
       "    }\n",
       "</style>\n",
       "<table border=\"1\" class=\"dataframe\">\n",
       "  <thead>\n",
       "    <tr style=\"text-align: right;\">\n",
       "      <th></th>\n",
       "      <th>Temp. Observed (DegF)</th>\n",
       "      <th>Date</th>\n",
       "      <th>Station</th>\n",
       "      <th>cut</th>\n",
       "    </tr>\n",
       "  </thead>\n",
       "  <tbody>\n",
       "    <tr>\n",
       "      <th>0</th>\n",
       "      <td>87.0</td>\n",
       "      <td>2017-05-23</td>\n",
       "      <td>USC00519397</td>\n",
       "      <td>(2017-04-30, 2017-05-31]</td>\n",
       "    </tr>\n",
       "    <tr>\n",
       "      <th>1</th>\n",
       "      <td>87.0</td>\n",
       "      <td>2017-07-03</td>\n",
       "      <td>USC00517948</td>\n",
       "      <td>(2017-06-30, 2017-07-31]</td>\n",
       "    </tr>\n",
       "    <tr>\n",
       "      <th>2</th>\n",
       "      <td>85.0</td>\n",
       "      <td>2017-08-19</td>\n",
       "      <td>USC00519523</td>\n",
       "      <td>NaN</td>\n",
       "    </tr>\n",
       "    <tr>\n",
       "      <th>3</th>\n",
       "      <td>84.0</td>\n",
       "      <td>2016-08-26</td>\n",
       "      <td>USC00519523</td>\n",
       "      <td>NaN</td>\n",
       "    </tr>\n",
       "    <tr>\n",
       "      <th>4</th>\n",
       "      <td>84.0</td>\n",
       "      <td>2016-09-04</td>\n",
       "      <td>USC00519523</td>\n",
       "      <td>(2016-08-31, 2016-09-30]</td>\n",
       "    </tr>\n",
       "    <tr>\n",
       "      <th>...</th>\n",
       "      <td>...</td>\n",
       "      <td>...</td>\n",
       "      <td>...</td>\n",
       "      <td>...</td>\n",
       "    </tr>\n",
       "    <tr>\n",
       "      <th>95</th>\n",
       "      <td>81.0</td>\n",
       "      <td>2017-05-31</td>\n",
       "      <td>USC00514830</td>\n",
       "      <td>(2017-04-30, 2017-05-31]</td>\n",
       "    </tr>\n",
       "    <tr>\n",
       "      <th>96</th>\n",
       "      <td>81.0</td>\n",
       "      <td>2017-06-01</td>\n",
       "      <td>USC00514830</td>\n",
       "      <td>(2017-05-31, 2017-06-30]</td>\n",
       "    </tr>\n",
       "    <tr>\n",
       "      <th>97</th>\n",
       "      <td>81.0</td>\n",
       "      <td>2017-06-05</td>\n",
       "      <td>USC00514830</td>\n",
       "      <td>(2017-05-31, 2017-06-30]</td>\n",
       "    </tr>\n",
       "    <tr>\n",
       "      <th>98</th>\n",
       "      <td>81.0</td>\n",
       "      <td>2017-06-07</td>\n",
       "      <td>USC00514830</td>\n",
       "      <td>(2017-05-31, 2017-06-30]</td>\n",
       "    </tr>\n",
       "    <tr>\n",
       "      <th>99</th>\n",
       "      <td>81.0</td>\n",
       "      <td>2017-06-09</td>\n",
       "      <td>USC00514830</td>\n",
       "      <td>(2017-05-31, 2017-06-30]</td>\n",
       "    </tr>\n",
       "  </tbody>\n",
       "</table>\n",
       "<p>100 rows × 4 columns</p>\n",
       "</div>"
      ],
      "text/plain": [
       "    Temp. Observed (DegF)       Date      Station                       cut\n",
       "0                    87.0 2017-05-23  USC00519397  (2017-04-30, 2017-05-31]\n",
       "1                    87.0 2017-07-03  USC00517948  (2017-06-30, 2017-07-31]\n",
       "2                    85.0 2017-08-19  USC00519523                       NaN\n",
       "3                    84.0 2016-08-26  USC00519523                       NaN\n",
       "4                    84.0 2016-09-04  USC00519523  (2016-08-31, 2016-09-30]\n",
       "..                    ...        ...          ...                       ...\n",
       "95                   81.0 2017-05-31  USC00514830  (2017-04-30, 2017-05-31]\n",
       "96                   81.0 2017-06-01  USC00514830  (2017-05-31, 2017-06-30]\n",
       "97                   81.0 2017-06-05  USC00514830  (2017-05-31, 2017-06-30]\n",
       "98                   81.0 2017-06-07  USC00514830  (2017-05-31, 2017-06-30]\n",
       "99                   81.0 2017-06-09  USC00514830  (2017-05-31, 2017-06-30]\n",
       "\n",
       "[100 rows x 4 columns]"
      ]
     },
     "execution_count": 38,
     "metadata": {},
     "output_type": "execute_result"
    }
   ],
   "source": [
    "# Method 2 - Create labels and use pd.cut method to bin the dates (not needed) \n",
    "labels = ['({}, {}]'.format(bins_str[i-1], bins_str[i]) for i in range(1, len(bins_str))]\n",
    "\n",
    "df['cut'] = pd.cut(df.Date.astype(np.int64)//10**9,\n",
    "                   bins=bins_dt.astype(np.int64)//10**9,\n",
    "                   labels=labels)\n",
    "df.head(100)"
   ]
  },
  {
   "cell_type": "code",
   "execution_count": 39,
   "metadata": {},
   "outputs": [
    {
     "data": {
      "text/html": [
       "<div>\n",
       "<style scoped>\n",
       "    .dataframe tbody tr th:only-of-type {\n",
       "        vertical-align: middle;\n",
       "    }\n",
       "\n",
       "    .dataframe tbody tr th {\n",
       "        vertical-align: top;\n",
       "    }\n",
       "\n",
       "    .dataframe thead th {\n",
       "        text-align: right;\n",
       "    }\n",
       "</style>\n",
       "<table border=\"1\" class=\"dataframe\">\n",
       "  <thead>\n",
       "    <tr style=\"text-align: right;\">\n",
       "      <th></th>\n",
       "      <th>Temp. Observed (DegF)</th>\n",
       "      <th>Date</th>\n",
       "      <th>Station</th>\n",
       "      <th>cut</th>\n",
       "    </tr>\n",
       "  </thead>\n",
       "  <tbody>\n",
       "    <tr>\n",
       "      <th>58</th>\n",
       "      <td>82.0</td>\n",
       "      <td>2017-08-23</td>\n",
       "      <td>USC00519523</td>\n",
       "      <td>NaN</td>\n",
       "    </tr>\n",
       "    <tr>\n",
       "      <th>81</th>\n",
       "      <td>81.0</td>\n",
       "      <td>2017-08-23</td>\n",
       "      <td>USC00519397</td>\n",
       "      <td>NaN</td>\n",
       "    </tr>\n",
       "    <tr>\n",
       "      <th>38</th>\n",
       "      <td>82.0</td>\n",
       "      <td>2017-08-23</td>\n",
       "      <td>USC00514830</td>\n",
       "      <td>NaN</td>\n",
       "    </tr>\n",
       "    <tr>\n",
       "      <th>1079</th>\n",
       "      <td>76.0</td>\n",
       "      <td>2017-08-23</td>\n",
       "      <td>USC00516128</td>\n",
       "      <td>NaN</td>\n",
       "    </tr>\n",
       "    <tr>\n",
       "      <th>57</th>\n",
       "      <td>82.0</td>\n",
       "      <td>2017-08-22</td>\n",
       "      <td>USC00519523</td>\n",
       "      <td>NaN</td>\n",
       "    </tr>\n",
       "  </tbody>\n",
       "</table>\n",
       "</div>"
      ],
      "text/plain": [
       "      Temp. Observed (DegF)       Date      Station  cut\n",
       "58                     82.0 2017-08-23  USC00519523  NaN\n",
       "81                     81.0 2017-08-23  USC00519397  NaN\n",
       "38                     82.0 2017-08-23  USC00514830  NaN\n",
       "1079                   76.0 2017-08-23  USC00516128  NaN\n",
       "57                     82.0 2017-08-22  USC00519523  NaN"
      ]
     },
     "execution_count": 39,
     "metadata": {},
     "output_type": "execute_result"
    }
   ],
   "source": [
    "# Sort dataframe by date column in descending order (not needed)\n",
    "sorted_df = df.sort_values(by='Date', ascending=False)\n",
    "sorted_df.head()"
   ]
  },
  {
   "cell_type": "markdown",
   "metadata": {},
   "source": [
    "### Create data frame sorted by Date in descending order"
   ]
  },
  {
   "cell_type": "code",
   "execution_count": 40,
   "metadata": {},
   "outputs": [
    {
     "name": "stdout",
     "output_type": "stream",
     "text": [
      "Date: 2016-08-24; Station: USC00516128; Observations: 74.0.\n"
     ]
    }
   ],
   "source": [
    "# Count the station visits based on the total entries for that station\n",
    "tobs_date_desc_list = []\n",
    "tobs_sta_desc_list  = []\n",
    "tobs_desc_list      = []\n",
    "for row in session.query(Measurement.date, Measurement.station, Measurement.tobs).\\\n",
    "    order_by(Measurement.date.desc()).\\\n",
    "    filter(Measurement.date <= latest_date).\\\n",
    "    filter(Measurement.date > latest_twelve_months_date).\\\n",
    "    filter(Measurement.tobs != 'None').\\\n",
    "    all():\n",
    "    tobs_date_desc_list.append(row[0])\n",
    "    tobs_sta_desc_list.append(row[1])\n",
    "    tobs_desc_list.append(row[2])\n",
    "print(f\"Date: {row[0]}; Station: {row[1]}; Observations: {row[2]}.\")"
   ]
  },
  {
   "cell_type": "code",
   "execution_count": 41,
   "metadata": {},
   "outputs": [],
   "source": [
    "# Convert date list into datetime format \n",
    "tobs_date_list_desc_datetime = pd.to_datetime(tobs_date_desc_list)"
   ]
  },
  {
   "cell_type": "code",
   "execution_count": 42,
   "metadata": {},
   "outputs": [
    {
     "data": {
      "text/html": [
       "<div>\n",
       "<style scoped>\n",
       "    .dataframe tbody tr th:only-of-type {\n",
       "        vertical-align: middle;\n",
       "    }\n",
       "\n",
       "    .dataframe tbody tr th {\n",
       "        vertical-align: top;\n",
       "    }\n",
       "\n",
       "    .dataframe thead th {\n",
       "        text-align: right;\n",
       "    }\n",
       "</style>\n",
       "<table border=\"1\" class=\"dataframe\">\n",
       "  <thead>\n",
       "    <tr style=\"text-align: right;\">\n",
       "      <th></th>\n",
       "      <th>Date</th>\n",
       "      <th>Temp. Observed (DegF)</th>\n",
       "      <th>Station</th>\n",
       "    </tr>\n",
       "  </thead>\n",
       "  <tbody>\n",
       "    <tr>\n",
       "      <th>0</th>\n",
       "      <td>2017-08-23</td>\n",
       "      <td>81.0</td>\n",
       "      <td>USC00519397</td>\n",
       "    </tr>\n",
       "    <tr>\n",
       "      <th>1</th>\n",
       "      <td>2017-08-23</td>\n",
       "      <td>82.0</td>\n",
       "      <td>USC00514830</td>\n",
       "    </tr>\n",
       "    <tr>\n",
       "      <th>2</th>\n",
       "      <td>2017-08-23</td>\n",
       "      <td>82.0</td>\n",
       "      <td>USC00519523</td>\n",
       "    </tr>\n",
       "    <tr>\n",
       "      <th>3</th>\n",
       "      <td>2017-08-23</td>\n",
       "      <td>76.0</td>\n",
       "      <td>USC00516128</td>\n",
       "    </tr>\n",
       "    <tr>\n",
       "      <th>4</th>\n",
       "      <td>2017-08-22</td>\n",
       "      <td>82.0</td>\n",
       "      <td>USC00519397</td>\n",
       "    </tr>\n",
       "    <tr>\n",
       "      <th>5</th>\n",
       "      <td>2017-08-22</td>\n",
       "      <td>82.0</td>\n",
       "      <td>USC00519523</td>\n",
       "    </tr>\n",
       "    <tr>\n",
       "      <th>6</th>\n",
       "      <td>2017-08-22</td>\n",
       "      <td>76.0</td>\n",
       "      <td>USC00516128</td>\n",
       "    </tr>\n",
       "    <tr>\n",
       "      <th>7</th>\n",
       "      <td>2017-08-21</td>\n",
       "      <td>81.0</td>\n",
       "      <td>USC00519397</td>\n",
       "    </tr>\n",
       "    <tr>\n",
       "      <th>8</th>\n",
       "      <td>2017-08-21</td>\n",
       "      <td>79.0</td>\n",
       "      <td>USC00514830</td>\n",
       "    </tr>\n",
       "    <tr>\n",
       "      <th>9</th>\n",
       "      <td>2017-08-21</td>\n",
       "      <td>82.0</td>\n",
       "      <td>USC00519523</td>\n",
       "    </tr>\n",
       "    <tr>\n",
       "      <th>10</th>\n",
       "      <td>2017-08-21</td>\n",
       "      <td>76.0</td>\n",
       "      <td>USC00516128</td>\n",
       "    </tr>\n",
       "    <tr>\n",
       "      <th>11</th>\n",
       "      <td>2017-08-20</td>\n",
       "      <td>81.0</td>\n",
       "      <td>USC00519397</td>\n",
       "    </tr>\n",
       "    <tr>\n",
       "      <th>12</th>\n",
       "      <td>2017-08-20</td>\n",
       "      <td>80.0</td>\n",
       "      <td>USC00514830</td>\n",
       "    </tr>\n",
       "    <tr>\n",
       "      <th>13</th>\n",
       "      <td>2017-08-20</td>\n",
       "      <td>78.0</td>\n",
       "      <td>USC00516128</td>\n",
       "    </tr>\n",
       "    <tr>\n",
       "      <th>14</th>\n",
       "      <td>2017-08-19</td>\n",
       "      <td>79.0</td>\n",
       "      <td>USC00519397</td>\n",
       "    </tr>\n",
       "    <tr>\n",
       "      <th>15</th>\n",
       "      <td>2017-08-19</td>\n",
       "      <td>80.0</td>\n",
       "      <td>USC00514830</td>\n",
       "    </tr>\n",
       "    <tr>\n",
       "      <th>16</th>\n",
       "      <td>2017-08-19</td>\n",
       "      <td>85.0</td>\n",
       "      <td>USC00519523</td>\n",
       "    </tr>\n",
       "    <tr>\n",
       "      <th>17</th>\n",
       "      <td>2017-08-19</td>\n",
       "      <td>71.0</td>\n",
       "      <td>USC00516128</td>\n",
       "    </tr>\n",
       "    <tr>\n",
       "      <th>18</th>\n",
       "      <td>2017-08-18</td>\n",
       "      <td>80.0</td>\n",
       "      <td>USC00519397</td>\n",
       "    </tr>\n",
       "    <tr>\n",
       "      <th>19</th>\n",
       "      <td>2017-08-18</td>\n",
       "      <td>77.0</td>\n",
       "      <td>USC00514830</td>\n",
       "    </tr>\n",
       "    <tr>\n",
       "      <th>20</th>\n",
       "      <td>2017-08-18</td>\n",
       "      <td>79.0</td>\n",
       "      <td>USC00519281</td>\n",
       "    </tr>\n",
       "    <tr>\n",
       "      <th>21</th>\n",
       "      <td>2017-08-18</td>\n",
       "      <td>76.0</td>\n",
       "      <td>USC00516128</td>\n",
       "    </tr>\n",
       "    <tr>\n",
       "      <th>22</th>\n",
       "      <td>2017-08-17</td>\n",
       "      <td>78.0</td>\n",
       "      <td>USC00514830</td>\n",
       "    </tr>\n",
       "    <tr>\n",
       "      <th>23</th>\n",
       "      <td>2017-08-17</td>\n",
       "      <td>83.0</td>\n",
       "      <td>USC00519523</td>\n",
       "    </tr>\n",
       "    <tr>\n",
       "      <th>24</th>\n",
       "      <td>2017-08-17</td>\n",
       "      <td>76.0</td>\n",
       "      <td>USC00519281</td>\n",
       "    </tr>\n",
       "    <tr>\n",
       "      <th>25</th>\n",
       "      <td>2017-08-17</td>\n",
       "      <td>72.0</td>\n",
       "      <td>USC00516128</td>\n",
       "    </tr>\n",
       "    <tr>\n",
       "      <th>26</th>\n",
       "      <td>2017-08-16</td>\n",
       "      <td>82.0</td>\n",
       "      <td>USC00514830</td>\n",
       "    </tr>\n",
       "    <tr>\n",
       "      <th>27</th>\n",
       "      <td>2017-08-16</td>\n",
       "      <td>79.0</td>\n",
       "      <td>USC00519523</td>\n",
       "    </tr>\n",
       "    <tr>\n",
       "      <th>28</th>\n",
       "      <td>2017-08-16</td>\n",
       "      <td>76.0</td>\n",
       "      <td>USC00519281</td>\n",
       "    </tr>\n",
       "    <tr>\n",
       "      <th>29</th>\n",
       "      <td>2017-08-16</td>\n",
       "      <td>71.0</td>\n",
       "      <td>USC00516128</td>\n",
       "    </tr>\n",
       "  </tbody>\n",
       "</table>\n",
       "</div>"
      ],
      "text/plain": [
       "         Date  Temp. Observed (DegF)      Station\n",
       "0  2017-08-23                   81.0  USC00519397\n",
       "1  2017-08-23                   82.0  USC00514830\n",
       "2  2017-08-23                   82.0  USC00519523\n",
       "3  2017-08-23                   76.0  USC00516128\n",
       "4  2017-08-22                   82.0  USC00519397\n",
       "5  2017-08-22                   82.0  USC00519523\n",
       "6  2017-08-22                   76.0  USC00516128\n",
       "7  2017-08-21                   81.0  USC00519397\n",
       "8  2017-08-21                   79.0  USC00514830\n",
       "9  2017-08-21                   82.0  USC00519523\n",
       "10 2017-08-21                   76.0  USC00516128\n",
       "11 2017-08-20                   81.0  USC00519397\n",
       "12 2017-08-20                   80.0  USC00514830\n",
       "13 2017-08-20                   78.0  USC00516128\n",
       "14 2017-08-19                   79.0  USC00519397\n",
       "15 2017-08-19                   80.0  USC00514830\n",
       "16 2017-08-19                   85.0  USC00519523\n",
       "17 2017-08-19                   71.0  USC00516128\n",
       "18 2017-08-18                   80.0  USC00519397\n",
       "19 2017-08-18                   77.0  USC00514830\n",
       "20 2017-08-18                   79.0  USC00519281\n",
       "21 2017-08-18                   76.0  USC00516128\n",
       "22 2017-08-17                   78.0  USC00514830\n",
       "23 2017-08-17                   83.0  USC00519523\n",
       "24 2017-08-17                   76.0  USC00519281\n",
       "25 2017-08-17                   72.0  USC00516128\n",
       "26 2017-08-16                   82.0  USC00514830\n",
       "27 2017-08-16                   79.0  USC00519523\n",
       "28 2017-08-16                   76.0  USC00519281\n",
       "29 2017-08-16                   71.0  USC00516128"
      ]
     },
     "execution_count": 42,
     "metadata": {},
     "output_type": "execute_result"
    }
   ],
   "source": [
    "# Create dataframe sorted by date in descending order\n",
    "desc_df = pd.DataFrame({'Date': tobs_date_list_desc_datetime, \n",
    "                   'Temp. Observed (DegF)': tobs_desc_list, 'Station': tobs_sta_desc_list})\n",
    "desc_df.head(30)"
   ]
  },
  {
   "cell_type": "code",
   "execution_count": 43,
   "metadata": {},
   "outputs": [
    {
     "data": {
      "text/plain": [
       "[('2017-08-23', 81.0),\n",
       " ('2017-08-23', 82.0),\n",
       " ('2017-08-23', 82.0),\n",
       " ('2017-08-23', 76.0),\n",
       " ('2017-08-22', 82.0)]"
      ]
     },
     "execution_count": 43,
     "metadata": {},
     "output_type": "execute_result"
    }
   ],
   "source": [
    "# Create df from query by Date in descending order\n",
    "    # Query tobs and other columns by date in descending order\n",
    "query_date_desc = session.query(Measurement.date, Measurement.tobs).\\\n",
    "    order_by(Measurement.date.desc()).all()\n",
    "query_date_desc[:5]"
   ]
  },
  {
   "cell_type": "code",
   "execution_count": 44,
   "metadata": {},
   "outputs": [
    {
     "data": {
      "text/plain": [
       "'2017-08-23'"
      ]
     },
     "execution_count": 44,
     "metadata": {},
     "output_type": "execute_result"
    }
   ],
   "source": [
    "# Save latest date into a variable and in string type\n",
    "latest_date = session.query(Measurement.date).order_by(Measurement.date.desc()).first()[0]\n",
    "latest_date"
   ]
  },
  {
   "cell_type": "code",
   "execution_count": 45,
   "metadata": {},
   "outputs": [
    {
     "name": "stdout",
     "output_type": "stream",
     "text": [
      "YY-mm-dd -> 2017-8-23.\n"
     ]
    }
   ],
   "source": [
    "yy = int(latest_date.split('-')[0]) # get the year and convert to int\n",
    "mm = int(latest_date.split('-')[1])\n",
    "dd = int(latest_date.split('-')[2])\n",
    "print(f\"YY-mm-dd -> {yy}-{mm}-{dd}.\")"
   ]
  },
  {
   "cell_type": "code",
   "execution_count": 46,
   "metadata": {},
   "outputs": [
    {
     "name": "stdout",
     "output_type": "stream",
     "text": [
      "Date 12 months back:  2016-08-23\n"
     ]
    }
   ],
   "source": [
    "# Get the date twelve months earlier using timedelta\n",
    "date_12mon_back = dt.date(yy, mm, dd) - dt.timedelta(days=365)\n",
    "print(\"Date 12 months back: \", date_12mon_back)"
   ]
  },
  {
   "cell_type": "code",
   "execution_count": 47,
   "metadata": {},
   "outputs": [
    {
     "data": {
      "text/plain": [
       "19550"
      ]
     },
     "execution_count": 47,
     "metadata": {},
     "output_type": "execute_result"
    }
   ],
   "source": [
    "len(stations)"
   ]
  },
  {
   "cell_type": "code",
   "execution_count": 48,
   "metadata": {},
   "outputs": [
    {
     "data": {
      "text/html": [
       "<div>\n",
       "<style scoped>\n",
       "    .dataframe tbody tr th:only-of-type {\n",
       "        vertical-align: middle;\n",
       "    }\n",
       "\n",
       "    .dataframe tbody tr th {\n",
       "        vertical-align: top;\n",
       "    }\n",
       "\n",
       "    .dataframe thead th {\n",
       "        text-align: right;\n",
       "    }\n",
       "</style>\n",
       "<table border=\"1\" class=\"dataframe\">\n",
       "  <thead>\n",
       "    <tr style=\"text-align: right;\">\n",
       "      <th></th>\n",
       "      <th>Date</th>\n",
       "      <th>Station</th>\n",
       "      <th>Observed Temperature (DegF)</th>\n",
       "    </tr>\n",
       "  </thead>\n",
       "  <tbody>\n",
       "    <tr>\n",
       "      <th>0</th>\n",
       "      <td>2010-01-01</td>\n",
       "      <td>USC00519397</td>\n",
       "      <td>65.0</td>\n",
       "    </tr>\n",
       "    <tr>\n",
       "      <th>1</th>\n",
       "      <td>2010-01-02</td>\n",
       "      <td>USC00519397</td>\n",
       "      <td>63.0</td>\n",
       "    </tr>\n",
       "    <tr>\n",
       "      <th>2</th>\n",
       "      <td>2010-01-03</td>\n",
       "      <td>USC00519397</td>\n",
       "      <td>74.0</td>\n",
       "    </tr>\n",
       "    <tr>\n",
       "      <th>3</th>\n",
       "      <td>2010-01-04</td>\n",
       "      <td>USC00519397</td>\n",
       "      <td>76.0</td>\n",
       "    </tr>\n",
       "    <tr>\n",
       "      <th>4</th>\n",
       "      <td>2010-01-06</td>\n",
       "      <td>USC00519397</td>\n",
       "      <td>73.0</td>\n",
       "    </tr>\n",
       "  </tbody>\n",
       "</table>\n",
       "</div>"
      ],
      "text/plain": [
       "         Date      Station  Observed Temperature (DegF)\n",
       "0  2010-01-01  USC00519397                         65.0\n",
       "1  2010-01-02  USC00519397                         63.0\n",
       "2  2010-01-03  USC00519397                         74.0\n",
       "3  2010-01-04  USC00519397                         76.0\n",
       "4  2010-01-06  USC00519397                         73.0"
      ]
     },
     "execution_count": 48,
     "metadata": {},
     "output_type": "execute_result"
    }
   ],
   "source": [
    "# Create df based on the stations data\n",
    "station_df = pd.DataFrame(stations)\n",
    "station_df.columns = ['Date', 'Station', 'Observed Temperature (DegF)']\n",
    "station_df.head()"
   ]
  },
  {
   "cell_type": "code",
   "execution_count": 59,
   "metadata": {},
   "outputs": [],
   "source": [
    "# Group by station and apply count to get unique stations\n",
    "grouped_sta_df = station_df.groupby('Station').count()\n",
    "grouped_sta_counts_df = grouped_sta_df.rename(columns={\"Date\": \"Date Counts\", \"Observed Temperature (DegF)\": \"Obs. Temp. Counts\"})"
   ]
  },
  {
   "cell_type": "code",
   "execution_count": 61,
   "metadata": {},
   "outputs": [
    {
     "data": {
      "text/html": [
       "<div>\n",
       "<style scoped>\n",
       "    .dataframe tbody tr th:only-of-type {\n",
       "        vertical-align: middle;\n",
       "    }\n",
       "\n",
       "    .dataframe tbody tr th {\n",
       "        vertical-align: top;\n",
       "    }\n",
       "\n",
       "    .dataframe thead th {\n",
       "        text-align: right;\n",
       "    }\n",
       "</style>\n",
       "<table border=\"1\" class=\"dataframe\">\n",
       "  <thead>\n",
       "    <tr style=\"text-align: right;\">\n",
       "      <th></th>\n",
       "      <th>Station</th>\n",
       "      <th>Date Counts</th>\n",
       "      <th>Obs. Temp. Counts</th>\n",
       "    </tr>\n",
       "  </thead>\n",
       "  <tbody>\n",
       "    <tr>\n",
       "      <th>0</th>\n",
       "      <td>USC00511918</td>\n",
       "      <td>1979</td>\n",
       "      <td>1979</td>\n",
       "    </tr>\n",
       "    <tr>\n",
       "      <th>1</th>\n",
       "      <td>USC00513117</td>\n",
       "      <td>2709</td>\n",
       "      <td>2709</td>\n",
       "    </tr>\n",
       "    <tr>\n",
       "      <th>2</th>\n",
       "      <td>USC00514830</td>\n",
       "      <td>2202</td>\n",
       "      <td>2202</td>\n",
       "    </tr>\n",
       "    <tr>\n",
       "      <th>3</th>\n",
       "      <td>USC00516128</td>\n",
       "      <td>2612</td>\n",
       "      <td>2612</td>\n",
       "    </tr>\n",
       "    <tr>\n",
       "      <th>4</th>\n",
       "      <td>USC00517948</td>\n",
       "      <td>1372</td>\n",
       "      <td>1372</td>\n",
       "    </tr>\n",
       "    <tr>\n",
       "      <th>5</th>\n",
       "      <td>USC00518838</td>\n",
       "      <td>511</td>\n",
       "      <td>511</td>\n",
       "    </tr>\n",
       "    <tr>\n",
       "      <th>6</th>\n",
       "      <td>USC00519281</td>\n",
       "      <td>2772</td>\n",
       "      <td>2772</td>\n",
       "    </tr>\n",
       "    <tr>\n",
       "      <th>7</th>\n",
       "      <td>USC00519397</td>\n",
       "      <td>2724</td>\n",
       "      <td>2724</td>\n",
       "    </tr>\n",
       "    <tr>\n",
       "      <th>8</th>\n",
       "      <td>USC00519523</td>\n",
       "      <td>2669</td>\n",
       "      <td>2669</td>\n",
       "    </tr>\n",
       "  </tbody>\n",
       "</table>\n",
       "</div>"
      ],
      "text/plain": [
       "       Station  Date Counts  Obs. Temp. Counts\n",
       "0  USC00511918         1979               1979\n",
       "1  USC00513117         2709               2709\n",
       "2  USC00514830         2202               2202\n",
       "3  USC00516128         2612               2612\n",
       "4  USC00517948         1372               1372\n",
       "5  USC00518838          511                511\n",
       "6  USC00519281         2772               2772\n",
       "7  USC00519397         2724               2724\n",
       "8  USC00519523         2669               2669"
      ]
     },
     "execution_count": 61,
     "metadata": {},
     "output_type": "execute_result"
    }
   ],
   "source": [
    "station_summary_df = grouped_sta_counts_df.reset_index()\n",
    "station_summary_df"
   ]
  },
  {
   "cell_type": "code",
   "execution_count": 62,
   "metadata": {},
   "outputs": [
    {
     "name": "stdout",
     "output_type": "stream",
     "text": [
      "There are 9 unique stations.\n"
     ]
    }
   ],
   "source": [
    "print(f\"There are {len(station_summary_df)} unique stations.\")"
   ]
  },
  {
   "cell_type": "code",
   "execution_count": 63,
   "metadata": {},
   "outputs": [
    {
     "data": {
      "text/html": [
       "<div>\n",
       "<style scoped>\n",
       "    .dataframe tbody tr th:only-of-type {\n",
       "        vertical-align: middle;\n",
       "    }\n",
       "\n",
       "    .dataframe tbody tr th {\n",
       "        vertical-align: top;\n",
       "    }\n",
       "\n",
       "    .dataframe thead th {\n",
       "        text-align: right;\n",
       "    }\n",
       "</style>\n",
       "<table border=\"1\" class=\"dataframe\">\n",
       "  <thead>\n",
       "    <tr style=\"text-align: right;\">\n",
       "      <th></th>\n",
       "      <th>Station</th>\n",
       "      <th>Date</th>\n",
       "      <th>Observed Temperature (DegF)</th>\n",
       "    </tr>\n",
       "  </thead>\n",
       "  <tbody>\n",
       "    <tr>\n",
       "      <th>0</th>\n",
       "      <td>USC00519281</td>\n",
       "      <td>2772</td>\n",
       "      <td>2772</td>\n",
       "    </tr>\n",
       "  </tbody>\n",
       "</table>\n",
       "</div>"
      ],
      "text/plain": [
       "       Station  Date  Observed Temperature (DegF)\n",
       "0  USC00519281  2772                         2772"
      ]
     },
     "execution_count": 63,
     "metadata": {},
     "output_type": "execute_result"
    }
   ],
   "source": [
    "# Use max method on df 'tobs' columns to get the most active station \n",
    "max_tobs = grouped_sta_df['Observed Temperature (DegF)'].max()\n",
    "max_sta_df = grouped_sta_df.loc[grouped_sta_df['Observed Temperature (DegF)'] == max_tobs]\n",
    "max_sta_df.reset_index()"
   ]
  },
  {
   "cell_type": "code",
   "execution_count": 64,
   "metadata": {},
   "outputs": [],
   "source": [
    "# Create a query for single station identified and save into a variable\n",
    "sta_USC00519281 = session.query(Measurement.date, Measurement.tobs, Measurement.station).\\\n",
    "    filter(Measurement.station == \"USC00519281\").all()"
   ]
  },
  {
   "cell_type": "code",
   "execution_count": 65,
   "metadata": {},
   "outputs": [
    {
     "data": {
      "text/plain": [
       "[('2010-01-01', 70.0, 'USC00519281'),\n",
       " ('2010-01-02', 62.0, 'USC00519281'),\n",
       " ('2010-01-03', 74.0, 'USC00519281'),\n",
       " ('2010-01-04', 75.0, 'USC00519281'),\n",
       " ('2010-01-05', 74.0, 'USC00519281')]"
      ]
     },
     "execution_count": 65,
     "metadata": {},
     "output_type": "execute_result"
    }
   ],
   "source": [
    "# View first 5 values in the list\n",
    "sta_USC00519281[:5]"
   ]
  },
  {
   "cell_type": "code",
   "execution_count": 66,
   "metadata": {},
   "outputs": [
    {
     "data": {
      "text/plain": [
       "2772"
      ]
     },
     "execution_count": 66,
     "metadata": {},
     "output_type": "execute_result"
    }
   ],
   "source": [
    "# Check the lenfth \n",
    "len(sta_USC00519281)"
   ]
  },
  {
   "cell_type": "code",
   "execution_count": 67,
   "metadata": {},
   "outputs": [
    {
     "data": {
      "text/html": [
       "<div>\n",
       "<style scoped>\n",
       "    .dataframe tbody tr th:only-of-type {\n",
       "        vertical-align: middle;\n",
       "    }\n",
       "\n",
       "    .dataframe tbody tr th {\n",
       "        vertical-align: top;\n",
       "    }\n",
       "\n",
       "    .dataframe thead th {\n",
       "        text-align: right;\n",
       "    }\n",
       "</style>\n",
       "<table border=\"1\" class=\"dataframe\">\n",
       "  <thead>\n",
       "    <tr style=\"text-align: right;\">\n",
       "      <th></th>\n",
       "      <th>Date</th>\n",
       "      <th>Temp. Observed (DegF)</th>\n",
       "      <th>Station</th>\n",
       "    </tr>\n",
       "  </thead>\n",
       "  <tbody>\n",
       "    <tr>\n",
       "      <th>0</th>\n",
       "      <td>2010-01-01</td>\n",
       "      <td>70.0</td>\n",
       "      <td>USC00519281</td>\n",
       "    </tr>\n",
       "    <tr>\n",
       "      <th>1</th>\n",
       "      <td>2010-01-02</td>\n",
       "      <td>62.0</td>\n",
       "      <td>USC00519281</td>\n",
       "    </tr>\n",
       "    <tr>\n",
       "      <th>2</th>\n",
       "      <td>2010-01-03</td>\n",
       "      <td>74.0</td>\n",
       "      <td>USC00519281</td>\n",
       "    </tr>\n",
       "    <tr>\n",
       "      <th>3</th>\n",
       "      <td>2010-01-04</td>\n",
       "      <td>75.0</td>\n",
       "      <td>USC00519281</td>\n",
       "    </tr>\n",
       "    <tr>\n",
       "      <th>4</th>\n",
       "      <td>2010-01-05</td>\n",
       "      <td>74.0</td>\n",
       "      <td>USC00519281</td>\n",
       "    </tr>\n",
       "  </tbody>\n",
       "</table>\n",
       "</div>"
      ],
      "text/plain": [
       "         Date  Temp. Observed (DegF)      Station\n",
       "0  2010-01-01                   70.0  USC00519281\n",
       "1  2010-01-02                   62.0  USC00519281\n",
       "2  2010-01-03                   74.0  USC00519281\n",
       "3  2010-01-04                   75.0  USC00519281\n",
       "4  2010-01-05                   74.0  USC00519281"
      ]
     },
     "execution_count": 67,
     "metadata": {},
     "output_type": "execute_result"
    }
   ],
   "source": [
    "# Create df based on the sta_USC00519281 station\n",
    "sta_USC00519281_df = pd.DataFrame(sta_USC00519281)\n",
    "sta_USC00519281_df.columns = ['Date', 'Temp. Observed (DegF)', 'Station']\n",
    "sta_USC00519281_df.head()"
   ]
  },
  {
   "cell_type": "code",
   "execution_count": 68,
   "metadata": {},
   "outputs": [
    {
     "data": {
      "text/plain": [
       "<matplotlib.legend.Legend at 0x7fc0b4233eb0>"
      ]
     },
     "execution_count": 68,
     "metadata": {},
     "output_type": "execute_result"
    },
    {
     "data": {
      "image/png": "[encoded data removed]",
      "text/plain": [
       "<Figure size 720x360 with 1 Axes>"
      ]
     },
     "metadata": {},
     "output_type": "display_data"
    }
   ],
   "source": [
    "# Create a histogram of the temperature frequencies for the identified station\n",
    "sta_USC00519281_df['Temp. Observed (DegF)'].hist(bins=12, xrot=0, figsize=(10,5), ec=\"k\")\n",
    "plt.title(\"Histogram of Observed Temperatures for station #USC00519281\")\n",
    "plt.xlabel(\"Temperatures ranges, DegF\")\n",
    "plt.ylabel(\"Frequency\")\n",
    "plt.legend(['Frequencies of Temp. Observed'])"
   ]
  },
  {
   "cell_type": "markdown",
   "metadata": {},
   "source": [
    "## Step 2 - Climate App"
   ]
  },
  {
   "cell_type": "code",
   "execution_count": 69,
   "metadata": {},
   "outputs": [],
   "source": [
    "# Design a Flask API based on the queries that you have just developed.\n",
    "from flask import Flask"
   ]
  },
  {
   "cell_type": "code",
   "execution_count": 72,
   "metadata": {},
   "outputs": [
    {
     "data": {
      "text/plain": [
       "[('USC00511918', 66.0),\n",
       " ('USC00513117', 67.0),\n",
       " ('USC00514830', 67.0),\n",
       " ('USC00516128', 73.0),\n",
       " ('USC00517948', 75.0),\n",
       " ('USC00518838', 72.0),\n",
       " ('USC00519281', 70.0),\n",
       " ('USC00519397', 65.0),\n",
       " ('USC00519523', 75.0)]"
      ]
     },
     "execution_count": 72,
     "metadata": {},
     "output_type": "execute_result"
    }
   ],
   "source": [
    "#tobs_count\n",
    "session.query(Measurement.station, Measurement.tobs).\\\n",
    "    group_by(Measurement.station).all()"
   ]
  },
  {
   "cell_type": "code",
   "execution_count": null,
   "metadata": {},
   "outputs": [],
   "source": []
  },
  {
   "cell_type": "code",
   "execution_count": 81,
   "metadata": {},
   "outputs": [
    {
     "data": {
      "text/plain": [
       "[('USC00511918', 1979),\n",
       " ('USC00513117', 2709),\n",
       " ('USC00514830', 2202),\n",
       " ('USC00516128', 2612),\n",
       " ('USC00517948', 1372),\n",
       " ('USC00518838', 511),\n",
       " ('USC00519281', 2772),\n",
       " ('USC00519397', 2724),\n",
       " ('USC00519523', 2669)]"
      ]
     },
     "execution_count": 81,
     "metadata": {},
     "output_type": "execute_result"
    }
   ],
   "source": [
    "# Query results for the count of observations to be used in Flask app.py\n",
    "results = session.query(Measurement.station, func.count(Measurement.tobs)).\\\n",
    "    group_by(Measurement.station).all()\n",
    "results"
   ]
  },
  {
   "cell_type": "code",
   "execution_count": 82,
   "metadata": {},
   "outputs": [
    {
     "data": {
      "text/plain": [
       "list"
      ]
     },
     "execution_count": 82,
     "metadata": {},
     "output_type": "execute_result"
    }
   ],
   "source": [
    "type(results)"
   ]
  },
  {
   "cell_type": "code",
   "execution_count": 85,
   "metadata": {},
   "outputs": [
    {
     "data": {
      "text/plain": [
       "9"
      ]
     },
     "execution_count": 85,
     "metadata": {},
     "output_type": "execute_result"
    }
   ],
   "source": [
    "len(results)"
   ]
  },
  {
   "cell_type": "code",
   "execution_count": 90,
   "metadata": {},
   "outputs": [
    {
     "name": "stdout",
     "output_type": "stream",
     "text": [
      "1979\n"
     ]
    }
   ],
   "source": [
    "print(results[0][1])"
   ]
  },
  {
   "cell_type": "code",
   "execution_count": 92,
   "metadata": {},
   "outputs": [
    {
     "data": {
      "text/plain": [
       "9"
      ]
     },
     "execution_count": 92,
     "metadata": {},
     "output_type": "execute_result"
    }
   ],
   "source": [
    "len(results)"
   ]
  },
  {
   "cell_type": "code",
   "execution_count": 97,
   "metadata": {},
   "outputs": [
    {
     "name": "stdout",
     "output_type": "stream",
     "text": [
      "1979\n",
      "2709\n",
      "2202\n",
      "2612\n",
      "1372\n",
      "511\n",
      "2772\n",
      "2724\n",
      "2669\n"
     ]
    },
    {
     "data": {
      "text/plain": [
       "2772"
      ]
     },
     "execution_count": 97,
     "metadata": {},
     "output_type": "execute_result"
    }
   ],
   "source": [
    "max_count = 0\n",
    "for i in range(len(results)):\n",
    "    print(results[i][1])\n",
    "    if results[i][1] > max_count:\n",
    "        max_count = results[i][1]\n",
    "max_count"
   ]
  },
  {
   "cell_type": "code",
   "execution_count": 79,
   "metadata": {},
   "outputs": [
    {
     "ename": "AttributeError",
     "evalue": "'Query' object has no attribute 'argmax'",
     "output_type": "error",
     "traceback": [
      "\u001b[0;31m---------------------------------------------------------------------------\u001b[0m",
      "\u001b[0;31mAttributeError\u001b[0m                            Traceback (most recent call last)",
      "\u001b[0;32m<ipython-input-79-7f29efc1cbf6>\u001b[0m in \u001b[0;36m<module>\u001b[0;34m\u001b[0m\n\u001b[1;32m      1\u001b[0m \u001b[0;31m# Query results for the count of observations to be used in Flask app.py\u001b[0m\u001b[0;34m\u001b[0m\u001b[0;34m\u001b[0m\u001b[0;34m\u001b[0m\u001b[0m\n\u001b[0;32m----> 2\u001b[0;31m \u001b[0mmax_results\u001b[0m \u001b[0;34m=\u001b[0m \u001b[0msession\u001b[0m\u001b[0;34m.\u001b[0m\u001b[0mquery\u001b[0m\u001b[0;34m(\u001b[0m\u001b[0mMeasurement\u001b[0m\u001b[0;34m.\u001b[0m\u001b[0mstation\u001b[0m\u001b[0;34m,\u001b[0m \u001b[0mfunc\u001b[0m\u001b[0;34m.\u001b[0m\u001b[0mcount\u001b[0m\u001b[0;34m(\u001b[0m\u001b[0mMeasurement\u001b[0m\u001b[0;34m.\u001b[0m\u001b[0mtobs\u001b[0m\u001b[0;34m)\u001b[0m\u001b[0;34m)\u001b[0m\u001b[0;34m.\u001b[0m\u001b[0;31m\\\u001b[0m\u001b[0;34m\u001b[0m\u001b[0;34m\u001b[0m\u001b[0m\n\u001b[0m\u001b[1;32m      3\u001b[0m     \u001b[0mgroup_by\u001b[0m\u001b[0;34m(\u001b[0m\u001b[0mMeasurement\u001b[0m\u001b[0;34m.\u001b[0m\u001b[0mstation\u001b[0m\u001b[0;34m)\u001b[0m\u001b[0;34m.\u001b[0m\u001b[0margmax\u001b[0m\u001b[0;34m(\u001b[0m\u001b[0;34m)\u001b[0m\u001b[0;34m\u001b[0m\u001b[0;34m\u001b[0m\u001b[0m\n\u001b[1;32m      4\u001b[0m \u001b[0mmax_results\u001b[0m\u001b[0;34m\u001b[0m\u001b[0;34m\u001b[0m\u001b[0m\n",
      "\u001b[0;31mAttributeError\u001b[0m: 'Query' object has no attribute 'argmax'"
     ]
    }
   ],
   "source": [
    "# Query results for the count of observations to be used in Flask app.py\n",
    "max_results = session.query(Measurement.station, func.count(Measurement.tobs)).\\\n",
    "    group_by(Measurement.station).argmax()\n",
    "max_results"
   ]
  },
  {
   "cell_type": "code",
   "execution_count": null,
   "metadata": {},
   "outputs": [],
   "source": []
  },
  {
   "cell_type": "code",
   "execution_count": null,
   "metadata": {},
   "outputs": [],
   "source": []
  },
  {
   "cell_type": "code",
   "execution_count": null,
   "metadata": {},
   "outputs": [],
   "source": []
  },
  {
   "cell_type": "code",
   "execution_count": null,
   "metadata": {},
   "outputs": [],
   "source": []
  },
  {
   "cell_type": "code",
   "execution_count": null,
   "metadata": {},
   "outputs": [],
   "source": []
  },
  {
   "cell_type": "code",
   "execution_count": null,
   "metadata": {},
   "outputs": [],
   "source": []
  },
  {
   "cell_type": "markdown",
   "metadata": {},
   "source": [
    "## Bonus Challenge Assignment"
   ]
  },
  {
   "cell_type": "code",
   "execution_count": 83,
   "metadata": {},
   "outputs": [],
   "source": [
    "# This function called `calc_temps` will accept start date and end date in the format '%Y-%m-%d' \n",
    "# and return the minimum, average, and maximum temperatures for that range of dates\n",
    "def calc_temps(start_date, end_date):\n",
    "    \"\"\"TMIN, TAVG, and TMAX for a list of dates.\n",
    "    1. Assume the input is correctly formatted to %Y-%m-%d\n",
    "    \n",
    "    Args:\n",
    "        start_date (string): A date string in the format %Y-%m-%d\n",
    "        end_date (string): A date string in the format %Y-%m-%d\n",
    "        \n",
    "    Returns:\n",
    "        TMIN, TAVE, and TMAX\n",
    "    \"\"\"\n",
    "    \n",
    "    return session.query(func.min(Measurement.tobs), func.avg(Measurement.tobs), func.max(Measurement.tobs)).\\\n",
    "        filter(Measurement.date >= start_date).filter(Measurement.date <= end_date).all()\n",
    "\n",
    "# function usage example\n",
    "# print(calc_temps('2012-02-28', '2012-03-05'))"
   ]
  },
  {
   "cell_type": "code",
   "execution_count": 84,
   "metadata": {},
   "outputs": [
    {
     "data": {
      "text/plain": [
       "[(58.0, 74.59058295964125, 87.0)]"
      ]
     },
     "execution_count": 84,
     "metadata": {},
     "output_type": "execute_result"
    }
   ],
   "source": [
    "# Use your previous function `calc_temps` to calculate the tmin, tavg, and tmax \n",
    "# for your trip using the previous year's data for those same dates.\n",
    "calc_temps(latest_twelve_months_date, latest_date)"
   ]
  },
  {
   "cell_type": "code",
   "execution_count": null,
   "metadata": {},
   "outputs": [],
   "source": [
    "# Plot the results from your previous query as a bar chart. \n",
    "# Use \"Trip Avg Temp\" as your Title\n",
    "plt.title(\"Trip Avg Temp\")"
   ]
  },
  {
   "cell_type": "code",
   "execution_count": 111,
   "metadata": {},
   "outputs": [
    {
     "name": "stdout",
     "output_type": "stream",
     "text": [
      "Min temp: 58.0, temp_avg: 74.59058295964125, temp_max: 87.0.\n"
     ]
    }
   ],
   "source": [
    "# y_axis = calc_temps\n",
    "# type(calc_temps(latest_twelve_months_date, latest_date))\n",
    "results = calc_temps(latest_twelve_months_date, latest_date)\n",
    "# print(results[0])\n",
    "#type(results[0])\n",
    "list_result = list(results[0])\n",
    "type(list_result)\n",
    "temp_min = list_result[0]\n",
    "temp_avg = list_result[1]\n",
    "temp_max = list_result[2]\n",
    "print(f\"Min temp: {temp_min}, temp_avg: {temp_avg}, temp_max: {temp_max}.\")\n",
    "# temp_df = pd.DataFrame({'Temp. Min': temp_min, 'Temp. Average': temp_avg, 'Temp. Max:' temp_max})\n",
    "# temp_df\n",
    "# split_result_string = results[0].split(',')\n",
    "# split_str = (calc_temps(latest_twelve_months_date, latest_date))[0].split(', ')\n",
    "# Use the average temperature for the y value\n",
    "# Use the peak-to-peak (tmax-tmin) value as the y error bar (yerr)"
   ]
  },
  {
   "cell_type": "code",
   "execution_count": 36,
   "metadata": {},
   "outputs": [],
   "source": [
    "# Calculate the total amount of rainfall per weather station for your trip dates using the previous year's matching dates.\n",
    "# Sort this in descending order by precipitation amount and list the station, name, latitude, longitude, and elevation\n",
    "\n"
   ]
  },
  {
   "cell_type": "code",
   "execution_count": 37,
   "metadata": {},
   "outputs": [
    {
     "data": {
      "text/plain": [
       "[(62.0, 69.15384615384616, 77.0)]"
      ]
     },
     "execution_count": 37,
     "metadata": {},
     "output_type": "execute_result"
    }
   ],
   "source": [
    "# Create a query that will calculate the daily normals \n",
    "# (i.e. the averages for tmin, tmax, and tavg for all historic data matching a specific month and day)\n",
    "\n",
    "def daily_normals(date):\n",
    "    \"\"\"Daily Normals.\n",
    "    \n",
    "    Args:\n",
    "        date (str): A date string in the format '%m-%d'\n",
    "        \n",
    "    Returns:\n",
    "        A list of tuples containing the daily normals, tmin, tavg, and tmax\n",
    "    \n",
    "    \"\"\"\n",
    "    \n",
    "    sel = [func.min(Measurement.tobs), func.avg(Measurement.tobs), func.max(Measurement.tobs)]\n",
    "    return session.query(*sel).filter(func.strftime(\"%m-%d\", Measurement.date) == date).all()\n",
    "    \n",
    "daily_normals(\"01-01\")"
   ]
  },
  {
   "cell_type": "code",
   "execution_count": 38,
   "metadata": {},
   "outputs": [],
   "source": [
    "# calculate the daily normals for your trip\n",
    "# push each tuple of calculations into a list called `normals`\n",
    "\n",
    "# Set the start and end date of the trip\n",
    "\n",
    "# Use the start and end date to create a range of dates\n",
    "\n",
    "# Stip off the year and save a list of %m-%d strings\n",
    "\n",
    "# Loop through the list of %m-%d strings and calculate the normals for each date\n"
   ]
  },
  {
   "cell_type": "code",
   "execution_count": 39,
   "metadata": {},
   "outputs": [],
   "source": [
    "# Load the previous query results into a Pandas DataFrame and add the `trip_dates` range as the `date` index\n"
   ]
  },
  {
   "cell_type": "code",
   "execution_count": 40,
   "metadata": {},
   "outputs": [],
   "source": [
    "# Plot the daily normals as an area plot with `stacked=False`\n"
   ]
  }
 ],
 "metadata": {
  "kernel_info": {
   "name": "python3"
  },
  "kernelspec": {
   "display_name": "Python [conda env:PythonData] *",
   "language": "python",
   "name": "conda-env-PythonData-py"
  },
  "language_info": {
   "codemirror_mode": {
    "name": "ipython",
    "version": 3
   },
   "file_extension": ".py",
   "mimetype": "text/x-python",
   "name": "python",
   "nbconvert_exporter": "python",
   "pygments_lexer": "ipython3",
   "version": "3.8.2"
  },
  "nteract": {
   "version": "0.12.3"
  },
  "varInspector": {
   "cols": {
    "lenName": 16,
    "lenType": 16,
    "lenVar": 40
   },
   "kernels_config": {
    "python": {
     "delete_cmd_postfix": "",
     "delete_cmd_prefix": "del ",
     "library": "var_list.py",
     "varRefreshCmd": "print(var_dic_list())"
    },
    "r": {
     "delete_cmd_postfix": ") ",
     "delete_cmd_prefix": "rm(",
     "library": "var_list.r",
     "varRefreshCmd": "cat(var_dic_list()) "
    }
   },
   "types_to_exclude": [
    "module",
    "function",
    "builtin_function_or_method",
    "instance",
    "_Feature"
   ],
   "window_display": false
  }
 },
 "nbformat": 4,
 "nbformat_minor": 2
}
